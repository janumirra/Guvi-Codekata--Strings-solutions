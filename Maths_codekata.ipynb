{
  "nbformat": 4,
  "nbformat_minor": 0,
  "metadata": {
    "colab": {
      "provenance": []
    },
    "kernelspec": {
      "name": "python3",
      "display_name": "Python 3"
    },
    "language_info": {
      "name": "python"
    }
  },
  "cells": [
    {
      "cell_type": "code",
      "execution_count": null,
      "metadata": {
        "colab": {
          "base_uri": "https://localhost:8080/"
        },
        "id": "2Knrcpj1R7iz",
        "outputId": "30b8376e-5f2b-4b66-d0f4-bae3be44648b"
      },
      "outputs": [
        {
          "output_type": "stream",
          "name": "stdout",
          "text": [
            "5 4 3 2 1 7 6 10 8 9\n",
            "1\n"
          ]
        }
      ],
      "source": [
        "#1\n",
        "#Find the minimum among 10 numbers.\n",
        "\n",
        "a=list(map(int,input().split(' ')))\n",
        "print(min(a))"
      ]
    },
    {
      "cell_type": "code",
      "source": [
        "#2\n",
        "#Assume your brother studies in class 2. He has to  complete his homework on co-primes.\n",
        "# As an elder sibling help him in finding whether the given two numbers is co-prime or not.\n",
        "\n",
        "ui=list(map(int,input().split(\" \")))[:2]\n",
        "a=ui[0]\n",
        "b=ui[1]\n",
        "factor_a=[]\n",
        "factor_b=[]\n",
        "cpn=0\n",
        "if a%2==0:\n",
        "    for i in range(2,int((a/2)+1)):\n",
        "        if a%i==0:factor_a.append(i)\n",
        "if a%2!=0:\n",
        "    for i in range(2,int((a+1)/2)):\n",
        "        if a%i==0:factor_a.append(i)\n",
        "\n",
        "if b%2==0:\n",
        "    for i in range(2,int((b/2)+1)):\n",
        "        if b%i==0:factor_b.append(i)\n",
        "if b%2!=0:\n",
        "    for i in range(2,int((b+1)/2)):\n",
        "        if b%i==0:factor_b.append(i)\n",
        "        \n",
        "for j in factor_b:\n",
        "    if j==a:cpn=cpn+1\n",
        "\n",
        "if cpn==0:print(1)\n",
        "else:print(0)"
      ],
      "metadata": {
        "colab": {
          "base_uri": "https://localhost:8080/"
        },
        "id": "ec3N1SILOfXB",
        "outputId": "d3b34cbc-0276-4b30-dda5-c03c392834d2"
      },
      "execution_count": 1,
      "outputs": [
        {
          "output_type": "stream",
          "name": "stdout",
          "text": [
            "3 5\n",
            "1\n"
          ]
        }
      ]
    },
    {
      "cell_type": "code",
      "source": [
        "#3\n",
        "#boy rolls an unbiased die until he gets ‘1’. You are given a number n find the\n",
        "# total sum of probability that he will get ‘1’ on or before nth trial.(Probability of getting \n",
        "#1 at 1 time + probability of getting 1 at 2 trial….+probability of getting 1 at nth trial)\n"
      ],
      "metadata": {
        "id": "NrOYlI7wSd9t"
      },
      "execution_count": null,
      "outputs": []
    },
    {
      "cell_type": "code",
      "source": [
        "#4\n",
        "#You are given a set of numbers, out of which you have to tell which of them are finest. A finest number ‘n’ is a number which is formed by a number ‘t’ such that\n",
        "#n=t^3+(t+1)^3\n",
        "#t is a natural number\n",
        "\n",
        "def cubes_within_range(num):\n",
        "    cubes=[]\n",
        "    for j in range(1, num//3):\n",
        "       if j**3 <=num:cubes.append(j**3)\n",
        "    return cubes\n",
        "        \n",
        "        \n",
        "        \n",
        "z=int(input())\n",
        "a=list(map(int,input().split(\" \")))[:z]\n",
        "m=max(a)\n",
        "cubeslist=cubes_within_range(m)\n",
        "\n",
        "zs_series=list(map(lambda i:cubeslist[i]+cubeslist[i+1],range(len(cubeslist)-1)))\n",
        "zs=[]\n",
        "#zs=zs.sort()\n",
        "for i in a:\n",
        "    if i in zs_series:zs.append(i)\n",
        "if zs!=[]:ans=sorted(zs);print(*ans)\n",
        "else:print(\"-1\")\n"
      ],
      "metadata": {
        "colab": {
          "base_uri": "https://localhost:8080/"
        },
        "id": "GzwH6iHyO1Pa",
        "outputId": "86e6d9d6-104c-457a-cfb0-bb56423d5452"
      },
      "execution_count": 2,
      "outputs": [
        {
          "output_type": "stream",
          "name": "stdout",
          "text": [
            "2\n",
            "1729 189\n",
            "189 1729\n"
          ]
        }
      ]
    },
    {
      "cell_type": "code",
      "source": [
        "#5\n",
        "#You are given a number ‘n’. You have to tell whether a number is great or not. A great number\n",
        "# is a number whose sum of digits let (m) and product of digits let(j) when summed together gives the number back\n",
        "\n",
        "#m+j=n\n",
        "\n",
        "n=input()\n",
        "digits=[int(x) for x in n]\n",
        "def mul(x,y):\n",
        " return(x*y)\n",
        "m=sum(digits)\n",
        "j=mul(digits[0],digits[1])\n",
        "G=m+j\n",
        "if (G==int(n)):print(\"Great\")\n",
        "else:print(\"no\")"
      ],
      "metadata": {
        "colab": {
          "base_uri": "https://localhost:8080/"
        },
        "id": "1WnP0OkCO1ZA",
        "outputId": "0b400cd4-9497-4a5e-fdd6-87c31a7db269"
      },
      "execution_count": 3,
      "outputs": [
        {
          "output_type": "stream",
          "name": "stdout",
          "text": [
            "59\n",
            "Great\n"
          ]
        }
      ]
    },
    {
      "cell_type": "code",
      "source": [
        "#6\n",
        "#In XYZ country there is rule that car’s engine no. depends upon car’ number plate. Engine no is sum of all the \n",
        "#integers present on car’s Number plate.The issuing authority has hired you in order to provide engine no. to the cars.\n",
        "#Your task is to develop an algorithm which takes input as in form of string(Number plate) and gives back\n",
        "\n",
        "#Engine number.\n",
        "\n",
        "a=[str(A) for A in input()]\n",
        "N=\"0123456789\"\n",
        "n=[str(s) for s in N]\n",
        "I=0\n",
        "for i in a:\n",
        "    if n.count(i)!=0:\n",
        "        I=I+int(i)\n",
        "print(I) \n"
      ],
      "metadata": {
        "colab": {
          "base_uri": "https://localhost:8080/"
        },
        "id": "WR_oDp10P7yl",
        "outputId": "49fcbead-ed39-480f-a00a-4e70db79b2c9"
      },
      "execution_count": 4,
      "outputs": [
        {
          "output_type": "stream",
          "name": "stdout",
          "text": [
            "HR05-AA-2669\n",
            "28\n"
          ]
        }
      ]
    },
    {
      "cell_type": "code",
      "source": [
        "#7\n",
        "#Given 3 numbers a,b,c print a*b mod c.\n",
        "\n",
        "n=list(map(int,input().split()))\n",
        "result=(n[0]*n[1])%n[2]\n",
        "print(result)"
      ],
      "metadata": {
        "colab": {
          "base_uri": "https://localhost:8080/"
        },
        "id": "5_5O0zLSP73e",
        "outputId": "ceda99df-5114-468d-e9ce-15ad2a64ed75"
      },
      "execution_count": 5,
      "outputs": [
        {
          "output_type": "stream",
          "name": "stdout",
          "text": [
            "5 3 2\n",
            "1\n"
          ]
        }
      ]
    },
    {
      "cell_type": "code",
      "source": [
        "#8\n",
        "#You are an employee of ‘Rox Travel’ channel.The channel has decided to give allowances to some customer who satisfy these conditions. The conditions are:\n",
        "#The customer should be born on or before july 22 1987\n",
        "#The month of D.O.B month should be of 31 days.\n",
        "#You are given with the D.O.B of all the employees.Your task is to print the employee index who are having chance to avail special offer.\n",
        "#Input Description:\n",
        "#First line contains the number of employee.Next line contains an array of D.O.B of employees\n",
        "\n",
        "n=int(input()) \n",
        "arr=(input().split(\" \"))[:(n*3)] \n",
        "D=[]\n",
        "M=[]\n",
        "Y=[]\n",
        "Larr=[]\n",
        "for i in range(len(arr)):Larr.append(len(arr[i]))\n",
        "\n",
        "#for finding list of month\n",
        "i=1\n",
        "while (i<(n*3)):\n",
        "  M.append(arr[i].lower())\n",
        "  i+=3\n",
        " \n",
        "#for finding list of Dates and years\n",
        "for i in range(len(arr)):\n",
        "  if (Larr[i]<=2):\n",
        "    D.append(arr[i])\n",
        "  elif(Larr[i]==4) and (arr[i].isnumeric()) :\n",
        "    Y.append(arr[i])\n",
        "\n",
        "\n",
        "valid_index=[]\n",
        "M31=[\"january\",\"march\",\"may\",\"july\",\"august\",\"october\",\"december\"]\n",
        "M31spl=[\"january\",\"march\",\"may\"]\n",
        "\n",
        "\n",
        "for i in range(n):\n",
        "    if Y[i]==\"1987\"  and M31spl.count(M[i])==1 and D[i]<=\"31\":valid_index.append(i+1)\n",
        "    if Y[i]==\"1987\"  and M[i]==\"july\" and D[i]<\"23\" :valid_index.append(i+1)\n",
        "    if Y[i]<=\"1986\"  and M31.count(M[i])==1 :valid_index.append(i+1)\n",
        "    if Y[i]>=\"1988\": continue  \n",
        "newindex=list(set(valid_index))  \n",
        "print(*newindex)"
      ],
      "metadata": {
        "colab": {
          "base_uri": "https://localhost:8080/"
        },
        "id": "62CqVQcNP767",
        "outputId": "4fa0e530-30a5-4646-e566-11ce61bd72cb"
      },
      "execution_count": 6,
      "outputs": [
        {
          "output_type": "stream",
          "name": "stdout",
          "text": [
            "4\n",
            "23 MARCH 1996 23 MARCH 1986 22 JULY 1987 23 APRIL 1987\n",
            "2 3\n"
          ]
        }
      ]
    },
    {
      "cell_type": "code",
      "source": [
        "#9\n",
        "#A person saves his monthly saving according to given schema. He saves same amount of\n",
        "# money which is equal to the money saved in immediate previous two months. \n",
        "#Assume, initially he saved 1000 rupees and in first month he saved another 1000.\n",
        "# Your task is to tell how much he had totally saved at the end of ‘n’ months\n",
        "\n",
        "n=int(input())\n",
        "t=1000\n",
        "for i in range(n+1):\n",
        "    i=i*1000\n",
        "    t=t+i\n",
        "print(t)"
      ],
      "metadata": {
        "colab": {
          "base_uri": "https://localhost:8080/"
        },
        "id": "dy1EgzkFG0fK",
        "outputId": "0bd77987-0af0-4d24-ef85-988f7c08f433"
      },
      "execution_count": null,
      "outputs": [
        {
          "output_type": "stream",
          "name": "stdout",
          "text": [
            "4\n",
            "11000\n"
          ]
        }
      ]
    },
    {
      "cell_type": "code",
      "source": [
        "#10\n",
        "#Given a number N, print yes if the number is a multiple of 7 else print\n",
        "\n",
        "n=int(input())\n",
        "if n%7==0:print(\"yes\")\n",
        "else:print(\"no\")"
      ],
      "metadata": {
        "colab": {
          "base_uri": "https://localhost:8080/"
        },
        "id": "d7jTw-FdHIJM",
        "outputId": "6c360840-350c-493d-9c69-15dade24f3c7"
      },
      "execution_count": null,
      "outputs": [
        {
          "output_type": "stream",
          "name": "stdout",
          "text": [
            "63\n",
            "yes\n"
          ]
        }
      ]
    },
    {
      "cell_type": "code",
      "source": [
        "#11\n",
        "#You are given an array of numbers. Print the least occurring element. If there is more than 1 element print all of them in decreasing order of their value.\n",
        "\n",
        "n=int(input())\n",
        "l=list(map(int,input().split()))[:n]\n",
        "result=[]\n",
        "for i in l:\n",
        "        if l.count(i)==1: result.append(i)\n",
        "ans=(sorted(result,reverse=True))\n",
        "print(*ans)\n"
      ],
      "metadata": {
        "colab": {
          "base_uri": "https://localhost:8080/"
        },
        "id": "3Fo-33g7P7-i",
        "outputId": "d0e87488-0cec-4f80-e5c9-5632c908bede"
      },
      "execution_count": 7,
      "outputs": [
        {
          "output_type": "stream",
          "name": "stdout",
          "text": [
            "9\n",
            "1 6 4 56 56 56 6 4 2\n",
            "2 1\n"
          ]
        }
      ]
    },
    {
      "cell_type": "code",
      "source": [
        "# 12\n",
        "# You are given with a number ‘n’. You have to count the pair of two numbers a and b such that sum of two numbers are equal to n.\n",
        "# Note:Both numbers lie in range 1<=a,b<n\n",
        "\n",
        "a=int(input())\n",
        "b=list(range(1,a+1))\n",
        "c=list(range(1,a+1))\n",
        "co=0\n",
        "for i in b:\n",
        "  for j in c:\n",
        "    if (i+j)==a:\n",
        "      co=co+1\n",
        "print(co)"
      ],
      "metadata": {
        "colab": {
          "base_uri": "https://localhost:8080/"
        },
        "id": "qRgOkSP7T15B",
        "outputId": "e66bfbc5-d651-44e3-b6d8-4f8013844322"
      },
      "execution_count": 8,
      "outputs": [
        {
          "output_type": "stream",
          "name": "stdout",
          "text": [
            "5\n",
            "4\n"
          ]
        }
      ]
    },
    {
      "cell_type": "code",
      "source": [
        "#13\n",
        "#You are provided with a number ’n’. Your task is to tell whether that number is saturated. A saturated number is a number which is made by exactly two digits.\n",
        "\n",
        "n=input()\n",
        "N=[str(i) for i in n]\n",
        "a=N[0]\n",
        "b=\"\"\n",
        "B=\"\"\n",
        "c=len(N)\n",
        "for i in N[1:]:\n",
        "        if (i!=N[0]):\n",
        "          b=b+str(i)\n",
        "        elif(i==N[0]):\n",
        "          a=a+str(i)\n",
        "L=list(map(int,b))\n",
        "l=len(L)\n",
        "for j in L[0:]:\n",
        "  \n",
        "  if (j==L[0]):\n",
        "    B=B+str(j)\n",
        "   \n",
        "\n",
        "if (len(b)==len(B)) and (len(a)+len(b)==c):\n",
        "  print(\"Saturated\")\n",
        "else:print(\"Unsaturated\")"
      ],
      "metadata": {
        "colab": {
          "base_uri": "https://localhost:8080/"
        },
        "id": "h1HDLk6CXedO",
        "outputId": "da48ee96-a863-480d-d58a-33326e15dd58"
      },
      "execution_count": 17,
      "outputs": [
        {
          "output_type": "stream",
          "name": "stdout",
          "text": [
            "121\n",
            "Saturated\n"
          ]
        }
      ]
    },
    {
      "cell_type": "code",
      "source": [
        "# 14\n",
        "# Given 3 numbers N , L and R. Print 'yes' if N is between L and R else print 'no'.\n",
        "\n",
        "n=int(input())\n",
        "l,r = map(int,input().split(' '))\n",
        "if (l<n<r):print(\"yes\")\n",
        "else:print(\"no\")"
      ],
      "metadata": {
        "colab": {
          "base_uri": "https://localhost:8080/"
        },
        "id": "41szCZYjVFkX",
        "outputId": "8f2b011d-2aed-40c3-fa1b-3682252f7320"
      },
      "execution_count": 10,
      "outputs": [
        {
          "output_type": "stream",
          "name": "stdout",
          "text": [
            "3\n",
            "2 6\n",
            "yes\n"
          ]
        }
      ]
    },
    {
      "cell_type": "code",
      "source": [
        "#15\n",
        "#In a firm there is an intelligent employee. He said that he will not work on all those days which has factors more than 2.\n",
        "# You are given with month and year calculate the no of working days of employee.\n",
        "\n",
        "l=list(map(str,input().split()))\n",
        "\n",
        "\n",
        "M31=[\"january\",\"march\",\"may\",\"july\",\"august\",\"october\",\"december\"]\n",
        "M30=[\"april\",\"june\",\"september\",\"november\"]\n",
        "R=0\n",
        "\n",
        "if  M30.count(l[0].lower())==1:R=R+30\n",
        "if M31.count(l[0].lower())==1:R=R+31\n",
        "if l[0].lower()==\"february\" and int(l[1])%4==0  :R=R+29\n",
        "if l[0].lower()==\"february\" and int(l[1])%4!=0  :R=R+28\n",
        "print(R)\n",
        "\n",
        "primenos=[2]\n",
        "for i in range(3,R+1,2):\n",
        "    factors=[]\n",
        "    for j in range(1,i+1):\n",
        "        if i%j==0:factors.append(j)\n",
        "    if len(factors)==2: primenos.append(i)\n",
        "print(\"factors : \",factors)        \n",
        "print(\"primenos : \",primenos)\n",
        "print(len(primenos))"
      ],
      "metadata": {
        "colab": {
          "base_uri": "https://localhost:8080/"
        },
        "id": "AKwmoeo1iiPM",
        "outputId": "93431c11-5b26-44c1-e461-57f539fa1412"
      },
      "execution_count": null,
      "outputs": [
        {
          "output_type": "stream",
          "name": "stdout",
          "text": [
            "february 2020\n",
            "29\n",
            "factors :  [1, 29]\n",
            "primenos :  [2, 3, 5, 7, 11, 13, 17, 19, 23, 29]\n",
            "10\n"
          ]
        }
      ]
    },
    {
      "cell_type": "code",
      "source": [
        "#16\n",
        "#Given a number N, find the nearest greater multiple of 10.\n",
        "\n",
        "n=int(input())\n",
        "list_of_10s=list(map(lambda i:i*10, range(0,(n//10)+2)))\n",
        "ans=[]\n",
        "for i in list_of_10s:\n",
        "    if i>n:ans.append(i)\n",
        "    if ans!=[]:break\n",
        "   \n",
        "print(*ans)"
      ],
      "metadata": {
        "colab": {
          "base_uri": "https://localhost:8080/"
        },
        "id": "yHTAgef1VFnQ",
        "outputId": "f2317e8b-faac-435c-e053-d9bf6ac9a3be"
      },
      "execution_count": 11,
      "outputs": [
        {
          "output_type": "stream",
          "name": "stdout",
          "text": [
            "3\n",
            "10\n"
          ]
        }
      ]
    },
    {
      "cell_type": "code",
      "source": [
        "#17\n",
        "#You are given a task to tell whether the number is pure or not. A pure number is a number whose sum of digits is multiple of 3.\n",
        "\n",
        "l=[int(x) for x in input()]\n",
        "if sum(l)%3==0:print(\"yes\")\n",
        "else:print(\"not\")"
      ],
      "metadata": {
        "colab": {
          "base_uri": "https://localhost:8080/"
        },
        "id": "kEBGY40wVFrQ",
        "outputId": "300506f7-d7d7-4598-eaa9-998015a217c4"
      },
      "execution_count": 12,
      "outputs": [
        {
          "output_type": "stream",
          "name": "stdout",
          "text": [
            "13\n",
            "not\n"
          ]
        }
      ]
    },
    {
      "cell_type": "code",
      "source": [
        "#18\n",
        "# Given a number N, print the odd digits in the number(space seperated) or print -1 if there is no odd digit in the given number.\n",
        "# Input Size : N <= 100000\n",
        "\n",
        "l=[int(x) for x in input()]\n",
        "ans=[]\n",
        "for i in l:\n",
        "    if i%2!=0:ans.append(i)\n",
        "if ans!=[]:print(*ans)\n",
        "else:print(\"-1\")\n"
      ],
      "metadata": {
        "colab": {
          "base_uri": "https://localhost:8080/"
        },
        "id": "JeJpMzt5VFui",
        "outputId": "6c10e6a4-6e38-45a4-89a6-16f31617231e"
      },
      "execution_count": 13,
      "outputs": [
        {
          "output_type": "stream",
          "name": "stdout",
          "text": [
            "2143\n",
            "1 3\n"
          ]
        }
      ]
    },
    {
      "cell_type": "code",
      "source": [
        "#19\n",
        "#You are given a large number made of only 0’s and 1’s.Your task is to find the max no of consecutive 1’s. If there are no 1’s print -1\n"
      ],
      "metadata": {
        "id": "F5THWTYHWBdi"
      },
      "execution_count": null,
      "outputs": []
    },
    {
      "cell_type": "code",
      "source": [
        "# 20\n",
        "# Simi is learning about palindromic numbers. \n",
        "# Her teacher gave him the task to count all palindromic numbers present in that range.\n",
        "# Simi has told you about this and want your help. You design an algorithm in order to help simi.\n"
      ],
      "metadata": {
        "id": "jLI5ZgfAWBhF"
      },
      "execution_count": null,
      "outputs": []
    },
    {
      "cell_type": "code",
      "source": [
        "# 21\n",
        "# Pk finds it difficult to judge the minimum element in the list of elements given to him. Your task is to develop the algorithm in order to find the minimum element.\n",
        "# Note:Don’t use sorting\n",
        "\n",
        "n=int(input())  \n",
        "nums=list(map(int,input().split(\" \")))[:n]\n",
        "print(min(nums))"
      ],
      "metadata": {
        "colab": {
          "base_uri": "https://localhost:8080/"
        },
        "id": "ehawzemHWhcc",
        "outputId": "01586f4e-999d-46f7-8563-62de8eb2cc04"
      },
      "execution_count": 14,
      "outputs": [
        {
          "output_type": "stream",
          "name": "stdout",
          "text": [
            "5\n",
            "3 4 9 1 6\n",
            "1\n"
          ]
        }
      ]
    },
    {
      "cell_type": "code",
      "source": [
        "#22\n",
        "#Given 2 numbers N,M. Print 'yes' if their product is a perfect square else print 'no'.\n",
        "\n",
        "a=input().split(' ')[:2]\n",
        "n=int(a[0])\n",
        "k=int(a[1])\n",
        "if (n==k):\n",
        " print(\"yes\")\n",
        "else: print(\"no\")"
      ],
      "metadata": {
        "colab": {
          "base_uri": "https://localhost:8080/"
        },
        "id": "8i6ikTFXW4G4",
        "outputId": "20fe8f40-5d0a-45aa-f767-896fb530f49f"
      },
      "execution_count": 15,
      "outputs": [
        {
          "output_type": "stream",
          "name": "stdout",
          "text": [
            "5 5\n",
            "yes\n"
          ]
        }
      ]
    },
    {
      "cell_type": "code",
      "source": [
        "# 23\n",
        "# You are given an array of non-negative integers representing height of walls at index i as Ai\n",
        "#  and the width of each block is 1. Compute how much air can be encapsulated between the walls of chamber.\n",
        "\n",
        "n=int(input())\n",
        "arr1=list(map(int,input().split(\" \")))[:n]\n",
        "arr2=sorted(arr1,reverse=True)\n",
        "#M1=max index, M2=2nd max\n",
        "M1_index=arr1.index(arr2[0])\n",
        "M2_index=arr1.index(arr2[1])\n",
        "if M1_index>M2_index:\n",
        "    arr3=arr1[M2_index:M1_index+1]\n",
        "    diff=0\n",
        "    for i in range(1,len(arr3)-1):\n",
        "        dif_i=arr3[0]-arr3[i]\n",
        "        diff+=dif_i\n",
        "else:\n",
        "    arr3=arr1[M1_index:M2_index+1]\n",
        "    diff=0\n",
        "    for i in range(1,len(arr3)-1):\n",
        "        dif_i=arr3[0]-arr3[i]\n",
        "        diff+=dif_i\n",
        "print(abs(diff))"
      ],
      "metadata": {
        "colab": {
          "base_uri": "https://localhost:8080/"
        },
        "id": "Ia4Yn47rW4KL",
        "outputId": "b0a20d16-736a-4883-b910-be704980e890"
      },
      "execution_count": 16,
      "outputs": [
        {
          "output_type": "stream",
          "name": "stdout",
          "text": [
            "3\n",
            "7 4 9\n",
            "3\n"
          ]
        }
      ]
    },
    {
      "cell_type": "code",
      "source": [
        "# 24\n",
        "# You are given with a string which comprises of some numbers. Your task is to find the largest integer by converting the string to the corresponding integer.\n",
        "\n",
        "import re\n",
        "string=[str(x) for x in input()]\n",
        "newstring=\"\"\n",
        "for i in range(len(string)):\n",
        "    string[i] = re.sub(r\"\\W\", \" \", string[i])\n",
        "    newstring=newstring+string[i]\n",
        "n=newstring.split(\" \")\n",
        "num=[]\n",
        "for i in n:\n",
        "    if i.isnumeric():num.append(int(i))\n",
        "\n",
        "print(max(num))\n",
        "    "
      ],
      "metadata": {
        "colab": {
          "base_uri": "https://localhost:8080/"
        },
        "id": "JMoZn8HtW4c4",
        "outputId": "af494f8a-6aef-4efe-c6f1-4ac7571603d3"
      },
      "execution_count": 18,
      "outputs": [
        {
          "output_type": "stream",
          "name": "stdout",
          "text": [
            " I was born on 12 october 1998.\n",
            "1998\n"
          ]
        }
      ]
    },
    {
      "cell_type": "code",
      "source": [
        "# 25\n",
        "# Shreya is a brilliant girl. She likes to memorize the numbers. These numbers will be shown to her. As an examiner develop an algorithm to test her memory.\n",
        "\n",
        "# CONSTRAINTS\n",
        "# 1<=Y,N,T<=1000\n",
        "\n",
        "# Input Description:\n",
        "# First line contains no. of test cases(Y). Next line contains a number N. Next line contains n space separated numbers Next line contains a number T denoting\n",
        "#  the number of questions asked from you regarding the given array. Next line contains T space separated numbers. \n",
        "\n",
        "n=int(input())\n",
        "ui_n=list(map(int, input().split(\" \")))[:n]\n",
        "t=int(input())\n",
        "ui_t=list(map(int, input().split(\" \")))[:t]\n",
        "result=[]\n",
        "for i in range(t):\n",
        "    if ui_t[i] in ui_n:\n",
        "        count=ui_n.count(ui_t[i])\n",
        "        result.append(count)\n",
        "    else:result.append(\"Not Present\")\n",
        "print(*result)"
      ],
      "metadata": {
        "colab": {
          "base_uri": "https://localhost:8080/"
        },
        "id": "YimoOn_SW4jH",
        "outputId": "bc0e1871-677f-4227-d525-2068aab8ca88"
      },
      "execution_count": 19,
      "outputs": [
        {
          "output_type": "stream",
          "name": "stdout",
          "text": [
            "10\n",
            "1 1 1 2 2 2 3 8 9 7\n",
            "5\n",
            "1 2 3 0 5\n",
            "3 3 1 Not Present Not Present\n"
          ]
        }
      ]
    },
    {
      "cell_type": "code",
      "source": [
        "# 26\n",
        "# Given a number N, print the product of the digits.\n",
        "\n",
        "digits=[int(i) for i in input()]\n",
        "pdt_ans=1\n",
        "for i in digits:\n",
        "    pdt_ans=pdt_ans*i\n",
        "print(pdt_ans)"
      ],
      "metadata": {
        "colab": {
          "base_uri": "https://localhost:8080/"
        },
        "id": "FJxgixOFW4nd",
        "outputId": "44a5c490-99cc-468d-da94-cb492be29bc6"
      },
      "execution_count": 20,
      "outputs": [
        {
          "output_type": "stream",
          "name": "stdout",
          "text": [
            "2143\n",
            "24\n"
          ]
        }
      ]
    },
    {
      "cell_type": "code",
      "source": [
        "# 27\n",
        "# Write a program to print the sum of the first K natural numbers.\n",
        "\n",
        "a=int(input())\n",
        "b=0\n",
        "for i in range(1,a+1):\n",
        "  b=b+i\n",
        "print(b)"
      ],
      "metadata": {
        "colab": {
          "base_uri": "https://localhost:8080/"
        },
        "id": "y03G9V2iYnLA",
        "outputId": "a2e01fb0-433f-47cb-8051-b35563d14d68"
      },
      "execution_count": 21,
      "outputs": [
        {
          "output_type": "stream",
          "name": "stdout",
          "text": [
            "3\n",
            "6\n"
          ]
        }
      ]
    },
    {
      "cell_type": "code",
      "source": [
        "# 28\n",
        "# In a world cup tournament,no of goals scored by each team is given to you. Your task is to calculate net goal rate of each team.\n",
        "# Net goal rate of team is calculated\n",
        "# No of goals(team)- sum of(no of goals by last 3 teams)\n",
        "\n",
        "n=int(input())\n",
        "goals=list(map(int,input().split(\" \")))[:n]\n",
        "sumgoal_3teams=sum(goals[-3:])\n",
        "ans=[goals[i]-sumgoal_3teams for i in range(n)]\n",
        "print(*ans)"
      ],
      "metadata": {
        "colab": {
          "base_uri": "https://localhost:8080/"
        },
        "id": "Pcj6iZ5pYnOq",
        "outputId": "6303e195-3592-4a6d-94c1-56190532f624"
      },
      "execution_count": 22,
      "outputs": [
        {
          "output_type": "stream",
          "name": "stdout",
          "text": [
            "5\n",
            "95 85 75 12 11\n",
            "-3 -13 -23 -86 -87\n"
          ]
        }
      ]
    },
    {
      "cell_type": "code",
      "source": [
        "#29\n",
        "#you are given with ‘arasu’ series(shown in example).You have to understand it and you will be given a number ‘n’ ,you have to print the series till n numbers.\n",
        "\n",
        "n=int(input())\n",
        "initial_value=1\n",
        "output=[]\n",
        "i=1\n",
        "while i<n*2:\n",
        "    new_value=initial_value+i\n",
        "    output.append(new_value)\n",
        "    initial_value=new_value\n",
        "    i+=2\n",
        "print(*output)"
      ],
      "metadata": {
        "colab": {
          "base_uri": "https://localhost:8080/"
        },
        "id": "2_svNrPkYnS2",
        "outputId": "c70d58ea-5baf-415c-82e4-3bd10f7050d5"
      },
      "execution_count": 23,
      "outputs": [
        {
          "output_type": "stream",
          "name": "stdout",
          "text": [
            "4\n",
            "2 5 10 17\n"
          ]
        }
      ]
    },
    {
      "cell_type": "code",
      "source": [
        "# 30\n",
        "# Given 2 numbers N,M. Find their difference and check whether it is even or odd.\n",
        "\n",
        "n,m=list(map(int,input().split(\" \")))[:2]\n",
        "diff=abs(n-m)\n",
        "if diff%2==0:print(\"even\")\n",
        "else:print(\"odd\")"
      ],
      "metadata": {
        "colab": {
          "base_uri": "https://localhost:8080/"
        },
        "id": "xxloq03NYnih",
        "outputId": "62b16461-736c-443c-8052-b33d1e136814"
      },
      "execution_count": 24,
      "outputs": [
        {
          "output_type": "stream",
          "name": "stdout",
          "text": [
            "5 5\n",
            "even\n"
          ]
        }
      ]
    },
    {
      "cell_type": "code",
      "source": [
        "# 31\n",
        "# You are given given task is to print whether array is ‘majestic’ or not.A ‘majsetic’ array is an array whose sum of first three number is equal to last three number.\n",
        "\n",
        "n=int(input())\n",
        "ui=list(map(int,input().split(\" \")))[:n]\n",
        "if sum(ui[0:3])==sum(ui[-3:]):\n",
        "    print(\"1\")\n",
        "else:print(\"0\")"
      ],
      "metadata": {
        "colab": {
          "base_uri": "https://localhost:8080/"
        },
        "id": "cSM02I-eZM9q",
        "outputId": "d898e3a5-dac5-4570-d132-0df69043a88b"
      },
      "execution_count": 25,
      "outputs": [
        {
          "output_type": "stream",
          "name": "stdout",
          "text": [
            "7\n",
            "1 2 3 4 6 0 0\n",
            "1\n"
          ]
        }
      ]
    },
    {
      "cell_type": "code",
      "source": [
        "# 32\n",
        "# Count the number of digits of a given number N.Size of the integer ranges from 1\n",
        "\n",
        "n=(input())\n",
        "print(len(n))"
      ],
      "metadata": {
        "colab": {
          "base_uri": "https://localhost:8080/"
        },
        "id": "eWeb41fdZNA0",
        "outputId": "3805177a-cb24-4282-9e45-fcb95007033d"
      },
      "execution_count": 26,
      "outputs": [
        {
          "output_type": "stream",
          "name": "stdout",
          "text": [
            "548\n",
            "3\n"
          ]
        }
      ]
    },
    {
      "cell_type": "code",
      "source": [
        "# 33\n",
        "# Given a number N, print 'yes' if it is composite else print 'no'.\n",
        "\n",
        "def odd(nu):\n",
        "    oddnum=[]\n",
        "    for i in range(1,10):\n",
        "       if i%2!=0:oddnum.append(i)\n",
        "    return oddnum\n",
        "def even(nu):\n",
        "    evennum=[]\n",
        "    for i in range(1,10):\n",
        "        if i%2==0:evennum.append(i)\n",
        "    return evennum\n",
        "O=odd(10)\n",
        "E=even(10)\n",
        "ui=int(input())\n",
        "cn=0\n",
        "if ui%2!=0:\n",
        " for i in range(len(O)):\n",
        "     \n",
        "     if ui%(O[i])==0:cn=cn+1\n",
        "if ui%2==0:cn=cn+1    \n",
        "if cn>=2:print(\"yes\")\n",
        "else:print(\"no\")"
      ],
      "metadata": {
        "colab": {
          "base_uri": "https://localhost:8080/"
        },
        "id": "rza4UTwAZNFI",
        "outputId": "25103d9e-7ae8-4946-e5ba-8a6ffd528db7"
      },
      "execution_count": 27,
      "outputs": [
        {
          "output_type": "stream",
          "name": "stdout",
          "text": [
            "123\n",
            "yes\n"
          ]
        }
      ]
    },
    {
      "cell_type": "code",
      "source": [
        "# 34\n",
        "# Ajay is given a series(In example).he gone through the series but unable to understand it properly,he has hired you.Your task\n",
        "#  is to understand the series and print the series 2,6,12,20,30... .You are given with a number ‘n’. Find the nth number of series.\n",
        "\n",
        "n=int(input())\n",
        "s=[int(i)*(i+1) for i in range(1,n+1)]\n",
        "print(s[n-1])"
      ],
      "metadata": {
        "colab": {
          "base_uri": "https://localhost:8080/"
        },
        "id": "uTxO9Hl8aJJD",
        "outputId": "13a6e78f-f950-415c-e07f-e8e50dab64be"
      },
      "execution_count": 28,
      "outputs": [
        {
          "output_type": "stream",
          "name": "stdout",
          "text": [
            "5\n",
            "30\n"
          ]
        }
      ]
    },
    {
      "cell_type": "code",
      "source": [
        "# 35\n",
        "# Given a number N, print 'yes' if it is a multiple of 13 else print 'no'.\n",
        "\n",
        "n=int(input())\n",
        "if n%13==0:print(\"yes\")\n",
        "else:print(\"no\")"
      ],
      "metadata": {
        "colab": {
          "base_uri": "https://localhost:8080/"
        },
        "id": "-n7_B3bTaJNE",
        "outputId": "4f3bbb2a-ffda-42e9-ce94-53ba4e51616c"
      },
      "execution_count": 29,
      "outputs": [
        {
          "output_type": "stream",
          "name": "stdout",
          "text": [
            "26\n",
            "yes\n"
          ]
        }
      ]
    },
    {
      "cell_type": "code",
      "source": [
        "# 36\n",
        "# Given a floating point number with 1 decimal place round it off to nearest greater integer and print it.\n",
        "\n",
        "import math\n",
        "n=float(input())\n",
        "N=math.ceil(n)\n",
        "print(N)"
      ],
      "metadata": {
        "colab": {
          "base_uri": "https://localhost:8080/"
        },
        "id": "h5jBEFDIaJRV",
        "outputId": "bcb875f9-dae7-4b31-a11a-10b32b0ec8a3"
      },
      "execution_count": 30,
      "outputs": [
        {
          "output_type": "stream",
          "name": "stdout",
          "text": [
            "2.6\n",
            "3\n"
          ]
        }
      ]
    },
    {
      "cell_type": "code",
      "source": [
        "# 37\n",
        "#  You are given a ‘true’ string. String is called true if weight of string is multiple of 8. Your task is to tell whether a string\n",
        "#  can be declared True or Not. Weight of string is the sum of ASCII value of Vowel character(s) present in the string.\n",
        "\n",
        "string=[str(x) for x in input()]\n",
        "ascii_wt=0\n",
        "vowel=\"AEIOUaeiou\"\n",
        "for i in range(len(string)):\n",
        "    if vowel.count(string[i])==1:i=ord(string[i])\n",
        "    ascii_wt=ascii_wt+i\n",
        "\n",
        "if ascii_wt%8==0:print(\"1\")\n",
        "else:print(\"0\")"
      ],
      "metadata": {
        "colab": {
          "base_uri": "https://localhost:8080/"
        },
        "id": "h5xjgvVqaJVa",
        "outputId": "825cef52-be33-43b7-c6a8-99b396c927ec"
      },
      "execution_count": 31,
      "outputs": [
        {
          "output_type": "stream",
          "name": "stdout",
          "text": [
            "raja\n",
            "0\n"
          ]
        }
      ]
    },
    {
      "cell_type": "code",
      "source": [
        "# 38\n",
        "# Sreelatha was confused with series. She is given with a number ‘n’. There is a pattern hidden the series. She has to \n",
        "# understand and print  the series till nth number by looking into example.Sreelatha \n",
        "# is confused and She hired you , you have to develop the series for sreelatha by observing the pattern from the below example.\n",
        "\n",
        "n=int(input())\n",
        "series=[1]\n",
        "for i in range(2,n+1):\n",
        "    pattern=(i**3)+series[i-2]\n",
        "    series.append(pattern)\n",
        "print(*series)"
      ],
      "metadata": {
        "colab": {
          "base_uri": "https://localhost:8080/"
        },
        "id": "sAKF28f0aJmq",
        "outputId": "d4bcdf9f-823f-4206-8335-de6a891ec45d"
      },
      "execution_count": 32,
      "outputs": [
        {
          "output_type": "stream",
          "name": "stdout",
          "text": [
            "3\n",
            "1 9 36\n"
          ]
        }
      ]
    },
    {
      "cell_type": "code",
      "source": [
        "# 39\n",
        "# Kabali is a brave warrior who with his group of young ninjas moves from one place to another to \n",
        "# fight against his opponents. Before Fighting he just calculates one thing, the difference between \n",
        "# his ninja number and the opponent's ninja number. From this difference he decides whether to fight or\n",
        "#  not. Kabali's ninja number is never greater than his opponent.\n",
        "# Input\n",
        "# The input contains two numbers in every line. These two numbers in each line denotes the number ninjas\n",
        "#  in Kabali's clan and his opponent's clan . print the absolute difference of number of ninjas between Kabali's clan and his opponent's clan. Each output should be in seperate line.\n",
        "\n",
        "n=list(map(int,(input().split())))\n",
        "L=n[0]\n",
        "R=n[1]\n",
        "D=L-R\n",
        "if (D>0):\n",
        "    print(D)\n",
        "else:  \n",
        "    D=-1*D   \n",
        "    print(D)"
      ],
      "metadata": {
        "colab": {
          "base_uri": "https://localhost:8080/"
        },
        "id": "R4KqF_97dLZm",
        "outputId": "e6fefb59-6c0e-4169-c456-d9d635015340"
      },
      "execution_count": 33,
      "outputs": [
        {
          "output_type": "stream",
          "name": "stdout",
          "text": [
            "100 200\n",
            "100\n"
          ]
        }
      ]
    },
    {
      "cell_type": "code",
      "source": [
        "# 40\n",
        "# Given a number N, print its reverse.\n",
        "\n",
        "n=input()\n",
        "ans=\"\"\n",
        "for i in range(len(n)-1,-1,-1):\n",
        "    ans+=n[i]\n",
        "    \n",
        "print(int(ans))"
      ],
      "metadata": {
        "colab": {
          "base_uri": "https://localhost:8080/"
        },
        "id": "GCf4-9aYdLdj",
        "outputId": "cbbfcf2a-7379-4bc3-c798-2f90c264e208"
      },
      "execution_count": 34,
      "outputs": [
        {
          "output_type": "stream",
          "name": "stdout",
          "text": [
            "10\n",
            "1\n"
          ]
        }
      ]
    },
    {
      "cell_type": "code",
      "source": [
        "# 41\n",
        "# Given 2 numbers N and K followed by N elements,print the number of repetition of K otherwise print '-1' if the element not found.\n",
        "\n",
        "a=input().split(' ')\n",
        "N=int(a[0])\n",
        "K=str(a[1])\n",
        "f=list(map(str,input().split(' ')))[:N]\n",
        "c=f.count(K)\n",
        "if (c==0):\n",
        "    print(\"-1\")\n",
        "else :\n",
        "    print(\"0\")"
      ],
      "metadata": {
        "colab": {
          "base_uri": "https://localhost:8080/"
        },
        "id": "xujAS6ljdLiB",
        "outputId": "ac885c43-0fa1-481b-c541-79d0f0673f28"
      },
      "execution_count": 35,
      "outputs": [
        {
          "output_type": "stream",
          "name": "stdout",
          "text": [
            "6 2\n",
            "1 2 3 5 7 8\n",
            "0\n"
          ]
        }
      ]
    },
    {
      "cell_type": "code",
      "source": [
        "# 42\n",
        "# Given a number N, print its factors.\n",
        "\n",
        "def factors(n):\n",
        "    factor=[int(i) for i in range(1,n+1) if n%i==0]\n",
        "    print(*factor)\n",
        "n=int(input())\n",
        "factors(n)\n"
      ],
      "metadata": {
        "colab": {
          "base_uri": "https://localhost:8080/"
        },
        "id": "FjFx66SydszF",
        "outputId": "709e1d4b-ba3b-4fa5-ad07-a7af12567d53"
      },
      "execution_count": 36,
      "outputs": [
        {
          "output_type": "stream",
          "name": "stdout",
          "text": [
            "6\n",
            "1 2 3 6\n"
          ]
        }
      ]
    },
    {
      "cell_type": "code",
      "source": [
        "# 43\n",
        "# Given the values of a,b and x in the equation ax + b = y. Find the value of y.\n",
        "\n",
        "a,b,x=list(map(int,input().split(\" \")))[:3]\n",
        "y=(a*x)+b\n",
        "print(y)"
      ],
      "metadata": {
        "colab": {
          "base_uri": "https://localhost:8080/"
        },
        "id": "LPaHFeR9ds2i",
        "outputId": "23c12313-a4d2-4240-d44a-e644564bb5bd"
      },
      "execution_count": 37,
      "outputs": [
        {
          "output_type": "stream",
          "name": "stdout",
          "text": [
            "3 5 2\n",
            "11\n"
          ]
        }
      ]
    },
    {
      "cell_type": "code",
      "source": [
        "# 44\n",
        "# Write a program to calculate the total surface area and volume of cuboid. Input contains three space separated positive integers L, B, H denoting the length, width and height of cuboid respectively.\n",
        "\n",
        "l,b,h=list(map(int,input().split(\" \")))[:3]\n",
        "area=2*((l*b)+(b*h)+(h*l))\n",
        "vol=l*b*h\n",
        "print(area,vol)"
      ],
      "metadata": {
        "colab": {
          "base_uri": "https://localhost:8080/"
        },
        "id": "Uy-pqMeods68",
        "outputId": "02ba0e9a-e57b-40b6-9594-8ab370abb48d"
      },
      "execution_count": 38,
      "outputs": [
        {
          "output_type": "stream",
          "name": "stdout",
          "text": [
            "1 2 3\n",
            "22 6\n"
          ]
        }
      ]
    },
    {
      "cell_type": "code",
      "source": [
        "# 45\n",
        "# Given a number N, check whether it is prime or not. Print 'yes' if it is prime else print 'no'.\n",
        "\n",
        "def factors(n):\n",
        "    factor=[int(i) for i in range(1,n+1) if n%i==0]\n",
        "    return factor\n",
        "n=int(input())\n",
        "ans=factors(n)\n",
        "if len(ans)==2 and n!=2:\n",
        "    print(\"yes\")\n",
        "else:print(\"no\")"
      ],
      "metadata": {
        "colab": {
          "base_uri": "https://localhost:8080/"
        },
        "id": "zc93XdUmezct",
        "outputId": "61776f41-4e47-4df9-d068-3691bea5871d"
      },
      "execution_count": 39,
      "outputs": [
        {
          "output_type": "stream",
          "name": "stdout",
          "text": [
            "123\n",
            "no\n"
          ]
        }
      ]
    },
    {
      "cell_type": "code",
      "source": [
        "# 46\n",
        "# Given 2 numbers N and M add both the numbers and check whether the sum is odd or even.\n",
        "\n",
        "def sum_check(list):\n",
        "    sum=0\n",
        "    for i in range(len(n)):\n",
        "        sum+=n[i]\n",
        "   \n",
        "    if sum%2==0:\n",
        "        print(\"even\")\n",
        "    else:\n",
        "        print(\"odd\")\n",
        "\n",
        "n=list(map(int,input().split(\" \")))[:2]\n",
        "\n",
        "sum_check(n)"
      ],
      "metadata": {
        "colab": {
          "base_uri": "https://localhost:8080/"
        },
        "id": "AoXqG2Zpezhj",
        "outputId": "d8966d88-a34d-4d98-ad6c-6dabfd778eed"
      },
      "execution_count": 40,
      "outputs": [
        {
          "output_type": "stream",
          "name": "stdout",
          "text": [
            "9 2\n",
            "odd\n"
          ]
        }
      ]
    },
    {
      "cell_type": "code",
      "source": [
        "# 47\n",
        "# Given a number N followed by N elements which can be arranged in ascending order with maximum one element update. Print the index of the element which has to be changed else print '-1'\n",
        "#  if the updation not neccassary or if the given input needs more than one update to form ascending order.\n",
        "\n",
        "n=int(input())\n",
        "l=list(map(int,input().split(\" \")))[:n]\n",
        "update=[]\n",
        "for i in range(n-1):\n",
        "    if l[i]>l[i+1]:\n",
        "        update.append(l[i])\n",
        "if len(update)==1:\n",
        "    print(l.index(update[0]))\n",
        "else:print(\"-1\")"
      ],
      "metadata": {
        "colab": {
          "base_uri": "https://localhost:8080/"
        },
        "id": "oIFM5iiheztW",
        "outputId": "ba1a2ca3-e1cb-490c-c263-0f59033c32ea"
      },
      "execution_count": 41,
      "outputs": [
        {
          "output_type": "stream",
          "name": "stdout",
          "text": [
            "7\n",
            "1 2 4 3 5 6 8\n",
            "2\n"
          ]
        }
      ]
    },
    {
      "cell_type": "code",
      "source": [
        "# 48\n",
        "# Given a number N, find its next immediate greater power of 2(i.e 2^1, 2^2, 2^3...).\n",
        "\n",
        "n=int(input())\n",
        "series=[2**i for i in range(1,n+1)]\n",
        "ans=0\n",
        "for i in series:\n",
        "    if n<i:\n",
        "        ans+=i\n",
        "        break\n",
        "print(ans)"
      ],
      "metadata": {
        "colab": {
          "base_uri": "https://localhost:8080/"
        },
        "id": "udgrFAxkffUQ",
        "outputId": "8ee83c1e-0e47-422f-f42d-86d79f992ff9"
      },
      "execution_count": 42,
      "outputs": [
        {
          "output_type": "stream",
          "name": "stdout",
          "text": [
            "4\n",
            "8\n"
          ]
        }
      ]
    },
    {
      "cell_type": "code",
      "source": [
        "# 49\n",
        "# Given a number N and an array of N integers, find the sum of all the negative numbers in the array.\n",
        "\n",
        "n=int(input())\n",
        "n_input=list(map(int,input().split(\" \")))[:n]\n",
        "summing=0\n",
        "for i in range(n):\n",
        "    if n_input[i]<0:\n",
        "        summing+=n_input[i]\n",
        "print(summing)"
      ],
      "metadata": {
        "colab": {
          "base_uri": "https://localhost:8080/"
        },
        "id": "x1BRpxQBffZ0",
        "outputId": "4c31ca7e-dfe1-4ada-8da5-1cd8b9806fdd"
      },
      "execution_count": 43,
      "outputs": [
        {
          "output_type": "stream",
          "name": "stdout",
          "text": [
            "2\n",
            "3 0\n",
            "0\n"
          ]
        }
      ]
    },
    {
      "cell_type": "code",
      "source": [
        "# 50\n",
        "# In \"A Mathematicians Apology\", G.H. Hardy wrote:\n",
        "# “There are just four numbers, after unity, which are the sums of the cubes of their digits”\n",
        "# Let the largest of those four numbers be X.\n",
        "# A hash function for performing separate chaining was defined as hash(n) := n mod X, where n is a whole number. Separate chaining was performed for N integers in an array A. Mrs. Leela was asked to find the number of empty chains from 0 to X-1 (both inclusive) after performing the hashing using separate chaining. Help her solve this mysterious question.\n",
        "# Separate chaining resources:\n",
        "# https://en.wikipedia.org/wiki/Hash_table#Separate_chaining_with_linked_lists\n",
        "# https://www.geeksforgeeks.org/hashing-set-2-separate-chaining/\n",
        "\n"
      ],
      "metadata": {
        "id": "eSDJwBSfffeb"
      },
      "execution_count": null,
      "outputs": []
    },
    {
      "cell_type": "code",
      "source": [
        "# 51\n",
        "# Given base(B) and height(H) of a triangle find its area.\n",
        "\n",
        "def area_of_triangle(b,h):\n",
        "    if b%2==0 and h%2==0: soln= int((1/2)*b*h)\n",
        "    else:soln=((1/2)*b*h)\n",
        "    return soln\n",
        "ui=list(map(int,input().split(\" \")))[:2]\n",
        "b=ui[0]\n",
        "h=ui[1]\n",
        "print(area_of_triangle(b,h))\n"
      ],
      "metadata": {
        "colab": {
          "base_uri": "https://localhost:8080/"
        },
        "id": "_yTIq1AlffjJ",
        "outputId": "e5abcd32-a830-474c-9f5b-e17dae8fc93c"
      },
      "execution_count": 44,
      "outputs": [
        {
          "output_type": "stream",
          "name": "stdout",
          "text": [
            "2 4\n",
            "4\n"
          ]
        }
      ]
    },
    {
      "cell_type": "code",
      "source": [],
      "metadata": {
        "id": "vQqtyIYlffnM"
      },
      "execution_count": null,
      "outputs": []
    },
    {
      "cell_type": "code",
      "source": [],
      "metadata": {
        "id": "80AUUX-cgLuG"
      },
      "execution_count": null,
      "outputs": []
    },
    {
      "cell_type": "code",
      "source": [],
      "metadata": {
        "id": "yJTeFg31gLx_"
      },
      "execution_count": null,
      "outputs": []
    },
    {
      "cell_type": "code",
      "source": [],
      "metadata": {
        "id": "b5SfljN5gL14"
      },
      "execution_count": null,
      "outputs": []
    },
    {
      "cell_type": "code",
      "source": [
        "#Your task is to tell whether numbers is co prime or not. If it is a co-prime print 1 else 0 \n",
        "ui=list(map(int,input().split(\" \")))[:2]\n",
        "a=ui[0]\n",
        "b=ui[1]\n",
        "factor_a=[]\n",
        "factor_b=[]\n",
        "cpn=0\n",
        "if a%2==0:\n",
        "    for i in range(2,int((a/2)+1)):\n",
        "        if a%i==0:factor_a.append(i)\n",
        "if a%2!=0:\n",
        "    for i in range(2,int((a+1)/2)):\n",
        "        if a%i==0:factor_a.append(i)\n",
        "\n",
        "if b%2==0:\n",
        "    for i in range(2,int((b/2)+1)):\n",
        "        if b%i==0:factor_b.append(i)\n",
        "if b%2!=0:\n",
        "    for i in range(2,int((b+1)/2)):\n",
        "        if b%i==0:factor_b.append(i)\n",
        "        \n",
        "for j in factor_b:\n",
        "    if j==a:cpn=cpn+1\n",
        "\n",
        "if cpn==0:print(1)\n",
        "else:print(0)"
      ],
      "metadata": {
        "colab": {
          "base_uri": "https://localhost:8080/"
        },
        "id": "3x7XmvPuST2m",
        "outputId": "0a263759-82bd-4644-8c7b-abe4d09c4cdc"
      },
      "execution_count": null,
      "outputs": [
        {
          "output_type": "stream",
          "name": "stdout",
          "text": [
            "3 5\n",
            "1\n"
          ]
        }
      ]
    },
    {
      "cell_type": "code",
      "source": [
        "#Given a number N, find the nearest greater multiple of 10.\n",
        "#Input Size : N <= 10000\n",
        "\n",
        "n=int(input())\n",
        "list_of_10s=list(map(lambda i:i*10, range(0,(n//10)+2)))\n",
        "ans=[]\n",
        "for i in list_of_10s:\n",
        "    if i>n:ans.append(i)\n",
        "    if ans!=[]:break\n",
        "   \n",
        "print(*ans)"
      ],
      "metadata": {
        "colab": {
          "base_uri": "https://localhost:8080/"
        },
        "id": "RnYTUyFFx217",
        "outputId": "31aabca2-b7fc-4de8-a764-55db551c2d7f"
      },
      "execution_count": null,
      "outputs": [
        {
          "output_type": "stream",
          "name": "stdout",
          "text": [
            "21\n",
            "30\n"
          ]
        }
      ]
    },
    {
      "cell_type": "code",
      "source": [
        "#pure number\n",
        "l=[int(x) for x in input()]\n",
        "print(l)\n",
        "if sum(l)%3==0:print(\"yes\")\n",
        "else:print(\"not\")"
      ],
      "metadata": {
        "colab": {
          "base_uri": "https://localhost:8080/"
        },
        "id": "dEGfYTeP0xf3",
        "outputId": "95814b7f-0e5f-4ba7-ad21-487bef3052fc"
      },
      "execution_count": null,
      "outputs": [
        {
          "output_type": "stream",
          "name": "stdout",
          "text": [
            "21\n",
            "[2, 1]\n",
            "yes\n"
          ]
        }
      ]
    },
    {
      "cell_type": "code",
      "source": [
        "#Given a number N, print the odd digits in the number(space seperated) \n",
        "#or print -1 if there is no odd digit in the given number.\n",
        "l=[int(x) for x in input()]\n",
        "ans=[]\n",
        "for i in l:\n",
        "    if i%2!=0:ans.append(i)\n",
        "if ans!=[]:print(*ans)\n",
        "else:print(\"-1\")"
      ],
      "metadata": {
        "id": "I13LJaL22VfH"
      },
      "execution_count": null,
      "outputs": []
    },
    {
      "cell_type": "code",
      "source": [
        "#multiple of 13\n",
        "n=int(input())\n",
        "if n%13==0:print(\"yes\")\n",
        "else:print(\"no\")"
      ],
      "metadata": {
        "colab": {
          "base_uri": "https://localhost:8080/"
        },
        "id": "OmAB2Bdn_nZk",
        "outputId": "a6e046e1-59b2-4456-e9c6-250c3bd6b9b6"
      },
      "execution_count": null,
      "outputs": [
        {
          "output_type": "stream",
          "name": "stdout",
          "text": [
            "26\n",
            "yes\n"
          ]
        }
      ]
    },
    {
      "cell_type": "code",
      "source": [
        "#ax + b = y. Find the value of y.\n",
        "a,b,x=list(map(int,input().split(\" \")))[:3]\n",
        "y=(a*x)+b\n",
        "print(y)"
      ],
      "metadata": {
        "colab": {
          "base_uri": "https://localhost:8080/"
        },
        "id": "gVD2UOWxMNCq",
        "outputId": "1581cdc9-c728-492f-9400-1998315a6f85"
      },
      "execution_count": null,
      "outputs": [
        {
          "output_type": "stream",
          "name": "stdout",
          "text": [
            "3 5 2\n",
            "11\n"
          ]
        }
      ]
    },
    {
      "cell_type": "code",
      "source": [
        "#area and vol of cuboid\n",
        "l,b,h=list(map(int,input().split(\" \")))[:3]\n",
        "area=2*((l*b)+(b*h)+(h*l))\n",
        "vol=l*b*h\n",
        "print(area,vol)"
      ],
      "metadata": {
        "colab": {
          "base_uri": "https://localhost:8080/"
        },
        "id": "cgaSIA-EMwpA",
        "outputId": "7449ac4b-099a-4fae-9a8d-29c1060b243a"
      },
      "execution_count": null,
      "outputs": [
        {
          "output_type": "stream",
          "name": "stdout",
          "text": [
            "1 2 3\n",
            "22 6\n"
          ]
        }
      ]
    },
    {
      "cell_type": "code",
      "source": [
        "#check for prime no.\n",
        "def factors(n):\n",
        "    factor=[int(i) for i in range(1,n+1) if n%i==0]\n",
        "    return factor\n",
        "n=int(input())\n",
        "ans=factors(n)\n",
        "if len(ans)==2 and n!=2:\n",
        "    print(\"yes\")\n",
        "else:print(\"no\")"
      ],
      "metadata": {
        "colab": {
          "base_uri": "https://localhost:8080/"
        },
        "id": "j4lJ1JonOYCQ",
        "outputId": "3c40c551-ee92-418a-8816-77747c7c63d7"
      },
      "execution_count": null,
      "outputs": [
        {
          "output_type": "stream",
          "name": "stdout",
          "text": [
            "123\n",
            "no\n"
          ]
        }
      ]
    },
    {
      "cell_type": "code",
      "source": [
        "#Print the index of the element which has to be changed else print '-1\n",
        "n=int(input())\n",
        "l=list(map(int,input().split(\" \")))[:n]\n",
        "update=[]\n",
        "for i in range(n-1):\n",
        "    if l[i]>l[i+1]:\n",
        "        update.append(l[i])\n",
        "if len(update)==1:\n",
        "    print(l.index(update[0]))\n",
        "else:print(\"-1\")"
      ],
      "metadata": {
        "colab": {
          "base_uri": "https://localhost:8080/"
        },
        "id": "gcyJDbHeUani",
        "outputId": "0d350098-ce35-4935-e7e1-848e1e689d02"
      },
      "execution_count": null,
      "outputs": [
        {
          "output_type": "stream",
          "name": "stdout",
          "text": [
            "7\n",
            "1 2 4 3 5 6 8\n",
            "2\n"
          ]
        }
      ]
    },
    {
      "cell_type": "code",
      "source": [
        "#Given a number N, find its next immediate greater power of 2(i.e 2^1, 2^2, 2^3...).\n",
        "n=int(input())\n",
        "series=[2**i for i in range(1,n+1)]\n",
        "ans=0\n",
        "for i in series:\n",
        "    if n<i:\n",
        "        ans+=i\n",
        "        break\n",
        "print(ans)"
      ],
      "metadata": {
        "colab": {
          "base_uri": "https://localhost:8080/"
        },
        "id": "Flk6QOWfWJSr",
        "outputId": "8944214e-13ce-41a2-d031-cfdc7b1c6874"
      },
      "execution_count": null,
      "outputs": [
        {
          "output_type": "stream",
          "name": "stdout",
          "text": [
            "4\n",
            "8\n"
          ]
        }
      ]
    },
    {
      "cell_type": "code",
      "source": [
        "#94 wrong LCM of elements in a list\n",
        "def gcd(a,b):\n",
        "    if a == 0:\n",
        "        return b\n",
        "    else:return gcd(b % a, a)\n",
        " \n",
        "\n",
        "def lcm(a,b):\n",
        "    return (a / gcd(a,b))* b\n",
        " \n",
        "\n",
        "n=int(input())\n",
        "val=list(map(int,input().split(\" \")))[:n]\n",
        "reduced_n=[]\n",
        "#if n%2==0 and n>2:\n",
        "i=0\n",
        "while i<(len(val)-1):\n",
        "     reduced_n.append(lcm(val[i],val[i+1]))\n",
        "     i+=2\n",
        "     \n",
        "if len(reduced_n)==2:\n",
        "    val=reduced_n\n",
        "    reduced_n.clear()\n",
        "    out=lcm(val[0],val[1])\n",
        "    print(out)\n",
        "elif len(reduced_n)==1:\n",
        "    print(int(reduced_n[0]))    \n",
        "    \n",
        "elif len(reduced_n)>2 and len(reduced_n)%2!=0:\n",
        "    val=reduced_n\n",
        "    reduced_n.clear()\n",
        "    i=0\n",
        "    while i<(len(val)-1):\n",
        "         reduced_n.append(lcm(val[i],val[i+1]))\n",
        "         i+=1\n",
        "elif len(reduced_n)>2 and len(reduced_n)%2==0:\n",
        "    val=reduced_n\n",
        "    reduced_n.clear()\n",
        "    i=0\n",
        "    while i<(len(val)-1):\n",
        "         reduced_n.append(lcm(val[i],val[i+1]))\n",
        "         i+=2         \n"
      ],
      "metadata": {
        "id": "uUOPf15GbHcS"
      },
      "execution_count": null,
      "outputs": []
    }
  ]
}