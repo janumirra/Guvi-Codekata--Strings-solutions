{
  "nbformat": 4,
  "nbformat_minor": 0,
  "metadata": {
    "colab": {
      "provenance": []
    },
    "kernelspec": {
      "name": "python3",
      "display_name": "Python 3"
    },
    "language_info": {
      "name": "python"
    }
  },
  "cells": [
    {
      "cell_type": "code",
      "execution_count": null,
      "metadata": {
        "colab": {
          "base_uri": "https://localhost:8080/"
        },
        "id": "2Knrcpj1R7iz",
        "outputId": "30b8376e-5f2b-4b66-d0f4-bae3be44648b"
      },
      "outputs": [
        {
          "output_type": "stream",
          "name": "stdout",
          "text": [
            "5 4 3 2 1 7 6 10 8 9\n",
            "1\n"
          ]
        }
      ],
      "source": [
        "#1\n",
        "#Find the minimum among 10 numbers.\n",
        "\n",
        "a=list(map(int,input().split(' ')))\n",
        "print(min(a))"
      ]
    },
    {
      "cell_type": "code",
      "source": [
        "#2\n",
        "#Assume your brother studies in class 2. He has to  complete his homework on co-primes.\n",
        "# As an elder sibling help him in finding whether the given two numbers is co-prime or not.\n",
        "\n",
        "ui=list(map(int,input().split(\" \")))[:2]\n",
        "a=ui[0]\n",
        "b=ui[1]\n",
        "factor_a=[]\n",
        "factor_b=[]\n",
        "cpn=0\n",
        "if a%2==0:\n",
        "    for i in range(2,int((a/2)+1)):\n",
        "        if a%i==0:factor_a.append(i)\n",
        "if a%2!=0:\n",
        "    for i in range(2,int((a+1)/2)):\n",
        "        if a%i==0:factor_a.append(i)\n",
        "\n",
        "if b%2==0:\n",
        "    for i in range(2,int((b/2)+1)):\n",
        "        if b%i==0:factor_b.append(i)\n",
        "if b%2!=0:\n",
        "    for i in range(2,int((b+1)/2)):\n",
        "        if b%i==0:factor_b.append(i)\n",
        "        \n",
        "for j in factor_b:\n",
        "    if j==a:cpn=cpn+1\n",
        "\n",
        "if cpn==0:print(1)\n",
        "else:print(0)"
      ],
      "metadata": {
        "colab": {
          "base_uri": "https://localhost:8080/"
        },
        "id": "ec3N1SILOfXB",
        "outputId": "d3b34cbc-0276-4b30-dda5-c03c392834d2"
      },
      "execution_count": null,
      "outputs": [
        {
          "output_type": "stream",
          "name": "stdout",
          "text": [
            "3 5\n",
            "1\n"
          ]
        }
      ]
    },
    {
      "cell_type": "code",
      "source": [
        "#3\n",
        "#boy rolls an unbiased die until he gets ‘1’. You are given a number n find the\n",
        "# total sum of probability that he will get ‘1’ on or before nth trial.(Probability of getting \n",
        "#1 at 1 time + probability of getting 1 at 2 trial….+probability of getting 1 at nth trial)\n"
      ],
      "metadata": {
        "id": "NrOYlI7wSd9t"
      },
      "execution_count": null,
      "outputs": []
    },
    {
      "cell_type": "code",
      "source": [
        "#4\n",
        "#You are given a set of numbers, out of which you have to tell which of them are finest. A finest number ‘n’ is a number which is formed by a number ‘t’ such that\n",
        "#n=t^3+(t+1)^3\n",
        "#t is a natural number\n",
        "\n",
        "def cubes_within_range(num):\n",
        "    cubes=[]\n",
        "    for j in range(1, num//3):\n",
        "       if j**3 <=num:cubes.append(j**3)\n",
        "    return cubes\n",
        "        \n",
        "        \n",
        "        \n",
        "z=int(input())\n",
        "a=list(map(int,input().split(\" \")))[:z]\n",
        "m=max(a)\n",
        "cubeslist=cubes_within_range(m)\n",
        "\n",
        "zs_series=list(map(lambda i:cubeslist[i]+cubeslist[i+1],range(len(cubeslist)-1)))\n",
        "zs=[]\n",
        "#zs=zs.sort()\n",
        "for i in a:\n",
        "    if i in zs_series:zs.append(i)\n",
        "if zs!=[]:ans=sorted(zs);print(*ans)\n",
        "else:print(\"-1\")\n"
      ],
      "metadata": {
        "colab": {
          "base_uri": "https://localhost:8080/"
        },
        "id": "GzwH6iHyO1Pa",
        "outputId": "86e6d9d6-104c-457a-cfb0-bb56423d5452"
      },
      "execution_count": null,
      "outputs": [
        {
          "output_type": "stream",
          "name": "stdout",
          "text": [
            "2\n",
            "1729 189\n",
            "189 1729\n"
          ]
        }
      ]
    },
    {
      "cell_type": "code",
      "source": [
        "#5\n",
        "#You are given a number ‘n’. You have to tell whether a number is great or not. A great number\n",
        "# is a number whose sum of digits let (m) and product of digits let(j) when summed together gives the number back\n",
        "\n",
        "#m+j=n\n",
        "\n",
        "n=input()\n",
        "digits=[int(x) for x in n]\n",
        "def mul(x,y):\n",
        " return(x*y)\n",
        "m=sum(digits)\n",
        "j=mul(digits[0],digits[1])\n",
        "G=m+j\n",
        "if (G==int(n)):print(\"Great\")\n",
        "else:print(\"no\")"
      ],
      "metadata": {
        "colab": {
          "base_uri": "https://localhost:8080/"
        },
        "id": "1WnP0OkCO1ZA",
        "outputId": "0b400cd4-9497-4a5e-fdd6-87c31a7db269"
      },
      "execution_count": null,
      "outputs": [
        {
          "output_type": "stream",
          "name": "stdout",
          "text": [
            "59\n",
            "Great\n"
          ]
        }
      ]
    },
    {
      "cell_type": "code",
      "source": [
        "#6\n",
        "#In XYZ country there is rule that car’s engine no. depends upon car’ number plate. Engine no is sum of all the \n",
        "#integers present on car’s Number plate.The issuing authority has hired you in order to provide engine no. to the cars.\n",
        "#Your task is to develop an algorithm which takes input as in form of string(Number plate) and gives back\n",
        "\n",
        "#Engine number.\n",
        "\n",
        "a=[str(A) for A in input()]\n",
        "N=\"0123456789\"\n",
        "n=[str(s) for s in N]\n",
        "I=0\n",
        "for i in a:\n",
        "    if n.count(i)!=0:\n",
        "        I=I+int(i)\n",
        "print(I) \n"
      ],
      "metadata": {
        "colab": {
          "base_uri": "https://localhost:8080/"
        },
        "id": "WR_oDp10P7yl",
        "outputId": "49fcbead-ed39-480f-a00a-4e70db79b2c9"
      },
      "execution_count": null,
      "outputs": [
        {
          "output_type": "stream",
          "name": "stdout",
          "text": [
            "HR05-AA-2669\n",
            "28\n"
          ]
        }
      ]
    },
    {
      "cell_type": "code",
      "source": [
        "#7\n",
        "#Given 3 numbers a,b,c print a*b mod c.\n",
        "\n",
        "n=list(map(int,input().split()))\n",
        "result=(n[0]*n[1])%n[2]\n",
        "print(result)"
      ],
      "metadata": {
        "colab": {
          "base_uri": "https://localhost:8080/"
        },
        "id": "5_5O0zLSP73e",
        "outputId": "ceda99df-5114-468d-e9ce-15ad2a64ed75"
      },
      "execution_count": null,
      "outputs": [
        {
          "output_type": "stream",
          "name": "stdout",
          "text": [
            "5 3 2\n",
            "1\n"
          ]
        }
      ]
    },
    {
      "cell_type": "code",
      "source": [
        "#8\n",
        "#You are an employee of ‘Rox Travel’ channel.The channel has decided to give allowances to some customer who satisfy these conditions. The conditions are:\n",
        "#The customer should be born on or before july 22 1987\n",
        "#The month of D.O.B month should be of 31 days.\n",
        "#You are given with the D.O.B of all the employees.Your task is to print the employee index who are having chance to avail special offer.\n",
        "#Input Description:\n",
        "#First line contains the number of employee.Next line contains an array of D.O.B of employees\n",
        "\n",
        "n=int(input()) \n",
        "arr=(input().split(\" \"))[:(n*3)] \n",
        "D=[]\n",
        "M=[]\n",
        "Y=[]\n",
        "Larr=[]\n",
        "for i in range(len(arr)):Larr.append(len(arr[i]))\n",
        "\n",
        "#for finding list of month\n",
        "i=1\n",
        "while (i<(n*3)):\n",
        "  M.append(arr[i].lower())\n",
        "  i+=3\n",
        " \n",
        "#for finding list of Dates and years\n",
        "for i in range(len(arr)):\n",
        "  if (Larr[i]<=2):\n",
        "    D.append(arr[i])\n",
        "  elif(Larr[i]==4) and (arr[i].isnumeric()) :\n",
        "    Y.append(arr[i])\n",
        "\n",
        "\n",
        "valid_index=[]\n",
        "M31=[\"january\",\"march\",\"may\",\"july\",\"august\",\"october\",\"december\"]\n",
        "M31spl=[\"january\",\"march\",\"may\"]\n",
        "\n",
        "\n",
        "for i in range(n):\n",
        "    if Y[i]==\"1987\"  and M31spl.count(M[i])==1 and D[i]<=\"31\":valid_index.append(i+1)\n",
        "    if Y[i]==\"1987\"  and M[i]==\"july\" and D[i]<\"23\" :valid_index.append(i+1)\n",
        "    if Y[i]<=\"1986\"  and M31.count(M[i])==1 :valid_index.append(i+1)\n",
        "    if Y[i]>=\"1988\": continue  \n",
        "newindex=list(set(valid_index))  \n",
        "print(*newindex)"
      ],
      "metadata": {
        "colab": {
          "base_uri": "https://localhost:8080/"
        },
        "id": "62CqVQcNP767",
        "outputId": "4fa0e530-30a5-4646-e566-11ce61bd72cb"
      },
      "execution_count": null,
      "outputs": [
        {
          "output_type": "stream",
          "name": "stdout",
          "text": [
            "4\n",
            "23 MARCH 1996 23 MARCH 1986 22 JULY 1987 23 APRIL 1987\n",
            "2 3\n"
          ]
        }
      ]
    },
    {
      "cell_type": "code",
      "source": [
        "#9\n",
        "#A person saves his monthly saving according to given schema. He saves same amount of\n",
        "# money which is equal to the money saved in immediate previous two months. \n",
        "#Assume, initially he saved 1000 rupees and in first month he saved another 1000.\n",
        "# Your task is to tell how much he had totally saved at the end of ‘n’ months\n",
        "\n",
        "n=int(input())\n",
        "t=1000\n",
        "for i in range(n+1):\n",
        "    i=i*1000\n",
        "    t=t+i\n",
        "print(t)"
      ],
      "metadata": {
        "colab": {
          "base_uri": "https://localhost:8080/"
        },
        "id": "dy1EgzkFG0fK",
        "outputId": "0bd77987-0af0-4d24-ef85-988f7c08f433"
      },
      "execution_count": null,
      "outputs": [
        {
          "output_type": "stream",
          "name": "stdout",
          "text": [
            "4\n",
            "11000\n"
          ]
        }
      ]
    },
    {
      "cell_type": "code",
      "source": [
        "#10\n",
        "#Given a number N, print yes if the number is a multiple of 7 else print\n",
        "\n",
        "n=int(input())\n",
        "if n%7==0:print(\"yes\")\n",
        "else:print(\"no\")"
      ],
      "metadata": {
        "colab": {
          "base_uri": "https://localhost:8080/"
        },
        "id": "d7jTw-FdHIJM",
        "outputId": "6c360840-350c-493d-9c69-15dade24f3c7"
      },
      "execution_count": null,
      "outputs": [
        {
          "output_type": "stream",
          "name": "stdout",
          "text": [
            "63\n",
            "yes\n"
          ]
        }
      ]
    },
    {
      "cell_type": "code",
      "source": [
        "#11\n",
        "#You are given an array of numbers. Print the least occurring element. If there is more than 1 element print all of them in decreasing order of their value.\n",
        "\n",
        "n=int(input())\n",
        "l=list(map(int,input().split()))[:n]\n",
        "result=[]\n",
        "for i in l:\n",
        "        if l.count(i)==1: result.append(i)\n",
        "ans=(sorted(result,reverse=True))\n",
        "print(*ans)\n"
      ],
      "metadata": {
        "colab": {
          "base_uri": "https://localhost:8080/"
        },
        "id": "3Fo-33g7P7-i",
        "outputId": "d0e87488-0cec-4f80-e5c9-5632c908bede"
      },
      "execution_count": null,
      "outputs": [
        {
          "output_type": "stream",
          "name": "stdout",
          "text": [
            "9\n",
            "1 6 4 56 56 56 6 4 2\n",
            "2 1\n"
          ]
        }
      ]
    },
    {
      "cell_type": "code",
      "source": [
        "# 12\n",
        "# You are given with a number ‘n’. You have to count the pair of two numbers a and b such that sum of two numbers are equal to n.\n",
        "# Note:Both numbers lie in range 1<=a,b<n\n",
        "\n",
        "a=int(input())\n",
        "b=list(range(1,a+1))\n",
        "c=list(range(1,a+1))\n",
        "co=0\n",
        "for i in b:\n",
        "  for j in c:\n",
        "    if (i+j)==a:\n",
        "      co=co+1\n",
        "print(co)"
      ],
      "metadata": {
        "colab": {
          "base_uri": "https://localhost:8080/"
        },
        "id": "qRgOkSP7T15B",
        "outputId": "e66bfbc5-d651-44e3-b6d8-4f8013844322"
      },
      "execution_count": null,
      "outputs": [
        {
          "output_type": "stream",
          "name": "stdout",
          "text": [
            "5\n",
            "4\n"
          ]
        }
      ]
    },
    {
      "cell_type": "code",
      "source": [
        "#13\n",
        "#You are provided with a number ’n’. Your task is to tell whether that number is saturated. A saturated number is a number which is made by exactly two digits.\n",
        "\n",
        "n=input()\n",
        "N=[str(i) for i in n]\n",
        "a=N[0]\n",
        "b=\"\"\n",
        "B=\"\"\n",
        "c=len(N)\n",
        "for i in N[1:]:\n",
        "        if (i!=N[0]):\n",
        "          b=b+str(i)\n",
        "        elif(i==N[0]):\n",
        "          a=a+str(i)\n",
        "L=list(map(int,b))\n",
        "l=len(L)\n",
        "for j in L[0:]:\n",
        "  \n",
        "  if (j==L[0]):\n",
        "    B=B+str(j)\n",
        "   \n",
        "\n",
        "if (len(b)==len(B)) and (len(a)+len(b)==c):\n",
        "  print(\"Saturated\")\n",
        "else:print(\"Unsaturated\")"
      ],
      "metadata": {
        "colab": {
          "base_uri": "https://localhost:8080/"
        },
        "id": "h1HDLk6CXedO",
        "outputId": "da48ee96-a863-480d-d58a-33326e15dd58"
      },
      "execution_count": null,
      "outputs": [
        {
          "output_type": "stream",
          "name": "stdout",
          "text": [
            "121\n",
            "Saturated\n"
          ]
        }
      ]
    },
    {
      "cell_type": "code",
      "source": [
        "# 14\n",
        "# Given 3 numbers N , L and R. Print 'yes' if N is between L and R else print 'no'.\n",
        "\n",
        "n=int(input())\n",
        "l,r = map(int,input().split(' '))\n",
        "if (l<n<r):print(\"yes\")\n",
        "else:print(\"no\")"
      ],
      "metadata": {
        "colab": {
          "base_uri": "https://localhost:8080/"
        },
        "id": "41szCZYjVFkX",
        "outputId": "8f2b011d-2aed-40c3-fa1b-3682252f7320"
      },
      "execution_count": null,
      "outputs": [
        {
          "output_type": "stream",
          "name": "stdout",
          "text": [
            "3\n",
            "2 6\n",
            "yes\n"
          ]
        }
      ]
    },
    {
      "cell_type": "code",
      "source": [
        "#15\n",
        "#In a firm there is an intelligent employee. He said that he will not work on all those days which has factors more than 2.\n",
        "# You are given with month and year calculate the no of working days of employee.\n",
        "\n",
        "l=list(map(str,input().split()))\n",
        "\n",
        "\n",
        "M31=[\"january\",\"march\",\"may\",\"july\",\"august\",\"october\",\"december\"]\n",
        "M30=[\"april\",\"june\",\"september\",\"november\"]\n",
        "R=0\n",
        "\n",
        "if  M30.count(l[0].lower())==1:R=R+30\n",
        "if M31.count(l[0].lower())==1:R=R+31\n",
        "if l[0].lower()==\"february\" and int(l[1])%4==0  :R=R+29\n",
        "if l[0].lower()==\"february\" and int(l[1])%4!=0  :R=R+28\n",
        "print(R)\n",
        "\n",
        "primenos=[2]\n",
        "for i in range(3,R+1,2):\n",
        "    factors=[]\n",
        "    for j in range(1,i+1):\n",
        "        if i%j==0:factors.append(j)\n",
        "    if len(factors)==2: primenos.append(i)\n",
        "print(\"factors : \",factors)        \n",
        "print(\"primenos : \",primenos)\n",
        "print(len(primenos))"
      ],
      "metadata": {
        "colab": {
          "base_uri": "https://localhost:8080/"
        },
        "id": "AKwmoeo1iiPM",
        "outputId": "93431c11-5b26-44c1-e461-57f539fa1412"
      },
      "execution_count": null,
      "outputs": [
        {
          "output_type": "stream",
          "name": "stdout",
          "text": [
            "february 2020\n",
            "29\n",
            "factors :  [1, 29]\n",
            "primenos :  [2, 3, 5, 7, 11, 13, 17, 19, 23, 29]\n",
            "10\n"
          ]
        }
      ]
    },
    {
      "cell_type": "code",
      "source": [
        "#16\n",
        "#Given a number N, find the nearest greater multiple of 10.\n",
        "\n",
        "n=int(input())\n",
        "list_of_10s=list(map(lambda i:i*10, range(0,(n//10)+2)))\n",
        "ans=[]\n",
        "for i in list_of_10s:\n",
        "    if i>n:ans.append(i)\n",
        "    if ans!=[]:break\n",
        "   \n",
        "print(*ans)"
      ],
      "metadata": {
        "colab": {
          "base_uri": "https://localhost:8080/"
        },
        "id": "yHTAgef1VFnQ",
        "outputId": "f2317e8b-faac-435c-e053-d9bf6ac9a3be"
      },
      "execution_count": null,
      "outputs": [
        {
          "output_type": "stream",
          "name": "stdout",
          "text": [
            "3\n",
            "10\n"
          ]
        }
      ]
    },
    {
      "cell_type": "code",
      "source": [
        "#17\n",
        "#You are given a task to tell whether the number is pure or not. A pure number is a number whose sum of digits is multiple of 3.\n",
        "\n",
        "l=[int(x) for x in input()]\n",
        "if sum(l)%3==0:print(\"yes\")\n",
        "else:print(\"not\")"
      ],
      "metadata": {
        "colab": {
          "base_uri": "https://localhost:8080/"
        },
        "id": "kEBGY40wVFrQ",
        "outputId": "300506f7-d7d7-4598-eaa9-998015a217c4"
      },
      "execution_count": null,
      "outputs": [
        {
          "output_type": "stream",
          "name": "stdout",
          "text": [
            "13\n",
            "not\n"
          ]
        }
      ]
    },
    {
      "cell_type": "code",
      "source": [
        "#18\n",
        "# Given a number N, print the odd digits in the number(space seperated) or print -1 if there is no odd digit in the given number.\n",
        "# Input Size : N <= 100000\n",
        "\n",
        "l=[int(x) for x in input()]\n",
        "ans=[]\n",
        "for i in l:\n",
        "    if i%2!=0:ans.append(i)\n",
        "if ans!=[]:print(*ans)\n",
        "else:print(\"-1\")\n"
      ],
      "metadata": {
        "colab": {
          "base_uri": "https://localhost:8080/"
        },
        "id": "JeJpMzt5VFui",
        "outputId": "6c10e6a4-6e38-45a4-89a6-16f31617231e"
      },
      "execution_count": null,
      "outputs": [
        {
          "output_type": "stream",
          "name": "stdout",
          "text": [
            "2143\n",
            "1 3\n"
          ]
        }
      ]
    },
    {
      "cell_type": "code",
      "source": [
        "#19\n",
        "#You are given a large number made of only 0’s and 1’s.Your task is to find the max no of consecutive 1’s. If there are no 1’s print -1\n"
      ],
      "metadata": {
        "id": "F5THWTYHWBdi"
      },
      "execution_count": null,
      "outputs": []
    },
    {
      "cell_type": "code",
      "source": [
        "# 20\n",
        "# Simi is learning about palindromic numbers. \n",
        "# Her teacher gave him the task to count all palindromic numbers present in that range.\n",
        "# Simi has told you about this and want your help. You design an algorithm in order to help simi.\n"
      ],
      "metadata": {
        "id": "jLI5ZgfAWBhF"
      },
      "execution_count": null,
      "outputs": []
    },
    {
      "cell_type": "code",
      "source": [
        "# 21\n",
        "# Pk finds it difficult to judge the minimum element in the list of elements given to him. Your task is to develop the algorithm in order to find the minimum element.\n",
        "# Note:Don’t use sorting\n",
        "\n",
        "n=int(input())  \n",
        "nums=list(map(int,input().split(\" \")))[:n]\n",
        "print(min(nums))"
      ],
      "metadata": {
        "colab": {
          "base_uri": "https://localhost:8080/"
        },
        "id": "ehawzemHWhcc",
        "outputId": "01586f4e-999d-46f7-8563-62de8eb2cc04"
      },
      "execution_count": null,
      "outputs": [
        {
          "output_type": "stream",
          "name": "stdout",
          "text": [
            "5\n",
            "3 4 9 1 6\n",
            "1\n"
          ]
        }
      ]
    },
    {
      "cell_type": "code",
      "source": [
        "#22\n",
        "#Given 2 numbers N,M. Print 'yes' if their product is a perfect square else print 'no'.\n",
        "\n",
        "a=input().split(' ')[:2]\n",
        "n=int(a[0])\n",
        "k=int(a[1])\n",
        "if (n==k):\n",
        " print(\"yes\")\n",
        "else: print(\"no\")"
      ],
      "metadata": {
        "colab": {
          "base_uri": "https://localhost:8080/"
        },
        "id": "8i6ikTFXW4G4",
        "outputId": "20fe8f40-5d0a-45aa-f767-896fb530f49f"
      },
      "execution_count": null,
      "outputs": [
        {
          "output_type": "stream",
          "name": "stdout",
          "text": [
            "5 5\n",
            "yes\n"
          ]
        }
      ]
    },
    {
      "cell_type": "code",
      "source": [
        "# 23\n",
        "# You are given an array of non-negative integers representing height of walls at index i as Ai\n",
        "#  and the width of each block is 1. Compute how much air can be encapsulated between the walls of chamber.\n",
        "\n",
        "n=int(input())\n",
        "arr1=list(map(int,input().split(\" \")))[:n]\n",
        "arr2=sorted(arr1,reverse=True)\n",
        "#M1=max index, M2=2nd max\n",
        "M1_index=arr1.index(arr2[0])\n",
        "M2_index=arr1.index(arr2[1])\n",
        "if M1_index>M2_index:\n",
        "    arr3=arr1[M2_index:M1_index+1]\n",
        "    diff=0\n",
        "    for i in range(1,len(arr3)-1):\n",
        "        dif_i=arr3[0]-arr3[i]\n",
        "        diff+=dif_i\n",
        "else:\n",
        "    arr3=arr1[M1_index:M2_index+1]\n",
        "    diff=0\n",
        "    for i in range(1,len(arr3)-1):\n",
        "        dif_i=arr3[0]-arr3[i]\n",
        "        diff+=dif_i\n",
        "print(abs(diff))"
      ],
      "metadata": {
        "colab": {
          "base_uri": "https://localhost:8080/"
        },
        "id": "Ia4Yn47rW4KL",
        "outputId": "b0a20d16-736a-4883-b910-be704980e890"
      },
      "execution_count": null,
      "outputs": [
        {
          "output_type": "stream",
          "name": "stdout",
          "text": [
            "3\n",
            "7 4 9\n",
            "3\n"
          ]
        }
      ]
    },
    {
      "cell_type": "code",
      "source": [
        "# 24\n",
        "# You are given with a string which comprises of some numbers. Your task is to find the largest integer by converting the string to the corresponding integer.\n",
        "\n",
        "import re\n",
        "string=[str(x) for x in input()]\n",
        "newstring=\"\"\n",
        "for i in range(len(string)):\n",
        "    string[i] = re.sub(r\"\\W\", \" \", string[i])\n",
        "    newstring=newstring+string[i]\n",
        "n=newstring.split(\" \")\n",
        "num=[]\n",
        "for i in n:\n",
        "    if i.isnumeric():num.append(int(i))\n",
        "\n",
        "print(max(num))\n",
        "    "
      ],
      "metadata": {
        "colab": {
          "base_uri": "https://localhost:8080/"
        },
        "id": "JMoZn8HtW4c4",
        "outputId": "af494f8a-6aef-4efe-c6f1-4ac7571603d3"
      },
      "execution_count": null,
      "outputs": [
        {
          "output_type": "stream",
          "name": "stdout",
          "text": [
            " I was born on 12 october 1998.\n",
            "1998\n"
          ]
        }
      ]
    },
    {
      "cell_type": "code",
      "source": [
        "# 25\n",
        "# Shreya is a brilliant girl. She likes to memorize the numbers. These numbers will be shown to her. As an examiner develop an algorithm to test her memory.\n",
        "\n",
        "# CONSTRAINTS\n",
        "# 1<=Y,N,T<=1000\n",
        "\n",
        "# Input Description:\n",
        "# First line contains no. of test cases(Y). Next line contains a number N. Next line contains n space separated numbers Next line contains a number T denoting\n",
        "#  the number of questions asked from you regarding the given array. Next line contains T space separated numbers. \n",
        "\n",
        "n=int(input())\n",
        "ui_n=list(map(int, input().split(\" \")))[:n]\n",
        "t=int(input())\n",
        "ui_t=list(map(int, input().split(\" \")))[:t]\n",
        "result=[]\n",
        "for i in range(t):\n",
        "    if ui_t[i] in ui_n:\n",
        "        count=ui_n.count(ui_t[i])\n",
        "        result.append(count)\n",
        "    else:result.append(\"Not Present\")\n",
        "print(*result)"
      ],
      "metadata": {
        "colab": {
          "base_uri": "https://localhost:8080/"
        },
        "id": "YimoOn_SW4jH",
        "outputId": "bc0e1871-677f-4227-d525-2068aab8ca88"
      },
      "execution_count": null,
      "outputs": [
        {
          "output_type": "stream",
          "name": "stdout",
          "text": [
            "10\n",
            "1 1 1 2 2 2 3 8 9 7\n",
            "5\n",
            "1 2 3 0 5\n",
            "3 3 1 Not Present Not Present\n"
          ]
        }
      ]
    },
    {
      "cell_type": "code",
      "source": [
        "# 26\n",
        "# Given a number N, print the product of the digits.\n",
        "\n",
        "digits=[int(i) for i in input()]\n",
        "pdt_ans=1\n",
        "for i in digits:\n",
        "    pdt_ans=pdt_ans*i\n",
        "print(pdt_ans)"
      ],
      "metadata": {
        "colab": {
          "base_uri": "https://localhost:8080/"
        },
        "id": "FJxgixOFW4nd",
        "outputId": "44a5c490-99cc-468d-da94-cb492be29bc6"
      },
      "execution_count": null,
      "outputs": [
        {
          "output_type": "stream",
          "name": "stdout",
          "text": [
            "2143\n",
            "24\n"
          ]
        }
      ]
    },
    {
      "cell_type": "code",
      "source": [
        "# 27\n",
        "# Write a program to print the sum of the first K natural numbers.\n",
        "\n",
        "a=int(input())\n",
        "b=0\n",
        "for i in range(1,a+1):\n",
        "  b=b+i\n",
        "print(b)"
      ],
      "metadata": {
        "colab": {
          "base_uri": "https://localhost:8080/"
        },
        "id": "y03G9V2iYnLA",
        "outputId": "a2e01fb0-433f-47cb-8051-b35563d14d68"
      },
      "execution_count": null,
      "outputs": [
        {
          "output_type": "stream",
          "name": "stdout",
          "text": [
            "3\n",
            "6\n"
          ]
        }
      ]
    },
    {
      "cell_type": "code",
      "source": [
        "# 28\n",
        "# In a world cup tournament,no of goals scored by each team is given to you. Your task is to calculate net goal rate of each team.\n",
        "# Net goal rate of team is calculated\n",
        "# No of goals(team)- sum of(no of goals by last 3 teams)\n",
        "\n",
        "n=int(input())\n",
        "goals=list(map(int,input().split(\" \")))[:n]\n",
        "sumgoal_3teams=sum(goals[-3:])\n",
        "ans=[goals[i]-sumgoal_3teams for i in range(n)]\n",
        "print(*ans)"
      ],
      "metadata": {
        "colab": {
          "base_uri": "https://localhost:8080/"
        },
        "id": "Pcj6iZ5pYnOq",
        "outputId": "6303e195-3592-4a6d-94c1-56190532f624"
      },
      "execution_count": null,
      "outputs": [
        {
          "output_type": "stream",
          "name": "stdout",
          "text": [
            "5\n",
            "95 85 75 12 11\n",
            "-3 -13 -23 -86 -87\n"
          ]
        }
      ]
    },
    {
      "cell_type": "code",
      "source": [
        "#29\n",
        "#you are given with ‘arasu’ series(shown in example).You have to understand it and you will be given a number ‘n’ ,you have to print the series till n numbers.\n",
        "\n",
        "n=int(input())\n",
        "initial_value=1\n",
        "output=[]\n",
        "i=1\n",
        "while i<n*2:\n",
        "    new_value=initial_value+i\n",
        "    output.append(new_value)\n",
        "    initial_value=new_value\n",
        "    i+=2\n",
        "print(*output)"
      ],
      "metadata": {
        "colab": {
          "base_uri": "https://localhost:8080/"
        },
        "id": "2_svNrPkYnS2",
        "outputId": "c70d58ea-5baf-415c-82e4-3bd10f7050d5"
      },
      "execution_count": null,
      "outputs": [
        {
          "output_type": "stream",
          "name": "stdout",
          "text": [
            "4\n",
            "2 5 10 17\n"
          ]
        }
      ]
    },
    {
      "cell_type": "code",
      "source": [
        "# 30\n",
        "# Given 2 numbers N,M. Find their difference and check whether it is even or odd.\n",
        "\n",
        "n,m=list(map(int,input().split(\" \")))[:2]\n",
        "diff=abs(n-m)\n",
        "if diff%2==0:print(\"even\")\n",
        "else:print(\"odd\")"
      ],
      "metadata": {
        "colab": {
          "base_uri": "https://localhost:8080/"
        },
        "id": "xxloq03NYnih",
        "outputId": "62b16461-736c-443c-8052-b33d1e136814"
      },
      "execution_count": null,
      "outputs": [
        {
          "output_type": "stream",
          "name": "stdout",
          "text": [
            "5 5\n",
            "even\n"
          ]
        }
      ]
    },
    {
      "cell_type": "code",
      "source": [
        "# 31\n",
        "# You are given given task is to print whether array is ‘majestic’ or not.A ‘majsetic’ array is an array whose sum of first three number is equal to last three number.\n",
        "\n",
        "n=int(input())\n",
        "ui=list(map(int,input().split(\" \")))[:n]\n",
        "if sum(ui[0:3])==sum(ui[-3:]):\n",
        "    print(\"1\")\n",
        "else:print(\"0\")"
      ],
      "metadata": {
        "colab": {
          "base_uri": "https://localhost:8080/"
        },
        "id": "cSM02I-eZM9q",
        "outputId": "d898e3a5-dac5-4570-d132-0df69043a88b"
      },
      "execution_count": null,
      "outputs": [
        {
          "output_type": "stream",
          "name": "stdout",
          "text": [
            "7\n",
            "1 2 3 4 6 0 0\n",
            "1\n"
          ]
        }
      ]
    },
    {
      "cell_type": "code",
      "source": [
        "# 32\n",
        "# Count the number of digits of a given number N.Size of the integer ranges from 1\n",
        "\n",
        "n=(input())\n",
        "print(len(n))"
      ],
      "metadata": {
        "colab": {
          "base_uri": "https://localhost:8080/"
        },
        "id": "eWeb41fdZNA0",
        "outputId": "3805177a-cb24-4282-9e45-fcb95007033d"
      },
      "execution_count": null,
      "outputs": [
        {
          "output_type": "stream",
          "name": "stdout",
          "text": [
            "548\n",
            "3\n"
          ]
        }
      ]
    },
    {
      "cell_type": "code",
      "source": [
        "# 33\n",
        "# Given a number N, print 'yes' if it is composite else print 'no'.\n",
        "\n",
        "def odd(nu):\n",
        "    oddnum=[]\n",
        "    for i in range(1,10):\n",
        "       if i%2!=0:oddnum.append(i)\n",
        "    return oddnum\n",
        "def even(nu):\n",
        "    evennum=[]\n",
        "    for i in range(1,10):\n",
        "        if i%2==0:evennum.append(i)\n",
        "    return evennum\n",
        "O=odd(10)\n",
        "E=even(10)\n",
        "ui=int(input())\n",
        "cn=0\n",
        "if ui%2!=0:\n",
        " for i in range(len(O)):\n",
        "     \n",
        "     if ui%(O[i])==0:cn=cn+1\n",
        "if ui%2==0:cn=cn+1    \n",
        "if cn>=2:print(\"yes\")\n",
        "else:print(\"no\")"
      ],
      "metadata": {
        "colab": {
          "base_uri": "https://localhost:8080/"
        },
        "id": "rza4UTwAZNFI",
        "outputId": "25103d9e-7ae8-4946-e5ba-8a6ffd528db7"
      },
      "execution_count": null,
      "outputs": [
        {
          "output_type": "stream",
          "name": "stdout",
          "text": [
            "123\n",
            "yes\n"
          ]
        }
      ]
    },
    {
      "cell_type": "code",
      "source": [
        "# 34\n",
        "# Ajay is given a series(In example).he gone through the series but unable to understand it properly,he has hired you.Your task\n",
        "#  is to understand the series and print the series 2,6,12,20,30... .You are given with a number ‘n’. Find the nth number of series.\n",
        "\n",
        "n=int(input())\n",
        "s=[int(i)*(i+1) for i in range(1,n+1)]\n",
        "print(s[n-1])"
      ],
      "metadata": {
        "colab": {
          "base_uri": "https://localhost:8080/"
        },
        "id": "uTxO9Hl8aJJD",
        "outputId": "13a6e78f-f950-415c-e07f-e8e50dab64be"
      },
      "execution_count": null,
      "outputs": [
        {
          "output_type": "stream",
          "name": "stdout",
          "text": [
            "5\n",
            "30\n"
          ]
        }
      ]
    },
    {
      "cell_type": "code",
      "source": [
        "# 35\n",
        "# Given a number N, print 'yes' if it is a multiple of 13 else print 'no'.\n",
        "\n",
        "n=int(input())\n",
        "if n%13==0:print(\"yes\")\n",
        "else:print(\"no\")"
      ],
      "metadata": {
        "colab": {
          "base_uri": "https://localhost:8080/"
        },
        "id": "-n7_B3bTaJNE",
        "outputId": "4f3bbb2a-ffda-42e9-ce94-53ba4e51616c"
      },
      "execution_count": null,
      "outputs": [
        {
          "output_type": "stream",
          "name": "stdout",
          "text": [
            "26\n",
            "yes\n"
          ]
        }
      ]
    },
    {
      "cell_type": "code",
      "source": [
        "# 36\n",
        "# Given a floating point number with 1 decimal place round it off to nearest greater integer and print it.\n",
        "\n",
        "import math\n",
        "n=float(input())\n",
        "N=math.ceil(n)\n",
        "print(N)"
      ],
      "metadata": {
        "colab": {
          "base_uri": "https://localhost:8080/"
        },
        "id": "h5jBEFDIaJRV",
        "outputId": "bcb875f9-dae7-4b31-a11a-10b32b0ec8a3"
      },
      "execution_count": null,
      "outputs": [
        {
          "output_type": "stream",
          "name": "stdout",
          "text": [
            "2.6\n",
            "3\n"
          ]
        }
      ]
    },
    {
      "cell_type": "code",
      "source": [
        "# 37\n",
        "#  You are given a ‘true’ string. String is called true if weight of string is multiple of 8. Your task is to tell whether a string\n",
        "#  can be declared True or Not. Weight of string is the sum of ASCII value of Vowel character(s) present in the string.\n",
        "\n",
        "string=[str(x) for x in input()]\n",
        "ascii_wt=0\n",
        "vowel=\"AEIOUaeiou\"\n",
        "for i in range(len(string)):\n",
        "    if vowel.count(string[i])==1:i=ord(string[i])\n",
        "    ascii_wt=ascii_wt+i\n",
        "\n",
        "if ascii_wt%8==0:print(\"1\")\n",
        "else:print(\"0\")"
      ],
      "metadata": {
        "colab": {
          "base_uri": "https://localhost:8080/"
        },
        "id": "h5xjgvVqaJVa",
        "outputId": "825cef52-be33-43b7-c6a8-99b396c927ec"
      },
      "execution_count": null,
      "outputs": [
        {
          "output_type": "stream",
          "name": "stdout",
          "text": [
            "raja\n",
            "0\n"
          ]
        }
      ]
    },
    {
      "cell_type": "code",
      "source": [
        "# 38\n",
        "# Sreelatha was confused with series. She is given with a number ‘n’. There is a pattern hidden the series. She has to \n",
        "# understand and print  the series till nth number by looking into example.Sreelatha \n",
        "# is confused and She hired you , you have to develop the series for sreelatha by observing the pattern from the below example.\n",
        "\n",
        "n=int(input())\n",
        "series=[1]\n",
        "for i in range(2,n+1):\n",
        "    pattern=(i**3)+series[i-2]\n",
        "    series.append(pattern)\n",
        "print(*series)"
      ],
      "metadata": {
        "colab": {
          "base_uri": "https://localhost:8080/"
        },
        "id": "sAKF28f0aJmq",
        "outputId": "d4bcdf9f-823f-4206-8335-de6a891ec45d"
      },
      "execution_count": null,
      "outputs": [
        {
          "output_type": "stream",
          "name": "stdout",
          "text": [
            "3\n",
            "1 9 36\n"
          ]
        }
      ]
    },
    {
      "cell_type": "code",
      "source": [
        "# 39\n",
        "# Kabali is a brave warrior who with his group of young ninjas moves from one place to another to \n",
        "# fight against his opponents. Before Fighting he just calculates one thing, the difference between \n",
        "# his ninja number and the opponent's ninja number. From this difference he decides whether to fight or\n",
        "#  not. Kabali's ninja number is never greater than his opponent.\n",
        "# Input\n",
        "# The input contains two numbers in every line. These two numbers in each line denotes the number ninjas\n",
        "#  in Kabali's clan and his opponent's clan . print the absolute difference of number of ninjas between Kabali's clan and his opponent's clan. Each output should be in seperate line.\n",
        "\n",
        "n=list(map(int,(input().split())))\n",
        "L=n[0]\n",
        "R=n[1]\n",
        "D=L-R\n",
        "if (D>0):\n",
        "    print(D)\n",
        "else:  \n",
        "    D=-1*D   \n",
        "    print(D)"
      ],
      "metadata": {
        "colab": {
          "base_uri": "https://localhost:8080/"
        },
        "id": "R4KqF_97dLZm",
        "outputId": "e6fefb59-6c0e-4169-c456-d9d635015340"
      },
      "execution_count": null,
      "outputs": [
        {
          "output_type": "stream",
          "name": "stdout",
          "text": [
            "100 200\n",
            "100\n"
          ]
        }
      ]
    },
    {
      "cell_type": "code",
      "source": [
        "# 40\n",
        "# Given a number N, print its reverse.\n",
        "\n",
        "n=input()\n",
        "ans=\"\"\n",
        "for i in range(len(n)-1,-1,-1):\n",
        "    ans+=n[i]\n",
        "    \n",
        "print(int(ans))"
      ],
      "metadata": {
        "colab": {
          "base_uri": "https://localhost:8080/"
        },
        "id": "GCf4-9aYdLdj",
        "outputId": "cbbfcf2a-7379-4bc3-c798-2f90c264e208"
      },
      "execution_count": null,
      "outputs": [
        {
          "output_type": "stream",
          "name": "stdout",
          "text": [
            "10\n",
            "1\n"
          ]
        }
      ]
    },
    {
      "cell_type": "code",
      "source": [
        "# 41\n",
        "# Given 2 numbers N and K followed by N elements,print the number of repetition of K otherwise print '-1' if the element not found.\n",
        "\n",
        "a=input().split(' ')\n",
        "N=int(a[0])\n",
        "K=str(a[1])\n",
        "f=list(map(str,input().split(' ')))[:N]\n",
        "c=f.count(K)\n",
        "if (c==0):\n",
        "    print(\"-1\")\n",
        "else :\n",
        "    print(\"0\")"
      ],
      "metadata": {
        "colab": {
          "base_uri": "https://localhost:8080/"
        },
        "id": "xujAS6ljdLiB",
        "outputId": "ac885c43-0fa1-481b-c541-79d0f0673f28"
      },
      "execution_count": null,
      "outputs": [
        {
          "output_type": "stream",
          "name": "stdout",
          "text": [
            "6 2\n",
            "1 2 3 5 7 8\n",
            "0\n"
          ]
        }
      ]
    },
    {
      "cell_type": "code",
      "source": [
        "# 42\n",
        "# Given a number N, print its factors.\n",
        "\n",
        "def factors(n):\n",
        "    factor=[int(i) for i in range(1,n+1) if n%i==0]\n",
        "    print(*factor)\n",
        "n=int(input())\n",
        "factors(n)\n"
      ],
      "metadata": {
        "colab": {
          "base_uri": "https://localhost:8080/"
        },
        "id": "FjFx66SydszF",
        "outputId": "709e1d4b-ba3b-4fa5-ad07-a7af12567d53"
      },
      "execution_count": null,
      "outputs": [
        {
          "output_type": "stream",
          "name": "stdout",
          "text": [
            "6\n",
            "1 2 3 6\n"
          ]
        }
      ]
    },
    {
      "cell_type": "code",
      "source": [
        "# 43\n",
        "# Given the values of a,b and x in the equation ax + b = y. Find the value of y.\n",
        "\n",
        "a,b,x=list(map(int,input().split(\" \")))[:3]\n",
        "y=(a*x)+b\n",
        "print(y)"
      ],
      "metadata": {
        "colab": {
          "base_uri": "https://localhost:8080/"
        },
        "id": "LPaHFeR9ds2i",
        "outputId": "23c12313-a4d2-4240-d44a-e644564bb5bd"
      },
      "execution_count": null,
      "outputs": [
        {
          "output_type": "stream",
          "name": "stdout",
          "text": [
            "3 5 2\n",
            "11\n"
          ]
        }
      ]
    },
    {
      "cell_type": "code",
      "source": [
        "# 44\n",
        "# Write a program to calculate the total surface area and volume of cuboid. Input contains three space separated positive integers L, B, H denoting the length, width and height of cuboid respectively.\n",
        "\n",
        "l,b,h=list(map(int,input().split(\" \")))[:3]\n",
        "area=2*((l*b)+(b*h)+(h*l))\n",
        "vol=l*b*h\n",
        "print(area,vol)"
      ],
      "metadata": {
        "colab": {
          "base_uri": "https://localhost:8080/"
        },
        "id": "Uy-pqMeods68",
        "outputId": "02ba0e9a-e57b-40b6-9594-8ab370abb48d"
      },
      "execution_count": null,
      "outputs": [
        {
          "output_type": "stream",
          "name": "stdout",
          "text": [
            "1 2 3\n",
            "22 6\n"
          ]
        }
      ]
    },
    {
      "cell_type": "code",
      "source": [
        "# 45\n",
        "# Given a number N, check whether it is prime or not. Print 'yes' if it is prime else print 'no'.\n",
        "\n",
        "def factors(n):\n",
        "    factor=[int(i) for i in range(1,n+1) if n%i==0]\n",
        "    return factor\n",
        "n=int(input())\n",
        "ans=factors(n)\n",
        "if len(ans)==2 and n!=2:\n",
        "    print(\"yes\")\n",
        "else:print(\"no\")"
      ],
      "metadata": {
        "colab": {
          "base_uri": "https://localhost:8080/"
        },
        "id": "zc93XdUmezct",
        "outputId": "61776f41-4e47-4df9-d068-3691bea5871d"
      },
      "execution_count": null,
      "outputs": [
        {
          "output_type": "stream",
          "name": "stdout",
          "text": [
            "123\n",
            "no\n"
          ]
        }
      ]
    },
    {
      "cell_type": "code",
      "source": [
        "# 46\n",
        "# Given 2 numbers N and M add both the numbers and check whether the sum is odd or even.\n",
        "\n",
        "def sum_check(list):\n",
        "    sum=0\n",
        "    for i in range(len(n)):\n",
        "        sum+=n[i]\n",
        "   \n",
        "    if sum%2==0:\n",
        "        print(\"even\")\n",
        "    else:\n",
        "        print(\"odd\")\n",
        "\n",
        "n=list(map(int,input().split(\" \")))[:2]\n",
        "\n",
        "sum_check(n)"
      ],
      "metadata": {
        "colab": {
          "base_uri": "https://localhost:8080/"
        },
        "id": "AoXqG2Zpezhj",
        "outputId": "d8966d88-a34d-4d98-ad6c-6dabfd778eed"
      },
      "execution_count": null,
      "outputs": [
        {
          "output_type": "stream",
          "name": "stdout",
          "text": [
            "9 2\n",
            "odd\n"
          ]
        }
      ]
    },
    {
      "cell_type": "code",
      "source": [
        "# 47\n",
        "# Given a number N followed by N elements which can be arranged in ascending order with maximum one element update. Print the index of the element which has to be changed else print '-1'\n",
        "#  if the updation not neccassary or if the given input needs more than one update to form ascending order.\n",
        "\n",
        "n=int(input())\n",
        "l=list(map(int,input().split(\" \")))[:n]\n",
        "update=[]\n",
        "for i in range(n-1):\n",
        "    if l[i]>l[i+1]:\n",
        "        update.append(l[i])\n",
        "if len(update)==1:\n",
        "    print(l.index(update[0]))\n",
        "else:print(\"-1\")"
      ],
      "metadata": {
        "colab": {
          "base_uri": "https://localhost:8080/"
        },
        "id": "oIFM5iiheztW",
        "outputId": "ba1a2ca3-e1cb-490c-c263-0f59033c32ea"
      },
      "execution_count": null,
      "outputs": [
        {
          "output_type": "stream",
          "name": "stdout",
          "text": [
            "7\n",
            "1 2 4 3 5 6 8\n",
            "2\n"
          ]
        }
      ]
    },
    {
      "cell_type": "code",
      "source": [
        "# 48\n",
        "# Given a number N, find its next immediate greater power of 2(i.e 2^1, 2^2, 2^3...).\n",
        "\n",
        "n=int(input())\n",
        "series=[2**i for i in range(1,n+1)]\n",
        "ans=0\n",
        "for i in series:\n",
        "    if n<i:\n",
        "        ans+=i\n",
        "        break\n",
        "print(ans)"
      ],
      "metadata": {
        "colab": {
          "base_uri": "https://localhost:8080/"
        },
        "id": "udgrFAxkffUQ",
        "outputId": "8ee83c1e-0e47-422f-f42d-86d79f992ff9"
      },
      "execution_count": null,
      "outputs": [
        {
          "output_type": "stream",
          "name": "stdout",
          "text": [
            "4\n",
            "8\n"
          ]
        }
      ]
    },
    {
      "cell_type": "code",
      "source": [
        "# 49\n",
        "# Given a number N and an array of N integers, find the sum of all the negative numbers in the array.\n",
        "\n",
        "n=int(input())\n",
        "n_input=list(map(int,input().split(\" \")))[:n]\n",
        "summing=0\n",
        "for i in range(n):\n",
        "    if n_input[i]<0:\n",
        "        summing+=n_input[i]\n",
        "print(summing)"
      ],
      "metadata": {
        "colab": {
          "base_uri": "https://localhost:8080/"
        },
        "id": "x1BRpxQBffZ0",
        "outputId": "4c31ca7e-dfe1-4ada-8da5-1cd8b9806fdd"
      },
      "execution_count": null,
      "outputs": [
        {
          "output_type": "stream",
          "name": "stdout",
          "text": [
            "2\n",
            "3 0\n",
            "0\n"
          ]
        }
      ]
    },
    {
      "cell_type": "code",
      "source": [
        "# 50\n",
        "# In \"A Mathematicians Apology\", G.H. Hardy wrote:\n",
        "# “There are just four numbers, after unity, which are the sums of the cubes of their digits”\n",
        "# Let the largest of those four numbers be X.\n",
        "# A hash function for performing separate chaining was defined as hash(n) := n mod X, where n is a whole number. Separate chaining was performed for N integers in an array A. Mrs. Leela was asked to find the number of empty chains from 0 to X-1 (both inclusive) after performing the hashing using separate chaining. Help her solve this mysterious question.\n",
        "# Separate chaining resources:\n",
        "# https://en.wikipedia.org/wiki/Hash_table#Separate_chaining_with_linked_lists\n",
        "# https://www.geeksforgeeks.org/hashing-set-2-separate-chaining/\n",
        "\n"
      ],
      "metadata": {
        "id": "eSDJwBSfffeb"
      },
      "execution_count": null,
      "outputs": []
    },
    {
      "cell_type": "code",
      "source": [
        "# 51\n",
        "# Given base(B) and height(H) of a triangle find its area.\n",
        "\n",
        "def area_of_triangle(b,h):\n",
        "    if b%2==0 and h%2==0: soln= int((1/2)*b*h)\n",
        "    else:soln=((1/2)*b*h)\n",
        "    return soln\n",
        "ui=list(map(int,input().split(\" \")))[:2]\n",
        "b=ui[0]\n",
        "h=ui[1]\n",
        "print(area_of_triangle(b,h))\n"
      ],
      "metadata": {
        "colab": {
          "base_uri": "https://localhost:8080/"
        },
        "id": "_yTIq1AlffjJ",
        "outputId": "e5abcd32-a830-474c-9f5b-e17dae8fc93c"
      },
      "execution_count": null,
      "outputs": [
        {
          "output_type": "stream",
          "name": "stdout",
          "text": [
            "2 4\n",
            "4\n"
          ]
        }
      ]
    },
    {
      "cell_type": "code",
      "source": [
        "# 52\n",
        "# Rajesh is very fond of numbers. With the given positive number(‘n’) ,he has to tell whether a number\n",
        "#  is lively or not. A lively number is a number which has same frequency of all integers present.\n",
        "\n",
        "n=input()\n",
        "n_count=[n.count(i) for i in n]\n",
        "if n_count==n_count[::-1]:\n",
        "    print(\"1\")\n",
        "else:print(\"0\")"
      ],
      "metadata": {
        "colab": {
          "base_uri": "https://localhost:8080/"
        },
        "id": "vQqtyIYlffnM",
        "outputId": "751f6acc-8462-4110-f7e6-fc48d18cf8c4"
      },
      "execution_count": null,
      "outputs": [
        {
          "output_type": "stream",
          "name": "stdout",
          "text": [
            "1212\n",
            "1\n"
          ]
        }
      ]
    },
    {
      "cell_type": "code",
      "source": [
        "# 53\n",
        "# Given 3 numbers A,B,C find the sum of Arithmetic Series with a=A, d=B and n=C\n",
        "\n",
        "# a,d,n=list(map(int,input().split(\" \")))[:3]\n",
        "# series=a+((n-1)*d)\n",
        "# print(series)"
      ],
      "metadata": {
        "id": "80AUUX-cgLuG"
      },
      "execution_count": null,
      "outputs": []
    },
    {
      "cell_type": "code",
      "source": [
        "# 54\n",
        "# Prateek finds it difficult to judge the minimum element in the list of elements given to him. Your task is to develop the algorithm in order to find the minimum element.\n",
        "\n",
        "def sort(nums):\n",
        " for i in range(len(nums)-1,0,-1):\n",
        "    for j in range(i):\n",
        "        if nums[j]>nums[j+1]:\n",
        "         temp=nums[j]\n",
        "         nums[j]=nums[j+1]\n",
        "         nums[j+1]=temp\n",
        "        \n",
        "\n",
        "n=int(input())  \n",
        "nums=list(map(int,input().split(\" \")))[:n]\n",
        "sort(nums)\n",
        "print(nums[0])"
      ],
      "metadata": {
        "colab": {
          "base_uri": "https://localhost:8080/"
        },
        "id": "yJTeFg31gLx_",
        "outputId": "e87964bd-647e-4540-fd21-1d245afdc5dd"
      },
      "execution_count": null,
      "outputs": [
        {
          "output_type": "stream",
          "name": "stdout",
          "text": [
            "5\n",
            "3 4 9 1 6\n",
            "1\n"
          ]
        }
      ]
    },
    {
      "cell_type": "code",
      "source": [
        "# 55\n",
        "# Given a number N, print the sum of squares of all its digits.\n",
        "\n",
        "n=[int(i)**2 for i in input()]\n",
        "out=sum(n)\n",
        "print(out)"
      ],
      "metadata": {
        "colab": {
          "base_uri": "https://localhost:8080/"
        },
        "id": "b5SfljN5gL14",
        "outputId": "ecd8c818-0d00-4a88-d28c-f8c08a51dd34"
      },
      "execution_count": null,
      "outputs": [
        {
          "output_type": "stream",
          "name": "stdout",
          "text": [
            "12\n",
            "5\n"
          ]
        }
      ]
    },
    {
      "cell_type": "code",
      "source": [
        "# 56\n",
        "# Given a range of 2 numbers (i.e) L and R count the number of prime numbers in the range (inclusive of L and R ).\n",
        "# Input Size : L <= R <= 100000(complexity O(n) read about Sieve of Eratosthenes)\n",
        "\n",
        "L,K=list(map(int,input().split(\" \")))[:2]\n",
        "prime=[]\n",
        "for i in range(L,K+1):\n",
        "    factors=[]\n",
        "    if i>2 and i%2==0:continue\n",
        "    else:\n",
        "        for j in range(1,i+1):\n",
        "            if i%j==0:\n",
        "                factors.append(j)\n",
        "    if len(factors)==2:\n",
        "        prime.append(i)\n",
        "ans=len(prime)\n",
        "\n",
        "print(ans)"
      ],
      "metadata": {
        "colab": {
          "base_uri": "https://localhost:8080/"
        },
        "id": "aGHZM6oAhqDm",
        "outputId": "11a10dee-672b-45e1-c3dd-ba7934c0ec4a"
      },
      "execution_count": null,
      "outputs": [
        {
          "output_type": "stream",
          "name": "stdout",
          "text": [
            "2 5\n",
            "3\n"
          ]
        }
      ]
    },
    {
      "cell_type": "code",
      "source": [
        "# 57\n",
        "# Given 3 points check whether they lie on the same line.If they lie on the same line print 'yes' Otherwise print 'no'.\n",
        "\n",
        "points=[]\n",
        "for i in range(3):\n",
        "    points.append(input().split(\" \"))\n",
        "line=\"\" \n",
        "for i in range(1):\n",
        "    if (points[i][0]==points[(i+1)][0] and points[i][0] ==points[(i+2)][0])or (points[i][1]==points[(i+1)][1] and points[i][1]==points[(i+2)][1]):\n",
        "        line+=\"yes\"\n",
        "    elif points[i][0]==points[i][1]and points[i+1][0]==points[i+1][1] and points[i+2][0]==points[i+2][1]:\n",
        "        line+=\"yes\"\n",
        "    else:\n",
        "        line+=\"no\"\n",
        "print(line)0"
      ],
      "metadata": {
        "colab": {
          "base_uri": "https://localhost:8080/"
        },
        "id": "fzv-jL0FhqJN",
        "outputId": "30428455-9915-430f-b8df-0aff98fabf16"
      },
      "execution_count": null,
      "outputs": [
        {
          "output_type": "stream",
          "name": "stdout",
          "text": [
            "0 1\n",
            "0 0\n",
            "0 2\n",
            "yes\n"
          ]
        }
      ]
    },
    {
      "cell_type": "code",
      "source": [
        "# 58\n",
        "# Given numbers A,B find A^B.\n",
        "\n",
        "a=input().split(' ')[:2]\n",
        "n=int(a[0])\n",
        "k=int(a[1])\n",
        "if (1<=n<=5 and 1<=k<=50):\n",
        " print(n**k)\n",
        "else: None"
      ],
      "metadata": {
        "colab": {
          "base_uri": "https://localhost:8080/"
        },
        "id": "VqSPeV-BhqN8",
        "outputId": "e5c05a4b-755e-401b-e7ad-d0233c1cbdb3"
      },
      "execution_count": null,
      "outputs": [
        {
          "output_type": "stream",
          "name": "stdout",
          "text": [
            "3 4\n",
            "81\n"
          ]
        }
      ]
    },
    {
      "cell_type": "code",
      "source": [
        "# 59\n",
        "# In a garage the service man takes 10 minutes to service one car.If there are N cars in garage and X is number of\n",
        "#  minutes after which one person arrives,Calculate how much time last person has to wait in garage.(Print answer in minutes)\n",
        "\n"
      ],
      "metadata": {
        "id": "-fq3cxeXiRqz"
      },
      "execution_count": null,
      "outputs": []
    },
    {
      "cell_type": "code",
      "source": [
        "# 60\n",
        "# Given 2 numbers N,M find the GCD of N and M.If it cannot be found for given number(s) then print -1\n",
        "\n",
        "n=list(map(int,input().split(\" \")))[:2]\n",
        "divisors=[]\n",
        "common_d=[]\n",
        "gcd=0\n",
        "for i in n:\n",
        "    i=abs(i)\n",
        "    factors=[]\n",
        "    for j in range(1,i+1):\n",
        "         if i%j==0:\n",
        "            factors.append(j)\n",
        "            \n",
        "    divisors.append(factors) \n",
        "for i in range(len(divisors)-1):\n",
        "    common_d=set(divisors[i])&set(divisors[i+1])\n",
        "    common_d=list(common_d)\n",
        "if common_d!=[]:    \n",
        "    gcd+=(max(common_d))    \n",
        "\n",
        "if gcd!=0:\n",
        "    print(gcd)\n",
        "else:print(\"-1\")"
      ],
      "metadata": {
        "colab": {
          "base_uri": "https://localhost:8080/"
        },
        "id": "5HPO59NCiRwH",
        "outputId": "9f29b0fc-cb77-4d1f-bf55-25d9ae38f1cd"
      },
      "execution_count": null,
      "outputs": [
        {
          "output_type": "stream",
          "name": "stdout",
          "text": [
            "10 5\n",
            "5\n"
          ]
        }
      ]
    },
    {
      "cell_type": "code",
      "source": [
        "# 61\n",
        "# Given a string S.Validate if a given string is numeric.print 'yes' if it is a numeric otherwise print 'no'.\n",
        "\n",
        "s=input()\n",
        "\n",
        "if s.isnumeric():print(\"yes\")\n",
        "else:print(\"no\")"
      ],
      "metadata": {
        "colab": {
          "base_uri": "https://localhost:8080/"
        },
        "id": "DYADYSyJiR0r",
        "outputId": "89b96178-c197-400e-96d8-1de0fdf1a545"
      },
      "execution_count": null,
      "outputs": [
        {
          "output_type": "stream",
          "name": "stdout",
          "text": [
            "guvigeeks\n",
            "no\n"
          ]
        }
      ]
    },
    {
      "cell_type": "code",
      "source": [
        "# 62\n",
        "# Given 2 numbers N and K.check if N is a power of K.Print 'yes' if it is a power of k otherwise print 'no'.\n",
        "\n",
        "n,x=list(map(int,input().split(\" \")))[:2]\n",
        "#out=[\"yes\" for i in range(5) if n%(x**i)==0 and n//x==x**i else \"no\"]\n",
        "out=[]\n",
        "for i in range(10):\n",
        "    if n%(x**i)==0 and n//x==x**i:\n",
        "        out.append(i)\n",
        "        break\n",
        "if out!=[]:print(\"yes\")\n",
        "else:print(\"no\")"
      ],
      "metadata": {
        "colab": {
          "base_uri": "https://localhost:8080/"
        },
        "id": "G5_7PKV1iw0N",
        "outputId": "5f6a92c5-880a-459d-cf08-6c78a7d94bff"
      },
      "execution_count": null,
      "outputs": [
        {
          "output_type": "stream",
          "name": "stdout",
          "text": [
            "64 8\n",
            "yes\n"
          ]
        }
      ]
    },
    {
      "cell_type": "code",
      "source": [
        "# 63\n",
        "# Given a String S,print the number of unique characters in it.If all the characters are duplicated,then print -1.\n",
        "\n",
        "string= input()\n",
        "repeat=[i for i in string if string.count(i)==1]\n",
        "\n",
        "count=len(repeat)\n",
        "\n",
        "if repeat!=[]:print(count)\n",
        "else:print(\"-1\")"
      ],
      "metadata": {
        "colab": {
          "base_uri": "https://localhost:8080/"
        },
        "id": "voF-UQ_8iw5P",
        "outputId": "481c97a1-7b9b-461c-9409-9f416c1c5859"
      },
      "execution_count": null,
      "outputs": [
        {
          "output_type": "stream",
          "name": "stdout",
          "text": [
            "GUVIGEEK\n",
            "4\n"
          ]
        }
      ]
    },
    {
      "cell_type": "code",
      "source": [
        "# 64\n",
        "# Given 2 numbers P and A which are the perimeter and area of a rectangle respectively, find if there can\n",
        "#  actually be a rectangle with this perimeter and area having integer sides.If there exists such rectangle print 'yes' otherwise print 'no'.\n",
        "\n",
        "p,a=list(map(int,input().split(\" \")))[:2]\n",
        "factors_sum=[[i+(a//i)] for i in range(1,a+1) if a%i==0]\n",
        "\n",
        "peri=[(2*f) for f in factors_sum if (2*f[0])==p]\n",
        "if peri!=[]:print(\"yes\")\n",
        "else:print(\"no\")"
      ],
      "metadata": {
        "colab": {
          "base_uri": "https://localhost:8080/"
        },
        "id": "vyqdbjvoiw96",
        "outputId": "d5db3bad-25d1-48db-f648-2f3784cef273"
      },
      "execution_count": null,
      "outputs": [
        {
          "output_type": "stream",
          "name": "stdout",
          "text": [
            "20 25\n",
            "yes\n"
          ]
        }
      ]
    },
    {
      "cell_type": "code",
      "source": [
        "# 65\n",
        "# Given length L and breadth B of a farm, print the area of the farm upto 5 decimal decimals.\n",
        "\n",
        "import math\n",
        "l,b=list(map(float,input().split(\" \")))[:2]\n",
        "a=l*b\n",
        "#area=(round(a, 5))\n",
        "#print(area)\n",
        "\n",
        "#format(a, '.5f')---> rounding off at 5th float\n",
        "#(\"{0:.5f}\".format(a))---> rounding off at 5th float\n",
        "#('%.5f' % a)---> rounding off at 5th float\n",
        "#(round(a, 5))---> rounding off at 5th float\n",
        "\n",
        "def truncate(a, n):\n",
        "    return math.floor(a * 10 ** n) / 10 ** n\n",
        "area=truncate(a,5)\n",
        "print(area)"
      ],
      "metadata": {
        "colab": {
          "base_uri": "https://localhost:8080/"
        },
        "id": "gADEI1F6ixB5",
        "outputId": "442b3d94-d89a-4e20-faf2-c2e16a16c3c3"
      },
      "execution_count": null,
      "outputs": [
        {
          "output_type": "stream",
          "name": "stdout",
          "text": [
            "1.626 2.31\n",
            "3.75606\n"
          ]
        }
      ]
    },
    {
      "cell_type": "code",
      "source": [
        "# 66\n",
        "# You are given a number ‘n’. You have to develop an algorithm which will tell sum of the powers of prime factors of that number.\n",
        "\n"
      ],
      "metadata": {
        "id": "1NR8ogDtixRn"
      },
      "execution_count": null,
      "outputs": []
    },
    {
      "cell_type": "code",
      "source": [
        "# 67\n",
        "# A stiff number is a number which can only be formed by sum of two number which are co prime. You are given with a number (n). Write a programme to determine whether a number is stiff or not\n",
        "\n",
        "\n"
      ],
      "metadata": {
        "id": "HxXUVussjYb_"
      },
      "execution_count": null,
      "outputs": []
    },
    {
      "cell_type": "code",
      "source": [
        "# 68\n",
        "# You are given a series 3, 20, 63, 144, 275… . Go through the series in order to find the answer.You are given with a number ‘n’. Find the nth number of series.\n",
        "\n",
        "\n",
        "n=int(input())\n",
        "sqr=[i**2 for i in range(1,n+1)]    \n",
        "odd=[j for j in range(3,2*(n+1),2)] \n",
        "\n",
        "formula=[(sqr[i]*odd[i]) for i in range(n) ]  \n",
        "anss=formula[-1]\n",
        "print(anss)   \n"
      ],
      "metadata": {
        "colab": {
          "base_uri": "https://localhost:8080/"
        },
        "id": "hX5fIt9_jYgi",
        "outputId": "58df79f8-b472-4a55-bb61-69bc5504b3a3"
      },
      "execution_count": null,
      "outputs": [
        {
          "output_type": "stream",
          "name": "stdout",
          "text": [
            "4\n",
            "144\n"
          ]
        }
      ]
    },
    {
      "cell_type": "code",
      "source": [
        "# 69\n",
        "# Given an angle A, print the sine of the given angle.\n",
        "\n",
        "import numpy as np\n",
        "import math\n",
        "ang=int(input())\n",
        "sine=np.sin(ang)\n",
        "print(sine)\n",
        "#print(math.sin(ang))"
      ],
      "metadata": {
        "id": "IJh8L7xZjYlB"
      },
      "execution_count": null,
      "outputs": []
    },
    {
      "cell_type": "code",
      "source": [
        "# 70\n",
        "# Given 2 numbers N,K print the value of nCk(C-Combination).\n",
        "\n",
        "def fact(n):\n",
        "    if n==1:\n",
        "        return 1\n",
        "    else:\n",
        "        return n*fact(n-1)\n",
        "n,r=list(map(int,input().split(\" \")))[:2]\n",
        "formula=fact(n)/(fact(r)*fact(n-r))\n",
        "print(int(formula))"
      ],
      "metadata": {
        "colab": {
          "base_uri": "https://localhost:8080/"
        },
        "id": "7ZDTagDujYpJ",
        "outputId": "026b67c5-0d5a-4076-ad9c-0233d7210a8e"
      },
      "execution_count": null,
      "outputs": [
        {
          "output_type": "stream",
          "name": "stdout",
          "text": [
            "5 2\n",
            "10\n"
          ]
        }
      ]
    },
    {
      "cell_type": "code",
      "source": [
        "# 71\n",
        "# Given a number N, check if it is a power of 2.Print 'yes' if it is a power of 2 otherwise print 'no'.\n",
        "\n",
        "n=int(input())\n",
        "series=[2**i for i in range(1,(n//2)+1)]\n",
        "out=[\"yes\" if n in series else \"no\"]\n",
        "print(*out)"
      ],
      "metadata": {
        "colab": {
          "base_uri": "https://localhost:8080/"
        },
        "id": "YgF_LliVj3_G",
        "outputId": "708acc81-2fa6-4580-aedc-02c069522c74"
      },
      "execution_count": null,
      "outputs": [
        {
          "output_type": "stream",
          "name": "stdout",
          "text": [
            "64\n",
            "yes\n"
          ]
        }
      ]
    },
    {
      "cell_type": "code",
      "source": [
        "# 72\n",
        "# Given a number N in decimal convert it into binary value.\n",
        "\n",
        "n=int(input())\n",
        "bin_val=bin(n)\n",
        "print(bin_val[2:])"
      ],
      "metadata": {
        "colab": {
          "base_uri": "https://localhost:8080/"
        },
        "id": "X8D9S6Aoj4C1",
        "outputId": "f2d8e7af-06d8-4c34-ca69-bcdca934b6bf"
      },
      "execution_count": null,
      "outputs": [
        {
          "output_type": "stream",
          "name": "stdout",
          "text": [
            "5\n",
            "101\n"
          ]
        }
      ]
    },
    {
      "cell_type": "code",
      "source": [
        "# 73\n",
        "# Given a hexadecimal number convert it into decimal.\n"
      ],
      "metadata": {
        "id": "Xlld200xj4Hr"
      },
      "execution_count": null,
      "outputs": []
    },
    {
      "cell_type": "code",
      "source": [
        "# 74\n",
        "# Given a number N, find the factorial of N.\n",
        "\n",
        "def fact(n):\n",
        "    if n==1 or n==0:\n",
        "        return 1\n",
        "    else: \n",
        "        return n*fact(n-1)\n",
        "n=int(input())\n",
        "print(fact(n))"
      ],
      "metadata": {
        "colab": {
          "base_uri": "https://localhost:8080/"
        },
        "id": "rAIGwvQokQMk",
        "outputId": "1b51e248-0a82-4deb-cbab-6ea3a921dfc8"
      },
      "execution_count": null,
      "outputs": [
        {
          "output_type": "stream",
          "name": "stdout",
          "text": [
            "5\n",
            "120\n"
          ]
        }
      ]
    },
    {
      "cell_type": "code",
      "source": [
        "# 75\n",
        "# Given a number N and an array of N integers, print the minimum sum of the sub-array from the given array.\n",
        "\n",
        "def combinations(l):\n",
        "    if l:\n",
        "        result= combinations(l[:-1])\n",
        "        return result+[i+[l[-1]] for i in result]\n",
        "    else:\n",
        "        return [[]]\n",
        "\n",
        "\n",
        "n=int(input())\n",
        "val=list(map(int,input().split(\" \")))[:n]\n",
        "combi=combinations(val)[1:]\n",
        "sum_combi=[sum(i) for i in combi]\n",
        "out=min(sum_combi)\n",
        "print(out)"
      ],
      "metadata": {
        "colab": {
          "base_uri": "https://localhost:8080/"
        },
        "id": "pFApd3wwkQQy",
        "outputId": "cda6360c-ffd6-4d24-c306-acb334b36de0"
      },
      "execution_count": null,
      "outputs": [
        {
          "output_type": "stream",
          "name": "stdout",
          "text": [
            "4\n",
            "2 4 4 2\n",
            "2\n"
          ]
        }
      ]
    },
    {
      "cell_type": "code",
      "source": [
        "# 76\n",
        "# Given two numbers N,K followed by an array of N elements, print the array after doing right shift K times (in cyclic manner).\n",
        "\n",
        "n,k=list(map(int,input().split(\" \")))[:2]\n",
        "val=list(map(int,input().split(\" \")))[:n]\n",
        "if k>n:\n",
        "    k=k//n\n",
        "a= val[-k:]\n",
        "b= val[:-k]\n",
        "#a.append(b)\n",
        "a=a+b\n",
        "print(*a)\n"
      ],
      "metadata": {
        "colab": {
          "base_uri": "https://localhost:8080/"
        },
        "id": "lngvGdpEkQVo",
        "outputId": "d4e333ff-10f6-411d-df37-8aff7ea8de4a"
      },
      "execution_count": null,
      "outputs": [
        {
          "output_type": "stream",
          "name": "stdout",
          "text": [
            "3 2\n",
            "7 2 3\n",
            "2 3 7\n"
          ]
        }
      ]
    },
    {
      "cell_type": "code",
      "source": [
        "# 77\n",
        "# Assume that you are ticket verifier at a club. Your club has decided to give a special discount to the person(s) who are satisfying the following condition\n",
        "# Condition:-\n",
        "\n",
        "# If ticket number is divisible by date of month. You are eligible for a discount.\n",
        "\n",
        "# Input Description:\n",
        "# First line contains input ‘n’.Next line contains n space separated numbers denoting ticket numbers .Next line contains ‘k’ date of the month. \n",
        "\n",
        "\n",
        "n=int(input())\n",
        "l=list(map(int,input().split(\" \")))[:n]\n",
        "k=int(input())\n",
        "s=\"\"\n",
        "for x in l:\n",
        "  if (x%k==0):s+=\"1 \"\n",
        "    \n",
        "  else:s+=\"0 \"\n",
        "print(s.rstrip())"
      ],
      "metadata": {
        "colab": {
          "base_uri": "https://localhost:8080/"
        },
        "id": "SH_z_SZZkQdj",
        "outputId": "fa97116e-6bcb-4a5f-ab2c-a6a7b2c81fdb"
      },
      "execution_count": null,
      "outputs": [
        {
          "output_type": "stream",
          "name": "stdout",
          "text": [
            "6\n",
            "112 139 165 175 262 130\n",
            "22\n",
            "0 0 0 0 0 0\n"
          ]
        }
      ]
    },
    {
      "cell_type": "code",
      "source": [
        "# 78\n",
        "# Print the position of first 1 from right to left, in binary representation of an Integer.\n",
        "\n",
        "bin_n=bin(int(input()))\n",
        "rev_bin_n=bin_n[::-1]\n",
        "index=(rev_bin_n.index(\"1\"))+1\n",
        "print(index)"
      ],
      "metadata": {
        "colab": {
          "base_uri": "https://localhost:8080/"
        },
        "id": "VO-WYkjEkQi9",
        "outputId": "29c95016-75de-4f90-cbd3-bc7631be1441"
      },
      "execution_count": null,
      "outputs": [
        {
          "output_type": "stream",
          "name": "stdout",
          "text": [
            "18\n",
            "2\n"
          ]
        }
      ]
    },
    {
      "cell_type": "code",
      "source": [
        "# 79\n",
        "# Given number N, find the minimum factor which yeilds odd number as the quotient.\n",
        "\n",
        "n=int(input())\n",
        "factors=[i for i in range(1,n+1) if n%i==0 and (n//i)%2!=0 ]\n",
        "out=min(factors)\n",
        "print(out)"
      ],
      "metadata": {
        "colab": {
          "base_uri": "https://localhost:8080/"
        },
        "id": "b-2r0DKZkQoA",
        "outputId": "e4c420e1-181f-41ea-93a8-2c2f3d52b95c"
      },
      "execution_count": null,
      "outputs": [
        {
          "output_type": "stream",
          "name": "stdout",
          "text": [
            "9\n",
            "1\n"
          ]
        }
      ]
    },
    {
      "cell_type": "code",
      "source": [
        "# 80\n",
        "# Given a number N and a number K, find the greatest number which divides both.\n",
        "\n",
        "\n",
        "n,k=list(map(int,input().split(\" \")))[:2]\n",
        "\n",
        "factors_n={i for i in range(1,n+1) if n%i==0}\n",
        "factors_k={i for i in range(1,k+1) if k%i==0}\n",
        "CD=factors_k . intersection(factors_n)\n",
        "out=max(CD)\n",
        "print(out)"
      ],
      "metadata": {
        "colab": {
          "base_uri": "https://localhost:8080/"
        },
        "id": "fp7R3jZskQsg",
        "outputId": "df0e9407-4c44-43f3-f259-6987eb44efe0"
      },
      "execution_count": null,
      "outputs": [
        {
          "output_type": "stream",
          "name": "stdout",
          "text": [
            "5 10\n",
            "5\n"
          ]
        }
      ]
    },
    {
      "cell_type": "code",
      "source": [
        "# 81\n",
        "# Given a number N,check whether it has repeating digits in it.print 'yes' if it has repeating digits otherwise print 'no'.\n",
        "\n",
        "\n",
        "string=[str(x) for x in input()]\n",
        "set_string=set(string)\n",
        "if len(string)==len(set_string):\n",
        "    print(\"no\") \n",
        "else:print(\"yes\")"
      ],
      "metadata": {
        "colab": {
          "base_uri": "https://localhost:8080/"
        },
        "id": "jb164J7ckQyK",
        "outputId": "e2cb7a02-4776-4b17-d128-d08bb05ea147"
      },
      "execution_count": null,
      "outputs": [
        {
          "output_type": "stream",
          "name": "stdout",
          "text": [
            "11234\n",
            "yes\n"
          ]
        }
      ]
    },
    {
      "cell_type": "code",
      "source": [
        "# 82\n",
        "# Given a number N, print the odd factors for the N.\n",
        "\n",
        "\n",
        "n=int(input())\n",
        "\n",
        "factors_n={i for i in range(1,n+1) if n%i==0 and i%2!=0} \n",
        "print(*factors_n)"
      ],
      "metadata": {
        "colab": {
          "base_uri": "https://localhost:8080/"
        },
        "id": "NOy-zT_ElMB2",
        "outputId": "522c92e8-3fc3-48ab-d485-8ec7e463715e"
      },
      "execution_count": null,
      "outputs": [
        {
          "output_type": "stream",
          "name": "stdout",
          "text": [
            "9\n",
            "1 3 9\n"
          ]
        }
      ]
    },
    {
      "cell_type": "code",
      "source": [
        "# 83\n",
        "# Given 3 numbers A,B,C print 'yes' if they can form the sides of a scalene triangle else print 'no'.\n",
        "\n",
        "a,b,c=list(map(int,input().split(\" \")))[:3]\n",
        "if a!=b and a!=c and b!=c:\n",
        "    print(\"yes\")\n",
        "else:\n",
        "    print(\"no\")"
      ],
      "metadata": {
        "colab": {
          "base_uri": "https://localhost:8080/"
        },
        "id": "ADV-U-WllMFe",
        "outputId": "dcdde6be-5a06-4cc6-bb6b-0257704c17b8"
      },
      "execution_count": null,
      "outputs": [
        {
          "output_type": "stream",
          "name": "stdout",
          "text": [
            "3 4 5\n",
            "yes\n"
          ]
        }
      ]
    },
    {
      "cell_type": "code",
      "source": [
        "# 84\n",
        "# How many possible ways are to shuffle given number of playing cards?.\n",
        "\n",
        "def fact(n):\n",
        "    if n==0 or n==1:\n",
        "        return 1\n",
        "    else:return n*fact(n-1)\n",
        "n=int(input())\n",
        "out=fact(n)\n",
        "print(out)"
      ],
      "metadata": {
        "colab": {
          "base_uri": "https://localhost:8080/"
        },
        "id": "jAZPPzzolMKu",
        "outputId": "ef8647a3-e52f-4e4d-9e2c-4b88198b4510"
      },
      "execution_count": null,
      "outputs": [
        {
          "output_type": "stream",
          "name": "stdout",
          "text": [
            "7\n",
            "5040\n"
          ]
        }
      ]
    },
    {
      "cell_type": "code",
      "source": [
        "# 85\n",
        "# Given 3 numbers A,B,C find (A^B)%C.\n",
        "\n",
        "A,B,C=list(map(int,input().split(\" \")))[:3]\n",
        "formula=(A**B)%C\n",
        "out=int(formula)\n",
        "print(out)"
      ],
      "metadata": {
        "colab": {
          "base_uri": "https://localhost:8080/"
        },
        "id": "f_Tijx0AlMOy",
        "outputId": "e8889ecf-c01d-4700-904b-1033f4eb1947"
      },
      "execution_count": null,
      "outputs": [
        {
          "output_type": "stream",
          "name": "stdout",
          "text": [
            "3 4 1000000007\n",
            "81\n"
          ]
        }
      ]
    },
    {
      "cell_type": "code",
      "source": [
        "# 86\n",
        "# Given a number N, check whether it is a power of 2.\n",
        "\n",
        "def power(n):\n",
        "    if n/2==1:\n",
        "        print( \"yes\")\n",
        "    \n",
        "    elif (n/2)!=1 and (n/2)%2!=0:\n",
        "        print(\"no\")\n",
        "       \n",
        "    else:\n",
        "        n=n/2\n",
        "        return power(n)\n",
        "n=int(input())\n",
        "if n%2!=0:\n",
        "    print(\"no\")\n",
        "else:\n",
        "    power(n)\n"
      ],
      "metadata": {
        "colab": {
          "base_uri": "https://localhost:8080/"
        },
        "id": "fOQbTeEOlMSp",
        "outputId": "3f41e71f-c989-4d7d-b06c-07cd699b2281"
      },
      "execution_count": null,
      "outputs": [
        {
          "output_type": "stream",
          "name": "stdout",
          "text": [
            "2048\n",
            "yes\n"
          ]
        }
      ]
    },
    {
      "cell_type": "code",
      "source": [
        "# 87\n",
        "# Given an array of N elements switch(swap) the element with the adjacent element and print the output.\n",
        "\n",
        "n=int(input())\n",
        "arr=list(map(int,input().split(\" \")))[:n]\n",
        "ans=[]\n",
        "if n%2!=0:\n",
        "    for i in range(0,n-1,2):\n",
        "        arr[i],arr[i+1]=arr[i+1],arr[i]\n",
        "        ext=[arr[i],arr[i+1]]\n",
        "        ans.extend(ext)\n",
        "    ans.append(arr[-1])\n",
        "else:\n",
        "    for i in range(0,n-1,2):\n",
        "        arr[i],arr[i+1]=arr[i+1],arr[i]\n",
        "        ext=[arr[i],arr[i+1]]\n",
        "        ans.extend(ext)\n",
        "print(*ans)\n"
      ],
      "metadata": {
        "colab": {
          "base_uri": "https://localhost:8080/"
        },
        "id": "sflhN2eQlMWY",
        "outputId": "b69e14f9-4723-4249-ee1c-7f118ed97059"
      },
      "execution_count": null,
      "outputs": [
        {
          "output_type": "stream",
          "name": "stdout",
          "text": [
            "5\n",
            "3 2 1 2 3\n",
            "2 3 2 1 3\n"
          ]
        }
      ]
    },
    {
      "cell_type": "code",
      "source": [
        "# 88\n",
        "# The Tower of Hanoi (also called the Tower of Brahma) is a mathematical game or puzzle. It consists of three rods and a number of disks of different sizes, which can slide onto any rod. The puzzle starts with the disks in a neat stack in ascending order of size on one rod, the smallest at the top, thus making a conical shape.\n",
        "\n",
        "# The objective of the puzzle is to move the entire stack to another rod, obeying the following simple rules:\n",
        "\n",
        "# -Only one disk can be moved at a time.\n",
        "\n",
        "# -Each move consists of taking the upper disk from one of the stacks and placing it on top of another stack or on an empty rod.\n",
        "\n",
        "# -No larger disk may be placed on top of a smaller disk.\n",
        "\n",
        "# You are given the number of disks N. (Here 1 <= N <= 20)\n",
        "\n",
        "# Find the minimum number of moves required to solve the puzzle.\n",
        "\n",
        "\n",
        "n=int(input())\n",
        "formula=(2**n)-1\n",
        "print(formula)\n"
      ],
      "metadata": {
        "colab": {
          "base_uri": "https://localhost:8080/"
        },
        "id": "iURqnIFAlMaO",
        "outputId": "a22255d9-bcdb-4af4-92f4-b937e27a8957"
      },
      "execution_count": null,
      "outputs": [
        {
          "output_type": "stream",
          "name": "stdout",
          "text": [
            "3\n",
            "7\n"
          ]
        }
      ]
    },
    {
      "cell_type": "code",
      "source": [
        "# 89\n",
        "# A number is given as input.Find the maximum number that can be formed using the digits.\n",
        "\n",
        "digits=[int(i) for i in input()]\n",
        "sorted_digits=sorted(digits,reverse=True)\n",
        "ans=\"\"\n",
        "for i in sorted_digits:\n",
        "    ans+=(str(i))\n",
        "print(ans)\n"
      ],
      "metadata": {
        "colab": {
          "base_uri": "https://localhost:8080/"
        },
        "id": "4eohxzkplMeH",
        "outputId": "b7d257b3-c958-40a9-99a9-11afea27fe0c"
      },
      "execution_count": null,
      "outputs": [
        {
          "output_type": "stream",
          "name": "stdout",
          "text": [
            "4123\n",
            "4321\n"
          ]
        }
      ]
    },
    {
      "cell_type": "code",
      "source": [
        "# 90\n",
        "# You are given a very long integer.Your task is to determine the smallest possible number such that sum of factorial of digits results back in ‘n’. Print -1 if no number is possible\n",
        "\n",
        "def fact(n):\n",
        "    if n<=1: return 1\n",
        "    return n*fact(n-1)\n",
        "    \n",
        "\n",
        "    \n",
        "num=input()    \n",
        "n=[int(x) for x in num]\n",
        "l=len(n)\n",
        "fact_list=[]\n",
        "#to find combinations of factorial whose sum will give value num\n",
        "combinations=[]\n",
        "for i in range(1,(2*l)):\n",
        "    for j in range(1,(2*l)):\n",
        "        for k in range(1,(2*l)):\n",
        "            if  fact(i)+fact(j)==int(num) and i!=j:\n",
        "                combinations.append((i,j))\n",
        "                break\n",
        "            elif fact(i)+fact(j)+fact(k)==int(num) and i!=j!=k:\n",
        "                combinations.append((i,j,k))\n",
        "\n",
        "small_num=list(map(str,min(combinations)))\n",
        "ans=\"\"\n",
        "for i in small_num:ans=ans+i\n",
        "print(ans)"
      ],
      "metadata": {
        "colab": {
          "base_uri": "https://localhost:8080/"
        },
        "id": "UYTNfXOhlMiC",
        "outputId": "a539cf0e-a99e-4279-a941-cd52f0fa46d2"
      },
      "execution_count": null,
      "outputs": [
        {
          "output_type": "stream",
          "name": "stdout",
          "text": [
            "145\n",
            "145\n"
          ]
        }
      ]
    },
    {
      "cell_type": "code",
      "source": [
        "# 91\n",
        "# Given 2 numbers a and B.Print the value of a!/b!.\n",
        "\n",
        "def fact(n):\n",
        "    if n==0 or n==1:\n",
        "        return 1\n",
        "    else:return n*fact(n-1)\n",
        "a,b=list(map(int,input().split(\" \")))[:2]\n",
        "formula=int(fact(a)/fact(b))\n",
        "print(formula)"
      ],
      "metadata": {
        "colab": {
          "base_uri": "https://localhost:8080/"
        },
        "id": "XQxsqNeulMly",
        "outputId": "542accd9-da5b-422b-b82e-cc2490d6b74f"
      },
      "execution_count": null,
      "outputs": [
        {
          "output_type": "stream",
          "name": "stdout",
          "text": [
            "4 2\n",
            "12\n"
          ]
        }
      ]
    },
    {
      "cell_type": "code",
      "source": [
        "# 92\n",
        "# Assume you are john. John has one younger sister ‘jenny’. He wants to gift her some toys. He has a price list of toys and \n",
        "# he has some amount on hand. Your task is to tell him how many toys john will be able to buy for her sister\n",
        "\n",
        "# Input Description:\n",
        "# First line contains two integer ‘n’ and ‘k’ ,n denotes the number of toys and k denotes total money he has.Next line contains n space separated integers denoting price of each toy \n",
        "\n",
        "n,k=list(map(int,input().split(\" \")))[:2]\n",
        "prices=list(map(int,input().split(\" \")))[:n]\n",
        "toys=[prices[i] for i in range(n) if prices[i]<k]\n",
        "toys=sorted(toys,reverse=True)\n",
        "tot_price=[sum(toys[i:]) for i in range(len(toys)) if sum(toys[i:])<k]\n",
        "out=len(tot_price)\n",
        "print(out)\n"
      ],
      "metadata": {
        "colab": {
          "base_uri": "https://localhost:8080/"
        },
        "id": "GmkKHS6blMso",
        "outputId": "5406221e-9fea-40ce-d8cc-ed8d1438691c"
      },
      "execution_count": null,
      "outputs": [
        {
          "output_type": "stream",
          "name": "stdout",
          "text": [
            "7 50\n",
            "1 12 5 111 200 1000 10\n",
            "4\n"
          ]
        }
      ]
    },
    {
      "cell_type": "code",
      "source": [
        "# 93\n",
        "# Gunjan was going through the book of ‘hyp’ numbers. She is given task to find the nth hyp number.Your task is to help gunjan\n",
        "\n",
        "# A hyp number is a number whose all digits are prime.\n",
        "\n",
        "\n"
      ],
      "metadata": {
        "id": "-xpU9kv5lMv7"
      },
      "execution_count": null,
      "outputs": []
    },
    {
      "cell_type": "code",
      "source": [
        "# 94\n",
        "# :You are given an array of ‘n’ numbers.your task is to print the lcm of ‘n’ numbers\n",
        "\n",
        "# Input Description:\n",
        "# An integer ‘n’ denoting the size of array.Next line contains ‘n’ space separated numbers \n",
        "\n",
        "import math\n",
        "\n",
        "def lcm_list(val):\n",
        "  lcm = val[0]\n",
        "  for i in range(1,n):\n",
        "    lcm = lcm*val[i]//math.gcd(lcm, val[i])\n",
        "  return lcm\n",
        "n=int(input())\n",
        "val=list(map(int,input().split(\" \")))[:n]\n",
        "print(lcm_list(val))"
      ],
      "metadata": {
        "colab": {
          "base_uri": "https://localhost:8080/"
        },
        "id": "HqbKZsEDlMzb",
        "outputId": "d4311905-9908-4b2c-9771-75f11be43208"
      },
      "execution_count": null,
      "outputs": [
        {
          "output_type": "stream",
          "name": "stdout",
          "text": [
            "4\n",
            "2 4 6 8\n",
            "24\n"
          ]
        }
      ]
    },
    {
      "cell_type": "code",
      "source": [
        "# 95\n",
        "# Given a number 'N' print the sum of each digit to the power of number of digits in given input.\n",
        "\n",
        "n=input()\n",
        "digits=[int(x) for x in n]\n",
        "unit=len(n)\n",
        "out_list=[int(i)**unit for i in digits]\n",
        "out=sum(out_list)\n",
        "print(out)"
      ],
      "metadata": {
        "colab": {
          "base_uri": "https://localhost:8080/"
        },
        "id": "VixCUDe2lM5f",
        "outputId": "6f81551b-fe8d-4003-b3e3-f79de1fa2082"
      },
      "execution_count": null,
      "outputs": [
        {
          "output_type": "stream",
          "name": "stdout",
          "text": [
            "1234\n",
            "354\n"
          ]
        }
      ]
    },
    {
      "cell_type": "code",
      "source": [
        "# 96\n",
        "# Given 2 numbers N,K print the value of nPk(P-Permutation).\n",
        "\n",
        "def fact(n):\n",
        "    if n==0 or n==1:\n",
        "        return 1\n",
        "    else:return n*fact(n-1)\n",
        "n,k=list(map(int,input().split(\" \")))[:2]\n",
        "permu=fact(n)//(fact(n-k))\n",
        "print(permu)"
      ],
      "metadata": {
        "colab": {
          "base_uri": "https://localhost:8080/"
        },
        "id": "owoZc6SzlNAJ",
        "outputId": "896d42bd-d2f9-41b5-fd5f-20a5717a6c92"
      },
      "execution_count": null,
      "outputs": [
        {
          "output_type": "stream",
          "name": "stdout",
          "text": [
            "5 2\n",
            "20\n"
          ]
        }
      ]
    },
    {
      "cell_type": "code",
      "source": [
        "# 97\n",
        "# Given an array N, check if the values are alternating between increasing and decreasing.\n",
        "\n",
        "n=int(input())\n",
        "val=list(map(int,input().split(\" \")))[:n]\n",
        "v1=[val[i] for i in  range(0,n,2)]\n",
        "v2=[val[i] for i in range(1,n,2)]\n",
        "if n%2!=0 and v1[0]>v2[0]:v2.append(0)\n",
        "else:v2.append(v2[-1]) \n",
        "v=max(len(v1),len(v2))\n",
        "\n",
        "if v1[0]>v2[0]:\n",
        "    out=[\"1\" for i in range(v) if v1[i]>v2[i]]\n",
        "    if len(out)==v:\n",
        "        print(\"yes\")\n",
        "    else:print(\"no\")\n",
        "else:\n",
        "    out=[\"1\" for i in range(v) if v1[i]<v2[i]]\n",
        "    if len(out)==v:\n",
        "        print(\"yes\")\n",
        "    else:print(\"no\")\n"
      ],
      "metadata": {
        "colab": {
          "base_uri": "https://localhost:8080/"
        },
        "id": "IFLncO_WnPz-",
        "outputId": "79fce190-0022-4002-d0d0-3d8ec36e4b2c"
      },
      "execution_count": null,
      "outputs": [
        {
          "output_type": "stream",
          "name": "stdout",
          "text": [
            "5\n",
            "12 14 3 7 4\n",
            "yes\n"
          ]
        }
      ]
    },
    {
      "cell_type": "code",
      "source": [
        "# 98\n",
        "# Given a number N in binary format convert it to decimal number.\n",
        "\n",
        "n=input()\n",
        "m=int(n,2)\n",
        "print(m)"
      ],
      "metadata": {
        "colab": {
          "base_uri": "https://localhost:8080/"
        },
        "id": "8pScmrUanP9a",
        "outputId": "e8770ceb-5f96-41e4-e3e9-5e3d3691fb24"
      },
      "execution_count": null,
      "outputs": [
        {
          "output_type": "stream",
          "name": "stdout",
          "text": [
            "101\n",
            "5\n"
          ]
        }
      ]
    },
    {
      "cell_type": "code",
      "source": [
        "# 99\n",
        "# Given a number N, print the distinct pairs formed by multiplying two prime numbers (i.e)prime x prime should yield\n",
        "#  the N.Also print the numbers in descending order.If no such pairs can be formed print '-1'.\n",
        "\n",
        "from itertools import combinations\n",
        "import numpy as np\n",
        "n=int(input())\n",
        "factors=[int(i) for i in range(1,n+1) if n%i==0]\n",
        "primenos=[2]\n",
        "for i in range(3,n+1,2):\n",
        "    p_fact=[]\n",
        "    for j in range(1,n+1,2):\n",
        "        if i%j==0:\n",
        "            p_fact.append(j)\n",
        "    if len(p_fact)==2:\n",
        "        primenos.append(i)\n",
        "\n",
        "        \n",
        "primefactors=[i for i in factors if i in primenos]\n",
        "if len(primefactors)==1:\n",
        "    print(\"-1\")\n",
        "\n",
        "else:\n",
        "    def fact(n):\n",
        "        if n==1 or n==0:\n",
        "            return 1\n",
        "        else: return n*fact(n-1)\n",
        "#N=len(primefactors)\n",
        "#r=2    \n",
        "#combinations=fact(r+N-1)/((fact(r))*(fact(N-1)))\n",
        "    Combi=combinations(primefactors,2)\n",
        "    for i in list(Combi):\n",
        "        if np.prod(i)==n:\n",
        "            out=sorted(i,reverse=True)\n",
        "            print(*out)\n",
        "\n",
        "        else:print(\"-1\")"
      ],
      "metadata": {
        "colab": {
          "base_uri": "https://localhost:8080/"
        },
        "id": "DPRqdjeWnQGV",
        "outputId": "af086429-0004-41e9-c559-4b33d97d2b59"
      },
      "execution_count": null,
      "outputs": [
        {
          "output_type": "stream",
          "name": "stdout",
          "text": [
            "65\n",
            "13 5\n"
          ]
        }
      ]
    },
    {
      "cell_type": "code",
      "source": [
        "# 100\n",
        "# Given a string S and an integer K, print the string obtained by rotating the orignal string by K positions.\n",
        "\n",
        "s,n=list(map(str,input().split(\" \")))[:2]\n",
        "n=int(n)\n",
        "\n",
        "if n>len(s):\n",
        "    n=n%len(s)\n",
        "s1=s[:n]\n",
        "s2=s[n:]\n",
        "out=s2+s1\n",
        "print(out)"
      ],
      "metadata": {
        "colab": {
          "base_uri": "https://localhost:8080/"
        },
        "id": "oXhJpe6cnQOG",
        "outputId": "d1bc7ca1-2438-4e80-88e0-924407b197b4"
      },
      "execution_count": null,
      "outputs": [
        {
          "output_type": "stream",
          "name": "stdout",
          "text": [
            "katacode 4\n",
            "codekata\n"
          ]
        }
      ]
    },
    {
      "cell_type": "code",
      "source": [
        "#101\n",
        "#Given 3 numbers A,B,C print 'yes' if they can form the sides of a right angled triangle,otherwise 'no'.\n",
        "\n",
        "\n",
        "a,b,c=sorted(list(map(int,input().split(\" \")))[:3])\n",
        "if a**2 +b**2 ==c**2:\n",
        "    print(\"yes\")\n",
        "else:print(\"no\")"
      ],
      "metadata": {
        "id": "mKqZbeybnQVt",
        "colab": {
          "base_uri": "https://localhost:8080/"
        },
        "outputId": "84039946-f61a-454e-ddef-5aa0e181c9fd"
      },
      "execution_count": null,
      "outputs": [
        {
          "output_type": "stream",
          "name": "stdout",
          "text": [
            "3 4 5\n",
            "yes\n"
          ]
        }
      ]
    },
    {
      "cell_type": "code",
      "source": [
        "#102\n",
        "#Given 3 angles A,B,C find if they can be interior angles of a triangle.\n",
        "#If they form an interior triangle for the given angle,print 'yes' otherwise print 'no'.\n",
        "\n",
        "\n",
        "n=list(map(int,input().split(\" \")))[:3]\n",
        "if sum(n)==180:\n",
        "    print(\"yes\")\n",
        "else:print(\"no\")"
      ],
      "metadata": {
        "colab": {
          "base_uri": "https://localhost:8080/"
        },
        "id": "7XLD8E7yc2y_",
        "outputId": "88f92fd4-8cf0-482d-c8a4-c7b452de97e2"
      },
      "execution_count": null,
      "outputs": [
        {
          "output_type": "stream",
          "name": "stdout",
          "text": [
            "2 2 176\n",
            "yes\n"
          ]
        }
      ]
    },
    {
      "cell_type": "code",
      "source": [
        "# 103\n",
        "# You are given a number ‘n’.Your task is to develop an algorithm to tell whether the number is ‘ajs’ or not.An ‘ajs’ number \n",
        "# is a number whose sum of first two digits is present in given number ‘n’\n",
        "\n",
        "\n",
        "n=input()\n",
        "dig=[int(x) for x in n]\n",
        "s=str(dig[-1]+dig[-2])\n",
        "\n",
        "if len(s)==2:\n",
        "  li_s=[int(a) for a in s]\n",
        "  su_s=str(sum(li_s))\n",
        "  \n",
        "  Co=str(dig).count(su_s)\n",
        "  if (Co>0):print(\"1\")\n",
        "  else:print(\"0\")\n",
        "elif len(s)==1:\n",
        "  Co=str(dig).count(s)\n",
        "  \n",
        "  if (Co>0):print(\"1\")\n",
        "  else:print(\"0\")"
      ],
      "metadata": {
        "colab": {
          "base_uri": "https://localhost:8080/"
        },
        "id": "NszF5qm5c24N",
        "outputId": "c81a1de2-dcfc-44d9-bcef-7b975a7c3deb"
      },
      "execution_count": null,
      "outputs": [
        {
          "output_type": "stream",
          "name": "stdout",
          "text": [
            "9817\n",
            "1\n"
          ]
        }
      ]
    },
    {
      "cell_type": "code",
      "source": [
        "# 104\n",
        "# Nishant is a short heighted person. He is standing facing N pillars of different heights with ith pillar having height hi.\n",
        "#  He tries to see all the possible pillars. He wants to know that how many buildings will he be able to see in the range\n",
        "\n",
        "n=int(input())\n",
        "val=list(map(int,input().split(\" \")))[:n]\n",
        "m_index=val.index(max(val))\n",
        "\n",
        "ans=m_index+1\n",
        "print(ans)"
      ],
      "metadata": {
        "colab": {
          "base_uri": "https://localhost:8080/"
        },
        "id": "Mq0_w1UOc28o",
        "outputId": "f13d265e-9c51-4603-a7ae-a522e1ffb5ae"
      },
      "execution_count": null,
      "outputs": [
        {
          "output_type": "stream",
          "name": "stdout",
          "text": [
            "5\n",
            "11 5 9 6 7\n",
            "1\n"
          ]
        }
      ]
    },
    {
      "cell_type": "code",
      "source": [
        "# 105\n",
        "# Given a number N and an array of N elements, every number is repeated except for one. Print that one number.\n",
        "\n",
        "n=int(input())\n",
        "val=list(map(int,input().split(\" \")))[:n]\n",
        "unique=[val[i] for i in range(n) if val.count(val[i])==1]\n",
        "print(*unique)"
      ],
      "metadata": {
        "colab": {
          "base_uri": "https://localhost:8080/"
        },
        "id": "HqjQyn0vc3Bj",
        "outputId": "081bc2bb-d1a2-4f82-8f11-de1a4769f119"
      },
      "execution_count": null,
      "outputs": [
        {
          "output_type": "stream",
          "name": "stdout",
          "text": [
            "10\n",
            "1 2 3 2 3 3 2 5 5 2\n",
            "1\n"
          ]
        }
      ]
    },
    {
      "cell_type": "code",
      "source": [
        "# 106\n",
        "# Given 3 numbers A,B,C process and print 'yes' if they can form the sides of a triangle otherwise print 'no'.\n",
        "\n",
        "a,b,c=list(map(int,input().split(\" \")))[:3]\n",
        "if (a+b)<=c or (b+c)<=a or (a+c)<=b:\n",
        "    print(\"no\")\n",
        "else:print(\"yes\")"
      ],
      "metadata": {
        "colab": {
          "base_uri": "https://localhost:8080/"
        },
        "id": "ZbHB23dNc3Fe",
        "outputId": "b49cc542-6aa6-4258-e10e-d442c6d6f6c6"
      },
      "execution_count": null,
      "outputs": [
        {
          "output_type": "stream",
          "name": "stdout",
          "text": [
            "3 4 5\n",
            "yes\n"
          ]
        }
      ]
    },
    {
      "cell_type": "code",
      "source": [
        "# 107\n",
        "# A ‘zx’ number is a number which is formed from the sum of 3 numbers ,and the three numbers are such that their hcf equal to 1.\n",
        "# You are given a number.You have to tell whether the number is ‘zx’ or not,if yes then print the three numbers else 0\n",
        "\n",
        "\n"
      ],
      "metadata": {
        "id": "1-He1oifc3Ji"
      },
      "execution_count": null,
      "outputs": []
    },
    {
      "cell_type": "code",
      "source": [
        "# 108\n",
        "# harish learnt about gcd and and want to apply the concept to find the gcd of n numbers.\n",
        "# But in between he got stuck and now he is asking for some help your task is to print the gcd of n numbers and print -1 if there is no gcd possible\n",
        "\n"
      ],
      "metadata": {
        "id": "22Rpy588nQbM"
      },
      "execution_count": null,
      "outputs": []
    },
    {
      "cell_type": "code",
      "source": [
        "# 109\n",
        "# Given a number N, print the sum of its first and last digit.\n",
        "\n",
        "digits=[int(x) for x in input()]\n",
        "out=sum([digits[0],digits[-1]])\n",
        "print(out)"
      ],
      "metadata": {
        "id": "6PLmYzT3nQf3",
        "colab": {
          "base_uri": "https://localhost:8080/"
        },
        "outputId": "d30dc9d7-8250-4f4d-cd52-d5548966bd28"
      },
      "execution_count": null,
      "outputs": [
        {
          "output_type": "stream",
          "name": "stdout",
          "text": [
            "51233\n",
            "8\n"
          ]
        }
      ]
    },
    {
      "cell_type": "code",
      "source": [
        "# 110\n",
        "# Vishal is learning to skate on ice. He's a beginner, so his only mode of transportation\n",
        "#  is pushing off from a snow drift to the north, east, south or west and sliding until \n",
        "#  he lands in another snow drift. He has noticed that in this way it's impossible to get \n",
        "#  from some snow drifts to some other by any sequence of moves. He now wants to heap up some\n",
        "#   additional snow drifts, so that he can get from any snow drift to any other one. He asked you to find\n",
        "#    the minimal number of snow drifts that need to be created. We assume that Vishal can only heap up snow \n",
        "#    drifts at integer coordinates. The first line of input contains a single integer N the number of snow drifts.\n",
        "#     Each of the following n lines contains two integers xi and yi the coordinates of the i-th snow drift.\n",
        "#      Note that the north direction coinсides with the direction of Oy axis, so the east direction coinсides\n",
        "#  with the direction of the Ox axis. All snow drift's locations are distinct.\n",
        "\n",
        "\n"
      ],
      "metadata": {
        "id": "mgAPzRn8eowV"
      },
      "execution_count": null,
      "outputs": []
    },
    {
      "cell_type": "code",
      "source": [
        "# 111\n",
        "# Given a range (i.e) two numbers L and R count the number of perfect squares within the range \n",
        "# (inclusive of L and R).If no perfect square exists within the range print '-1'.\n",
        "\n",
        "l,r=list(map(int,input().split(\" \")))[:2]\n",
        "ranges=[i for i in range(l,r+1)]\n",
        "p_sq=[i**2 for i in range(1,r+1) if i**2 in ranges]\n",
        "if p_sq:\n",
        "    print(len(p_sq))\n",
        "else:print(\"-1\")"
      ],
      "metadata": {
        "colab": {
          "base_uri": "https://localhost:8080/"
        },
        "id": "mriayIHzeo0A",
        "outputId": "bed46497-e9bb-4faa-ac22-81a3f806f266"
      },
      "execution_count": null,
      "outputs": [
        {
          "output_type": "stream",
          "name": "stdout",
          "text": [
            "2 10\n",
            "2\n"
          ]
        }
      ]
    },
    {
      "cell_type": "code",
      "source": [
        "# 112\n",
        "# Given two numbers L,R print the smallest number which is divisible by both L and R.\n",
        "\n",
        "import math\n",
        "l,r=list(map(int,input().split(\" \")))[:2]\n",
        "lcm=((l*r)//math.gcd(l,r))\n",
        "print(lcm)"
      ],
      "metadata": {
        "colab": {
          "base_uri": "https://localhost:8080/"
        },
        "id": "YSbvVDxteo4g",
        "outputId": "705cc272-2c22-4c5e-fbb7-4d32c5fbc0f1"
      },
      "execution_count": null,
      "outputs": [
        {
          "output_type": "stream",
          "name": "stdout",
          "text": [
            "10 130\n",
            "130\n"
          ]
        }
      ]
    },
    {
      "cell_type": "code",
      "source": [
        "# 113\n",
        "# Given 2 numbers, perform bitwise xor and find the number of ones in its binary representation.\n",
        "\n",
        "\n",
        "l,r=list(map(int,input().split(\" \")))[:2]\n",
        "xor_bin=bin(l^r)\n",
        "out=xor_bin.count(\"1\")\n",
        "print(out)"
      ],
      "metadata": {
        "colab": {
          "base_uri": "https://localhost:8080/"
        },
        "id": "ld6Pzji_fSzc",
        "outputId": "3a4cd55e-f6db-40b0-ef22-aaf253ea70ea"
      },
      "execution_count": null,
      "outputs": [
        {
          "output_type": "stream",
          "name": "stdout",
          "text": [
            "10 5\n",
            "4\n"
          ]
        }
      ]
    },
    {
      "cell_type": "code",
      "source": [
        "# 114\n",
        "# Given a number N, check if N is divisible by any number less than N (ie.,it leaves no remainder)except 1.\n",
        "\n",
        "n=int(input())\n",
        "out=[i for i in range(2,n) if n%i==0]\n",
        "result=[\"yes\" if out!=[] else \"no\"]\n",
        "print(*result)"
      ],
      "metadata": {
        "colab": {
          "base_uri": "https://localhost:8080/"
        },
        "id": "Ltw0v8obfS4R",
        "outputId": "8df70aba-839f-47af-d626-25e606e62404"
      },
      "execution_count": null,
      "outputs": [
        {
          "output_type": "stream",
          "name": "stdout",
          "text": [
            "10\n",
            "yes\n"
          ]
        }
      ]
    },
    {
      "cell_type": "code",
      "source": [
        "# 115\n",
        "# Given a number N, Print sum of every didgit to the power of the weight of corresponding digit(Explanation : If the \n",
        "# input is 12345 and then output calculated as (1^0)+(2^1)+(3^2)+(4^3)+(5^4)).\n",
        "\n",
        "n=[int(x) for x in input()]\n",
        "out=[(n[i]**i) for i in range(len(n)) ]\n",
        "ans=sum(out)\n",
        "print(ans)\n"
      ],
      "metadata": {
        "colab": {
          "base_uri": "https://localhost:8080/"
        },
        "id": "WismHA4gfS-d",
        "outputId": "c772b508-0447-47c1-eaa8-237b58a67b3b"
      },
      "execution_count": null,
      "outputs": [
        {
          "output_type": "stream",
          "name": "stdout",
          "text": [
            "100\n",
            "1\n"
          ]
        }
      ]
    },
    {
      "cell_type": "code",
      "source": [
        "# 116\n",
        "# Given a square matrix of size N x N, find the product of the sum of diagonals.\n",
        "\n",
        "import numpy as np\n",
        "n=int(input())\n",
        "arr=np.array([list(map(int,input().split(\" \")))[:n] for i in range(n)])\n",
        "r_diag=np.fliplr(arr).diagonal().sum()\n",
        "l_diag=arr.diagonal().sum()\n",
        "pdt=r_diag * l_diag\n",
        "print(pdt)"
      ],
      "metadata": {
        "colab": {
          "base_uri": "https://localhost:8080/"
        },
        "id": "CvylxpjTfTCs",
        "outputId": "648a429d-1208-4422-df6f-4c8cb59935c3"
      },
      "execution_count": null,
      "outputs": [
        {
          "output_type": "stream",
          "name": "stdout",
          "text": [
            "2\n",
            "2 4\n",
            "3 7\n",
            "63\n"
          ]
        }
      ]
    },
    {
      "cell_type": "code",
      "source": [
        "# 117\n",
        "# You are head incharge of sports activity in queue. Your task is to sort the students height wise in line. But you can only swap students.Your task is to determine the minimum possible swaps required to sort the students in queue according to heights\n",
        "\n",
        "# Input Description:\n",
        "# You are given with number ‘n’ denoting number of students. Next line contains n space separated integers denoting their height.\n",
        "\n",
        "# Output Description:\n",
        "# Print the minimum number of swaps required to sort the students in line.\n",
        "\n",
        "\n"
      ],
      "metadata": {
        "id": "GRrf9Dc_fTHb"
      },
      "execution_count": null,
      "outputs": []
    },
    {
      "cell_type": "code",
      "source": [
        "# 118\n",
        "# Given a number N, print their prime factors in sorted order.\n",
        "\n",
        "n=int(input())\n",
        "fact=[i for i in range(1,n+1) if n%i==0]\n",
        "prime=[]\n",
        "for i in fact:\n",
        "    factor=[j for j in range(1,i+1) if i%j==0]\n",
        "    if len(factor)==2:\n",
        "        prime.append(i)\n",
        "print(*prime)\n"
      ],
      "metadata": {
        "colab": {
          "base_uri": "https://localhost:8080/"
        },
        "id": "uuro3935fTLP",
        "outputId": "238dbed4-1c05-4099-f94d-b217451cd92e"
      },
      "execution_count": null,
      "outputs": [
        {
          "output_type": "stream",
          "name": "stdout",
          "text": [
            "18\n",
            "2 3\n"
          ]
        }
      ]
    },
    {
      "cell_type": "code",
      "source": [
        "# 119\n",
        "# You are given a sequence containing N integers. Changing a maximum of one element of the sequence will result in a geometric progression with an integer common ratio.\n",
        "\n",
        "# Your task is to print the correct geometric progression. ((Ref. https://en.wikipedia.org/wiki/Geometric_progression), N >= 4)\n",
        "\n",
        "# Input Description:\n",
        "# The first line contains the integer N. The next line contains N space separated integers, A[0], A[1]...A[n-1]/\n",
        "\n",
        "# Output Description:\n",
        "# Print N space separated integers, which are in Geometric Progression\n",
        "\n",
        "import statistics\n",
        "import math\n",
        "n=int(input())\n",
        "arr=list(map(int,input().split()))[:n]\n",
        "#arr=[int(x) for x in input().split(\" \")][:n]\n",
        "ratio=[math.ceil(arr[i]/arr[i-1]) for i in range(1,n)]\n",
        "\n",
        "r=statistics.mode(ratio)\n",
        "\n",
        "if arr[1]/arr[0]== arr[2]/arr[1]==float(r):\n",
        "    a=arr[0]\n",
        "elif arr[1]//arr[0]==r and arr[2]//arr[1]<r:\n",
        "    a=arr[0]\n",
        "elif arr[1]/arr[0]<r and arr[2]/arr[1]>r:\n",
        "    a=arr[0]\n",
        "elif arr[1]/arr[0]>r and arr[2]/arr[1]==float(r):\n",
        "    a=arr[0]+1 \n",
        "elif arr[1]//arr[0]==r and arr[2]/arr[1]>r:\n",
        "    a=arr[0]    \n",
        "    \n",
        "else:\n",
        "    if arr[0]>0:a=arr[0]-1\n",
        "    else:a=arr[0]\n",
        "out=[a*(r**i) for i in range(n)]\n",
        "\n",
        "print(*out)"
      ],
      "metadata": {
        "colab": {
          "base_uri": "https://localhost:8080/"
        },
        "id": "V-gSTo9DfTP8",
        "outputId": "fecd5510-e398-4499-e9bd-550c3461ebb2"
      },
      "execution_count": null,
      "outputs": [
        {
          "output_type": "stream",
          "name": "stdout",
          "text": [
            "4\n",
            "2 3 8 16\n",
            "2 4 8 16\n"
          ]
        }
      ]
    },
    {
      "cell_type": "code",
      "source": [
        "# 120\n",
        "# Given a number N, print the sum of the squares of its digits.\n",
        "\n",
        "digits=[int(x)**2 for x in input()]\n",
        "out=sum(digits)\n",
        "print(out)"
      ],
      "metadata": {
        "colab": {
          "base_uri": "https://localhost:8080/"
        },
        "id": "eHeGsYfHfTUo",
        "outputId": "c312663e-b5a3-4a3d-e63d-6e3b95c39ea9"
      },
      "execution_count": null,
      "outputs": [
        {
          "output_type": "stream",
          "name": "stdout",
          "text": [
            "19\n",
            "82\n"
          ]
        }
      ]
    },
    {
      "cell_type": "code",
      "source": [
        "# 121\n",
        "# There is a business analysis company named “AJ”. It hired two interns “A” and “B”. Both of them are given tasks to sell product in n days. The one who will sell more share will get the job. As A and B are good friends they decided that they will equalize the collected money, they are only allowed to swap more than one day’s share to make the total of each same. Your task is to help them.\n",
        "# Constraints\n",
        "# 1<=N,a[i],b[i]<=50\n",
        "\n",
        "# Input Description:\n",
        "# First line contains no of days. Next line contains the n space separated integers representing sale of A. Next line contains Space separated integers representing sale of B.\n",
        "\n",
        "# Output Description:\n",
        "# Print “yes” if it is possible by one one swap. Else no\n",
        "\n"
      ],
      "metadata": {
        "id": "m5Zu_oVHfTZE"
      },
      "execution_count": null,
      "outputs": []
    },
    {
      "cell_type": "code",
      "source": [
        "# 122\n",
        "# Rampal is a number in which the sum of last two digits of that number is multiple of 4.\n",
        "# Your teacher has given you the task to make a list of rampal numbers.Your task is to tell whether the number is rampal or not.\n",
        "\n",
        "\n",
        "# Note : if the number is negative than rampal is a number which has sum of first and last digit as multiple of 4  \n",
        "\n",
        "\n",
        "N=input()\n",
        "n=int(N)\n",
        "if n>0:\n",
        "    digits=list(map(lambda i:int(i),N))\n",
        "    if (digits[-1]+digits[-2])%4==0:print(\"yes\")\n",
        "    else:print(\"no\")\n",
        "else:\n",
        "    m=str(abs(n))\n",
        "    digits=list(map(lambda i:int(i),m))\n",
        "    if(digits[0]+digits[-1])%4==0:print(\"yes\")\n",
        "    else:print(\"no\")"
      ],
      "metadata": {
        "colab": {
          "base_uri": "https://localhost:8080/"
        },
        "id": "XhlgvCHDfTdT",
        "outputId": "96b4e77e-f927-4c29-917d-0a69f1b67463"
      },
      "execution_count": null,
      "outputs": [
        {
          "output_type": "stream",
          "name": "stdout",
          "text": [
            "20\n",
            "no\n"
          ]
        }
      ]
    },
    {
      "cell_type": "code",
      "source": [
        "# 123\n",
        "# Rahul was learning about numbers in list. He came across one word ground of a number.\n",
        "\n",
        "# A ground of a number is defined as the number which is just smaller or equal to the number given to you.Hence he started solving some assignments related to it. He got struck in some questions. Your task is to help him.\n",
        "\n",
        "# O(n) time complexity\n",
        "\n",
        "# O(n) Auxilary space\n",
        "\n",
        "# Input Description:\n",
        "# First line contains two numbers ‘n’ denoting number of integers and ‘k’ whose ground is to be check. Next line contains n space separated numbers.\n",
        "\n",
        "# Output Description:\n",
        "# Print the index of val.Print -1 if equal or near exqual number \n",
        "\n",
        "import math\n",
        "n,k=map(int,input().split(\" \"))\n",
        "l=list(map(int,input().split()))[:n]\n",
        "M=max(l)\n",
        "\n",
        "I=l.index(M)\n",
        "\n",
        "\n",
        "if (l.count(k))>=1:print(l.index(k))\n",
        "elif(l.count(math.floor(k)))>=1:print(-1)\n",
        "elif (k>(M)):print(l[(I-1)])"
      ],
      "metadata": {
        "colab": {
          "base_uri": "https://localhost:8080/"
        },
        "id": "16ojzu4KfTh9",
        "outputId": "c90eb351-74ea-4127-9999-7fe10cc7bb45"
      },
      "execution_count": null,
      "outputs": [
        {
          "output_type": "stream",
          "name": "stdout",
          "text": [
            "7 3\n",
            "1 2 3 4 5 6 7\n",
            "2\n"
          ]
        }
      ]
    },
    {
      "cell_type": "code",
      "source": [
        "# 124\n",
        "# Given a range[L,R], print the sum of all the odd numbers within the range(inclusive of L and R).\n",
        "\n",
        "L,R=list(map(int,input().split(\" \")))[:2]\n",
        "odd=[i for i in range(L,R+1) if i%2!=0]\n",
        "sum_odd=sum(odd)\n",
        "print(sum_odd)"
      ],
      "metadata": {
        "colab": {
          "base_uri": "https://localhost:8080/"
        },
        "id": "hQn41KhNfTmX",
        "outputId": "d8e100e2-dd25-407f-c2ec-3a077a2829e2"
      },
      "execution_count": null,
      "outputs": [
        {
          "output_type": "stream",
          "name": "stdout",
          "text": [
            "5 10\n",
            "21\n"
          ]
        }
      ]
    },
    {
      "cell_type": "code",
      "source": [
        "# 125\n",
        "# Given a square matrix of size N x N, find the sum of the product of its diagonals.\n",
        "\n",
        "'''\n",
        "import numpy as np\n",
        "n=int(input())\n",
        "Arr=[]\n",
        "for i in range(n):\n",
        " arr=(list(map(int,input().split(\" \")))[:n])\n",
        " Arr.append(arr)\n",
        "\n",
        "matri=np.array(Arr)\n",
        "\n",
        "out=(np.diag(matri,k=0).prod())+(np.fliplr(matri).diagonal().prod())\n",
        "print(out)\n",
        "'''\n",
        "import math\n",
        "n=int(input())\n",
        "Arr=[]\n",
        "for i in range(n):\n",
        " arr=(list(map(int,input().split(\" \")))[:n])\n",
        " Arr.append(arr)\n",
        "\n",
        "diag1=[Arr[i][i] for i in range(n)]\n",
        "diag2=[Arr[i][n-1-i] for i in range(n)]\n",
        "\n",
        "result=math.prod(diag1) + math.prod(diag2)\n",
        "print(result)"
      ],
      "metadata": {
        "colab": {
          "base_uri": "https://localhost:8080/"
        },
        "id": "q3AlRyPN_uqh",
        "outputId": "8bccb0e4-6368-457b-f907-298ffc877e3e"
      },
      "execution_count": null,
      "outputs": [
        {
          "output_type": "stream",
          "name": "stdout",
          "text": [
            "2\n",
            "2 4\n",
            "3 7\n",
            "26\n"
          ]
        }
      ]
    },
    {
      "cell_type": "code",
      "source": [
        "# 126\n",
        "# The Caesar Cipher technique is one of the earliest and simplest method of encryption technique. \n",
        "# It’s simply a type of substitution cipher, i.e., each letter of a given text is replaced by a letter some\n",
        "#  fixed number of positions down the alphabet. For example with a shift of 1, A would be replaced by B, B would become C,\n",
        "#   and so on. The method is apparently named after Julius Caesar, who apparently used it to communicate with his officials.\n",
        "# For the given input string(S) and shift print the encrypted string.\n",
        "\n",
        "uc=[str(x) for x in\"ABCDEFGHIJKLMNOPQRSTUVWXYZ\"]\n",
        "lc=[str(x) for x in 'abcdefghijklmnopqrstuvwxyz']\n",
        "ui=list(map(str,input().split(\" \")))[:2]\n",
        "s=[x for x in ui[0]]\n",
        "n=int(ui[1])\n",
        "out=\"\"\n",
        "for i in range(len(s)):\n",
        "    if s[i] in uc:\n",
        "        ind=uc.index(s[i])+n\n",
        "        if ind>26:\n",
        "            ind_=ind-26\n",
        "            out+=uc[ind_]\n",
        "        else:\n",
        "            out+=uc[ind]\n",
        "    else:\n",
        "        ind=lc.index(s[i])+n\n",
        "        if ind>26:\n",
        "            ind_=ind-26\n",
        "            out+=lc[ind_]\n",
        "        else:\n",
        "            out+=lc[ind]\n",
        "        \n",
        "print(out)"
      ],
      "metadata": {
        "colab": {
          "base_uri": "https://localhost:8080/",
          "height": 259
        },
        "id": "mj_77kge_uvR",
        "outputId": "56e43a3f-f883-459b-d952-2971afa135f6"
      },
      "execution_count": null,
      "outputs": [
        {
          "name": "stdout",
          "output_type": "stream",
          "text": [
            "ABCdEFGHIJKLMNOPQRSTUVWXYz 23\n"
          ]
        },
        {
          "output_type": "error",
          "ename": "IndexError",
          "evalue": "ignored",
          "traceback": [
            "\u001b[0;31m---------------------------------------------------------------------------\u001b[0m",
            "\u001b[0;31mIndexError\u001b[0m                                Traceback (most recent call last)",
            "\u001b[0;32m<ipython-input-9-e0274627a256>\u001b[0m in \u001b[0;36m<module>\u001b[0;34m\u001b[0m\n\u001b[1;32m     26\u001b[0m             \u001b[0mout\u001b[0m\u001b[0;34m+=\u001b[0m\u001b[0mlc\u001b[0m\u001b[0;34m[\u001b[0m\u001b[0mind_\u001b[0m\u001b[0;34m]\u001b[0m\u001b[0;34m\u001b[0m\u001b[0;34m\u001b[0m\u001b[0m\n\u001b[1;32m     27\u001b[0m         \u001b[0;32melse\u001b[0m\u001b[0;34m:\u001b[0m\u001b[0;34m\u001b[0m\u001b[0;34m\u001b[0m\u001b[0m\n\u001b[0;32m---> 28\u001b[0;31m             \u001b[0mout\u001b[0m\u001b[0;34m+=\u001b[0m\u001b[0mlc\u001b[0m\u001b[0;34m[\u001b[0m\u001b[0mind\u001b[0m\u001b[0;34m]\u001b[0m\u001b[0;34m\u001b[0m\u001b[0;34m\u001b[0m\u001b[0m\n\u001b[0m\u001b[1;32m     29\u001b[0m \u001b[0;34m\u001b[0m\u001b[0m\n\u001b[1;32m     30\u001b[0m \u001b[0mprint\u001b[0m\u001b[0;34m(\u001b[0m\u001b[0mout\u001b[0m\u001b[0;34m)\u001b[0m\u001b[0;34m\u001b[0m\u001b[0;34m\u001b[0m\u001b[0m\n",
            "\u001b[0;31mIndexError\u001b[0m: list index out of range"
          ]
        }
      ]
    },
    {
      "cell_type": "code",
      "source": [
        "# 127\n",
        "# Given 2 strings S,X. Print 'yes' if their lengths are co-prime otherwise print 'no'.\n",
        "\n",
        "\n",
        "a=list(map(str,input().split(\" \")))[:2]\n",
        "\n",
        "lens=[len(i) for i in a]\n",
        "s=lens[0]\n",
        "x=lens[1]\n",
        "\n",
        "def HCF(a,b):\n",
        "    if a==0:return b\n",
        "    else: return HCF(b%a,a)\n",
        "\n",
        "coprime=HCF(s,x)\n",
        "out=[\"yes\" if coprime==1 else \"no\"]\n",
        "print(*out)"
      ],
      "metadata": {
        "colab": {
          "base_uri": "https://localhost:8080/"
        },
        "id": "laC40_rI_uzR",
        "outputId": "8c201699-254e-4c3c-d19b-2133cacbefa1"
      },
      "execution_count": null,
      "outputs": [
        {
          "output_type": "stream",
          "name": "stdout",
          "text": [
            "GUVIS GEEKTEC\n",
            "yes\n"
          ]
        }
      ]
    },
    {
      "cell_type": "code",
      "source": [
        "# 128\n",
        "# A number is given as input. Find the odd digits in the number, add them and find if the sum is odd or not. If even print E, if odd print O.\n",
        "\n",
        "num=[int(x) for x in input()]\n",
        "odd_num=[x for x in num if x%2!=0]\n",
        "odd_num_sum= sum(odd_num)\n",
        "result=[\"E\" if odd_num_sum%2==0 else\"O\"]\n",
        "print(*result)\n"
      ],
      "metadata": {
        "colab": {
          "base_uri": "https://localhost:8080/"
        },
        "id": "Z4aTlf2s_u3u",
        "outputId": "ac42a350-027b-432a-a09e-03b0db1ea962"
      },
      "execution_count": null,
      "outputs": [
        {
          "output_type": "stream",
          "name": "stdout",
          "text": [
            "413\n",
            "E\n"
          ]
        }
      ]
    },
    {
      "cell_type": "code",
      "source": [
        "# 129\n",
        "# Given a number N, print the even factors of N.If the even factor does not exists for N print '-1'.\n",
        "\n",
        "n=int(input())\n",
        "factors=[i for i in range(1,n+1) if n%i==0]\n",
        "even_factors=[i for i in factors if i%2==0]\n",
        "\n",
        "\n",
        "result=[' '.join(map(str, even_factors)) if len(even_factors)!=0 else \"-1\"]\n",
        "print(' '.join(map(str, result)))"
      ],
      "metadata": {
        "colab": {
          "base_uri": "https://localhost:8080/"
        },
        "id": "BHujOsE0M6Rh",
        "outputId": "31e328e8-aece-4141-c3de-ed7c09775e10"
      },
      "execution_count": null,
      "outputs": [
        {
          "output_type": "stream",
          "name": "stdout",
          "text": [
            "8\n",
            "2 4 8\n"
          ]
        }
      ]
    },
    {
      "cell_type": "code",
      "source": [
        "# 130\n",
        "# Given an integer N, find if it is divisible by 11\n",
        "\n",
        "#  \n",
        "\n",
        "# N >= 1\n",
        "\n",
        "# 1 <= No. of digits in N <= 1000\n",
        "\n",
        "# Input Description:\n",
        "# The only line of input contains an integer N\n",
        "\n",
        "# Output Description:\n",
        "# Print YES if N is divisible by 11, NO otherwise.\n",
        "\n",
        "n=int(input())\n",
        "result=[\"YES\" if n%11==0 else \"NO\"]\n",
        "print(*result)\n"
      ],
      "metadata": {
        "colab": {
          "base_uri": "https://localhost:8080/"
        },
        "id": "6yVpZHOqM6V2",
        "outputId": "f2845f9a-96f6-43c1-f6b7-5db52a95eaf6"
      },
      "execution_count": null,
      "outputs": [
        {
          "output_type": "stream",
          "name": "stdout",
          "text": [
            "1331\n",
            "YES\n"
          ]
        }
      ]
    },
    {
      "cell_type": "code",
      "source": [
        "# 131\n",
        "# Given two numbers a and b, write a program to print the count of numbers in the range [a,b]\n",
        "#  in which there are prime number of 1's in their binary representation.\n",
        "\n",
        "a,b=list(map(int,input().split(\" \")))[:2]\n",
        "num=[bin(i)[2:] for i in range(a,b+1)]\n",
        "count_1s=[i.count('1') for i in num]\n",
        "prime_nos=[2,3,5,7,11]\n",
        "primecount=[1 for i in count_1s if i in prime_nos]\n",
        "out=sum(primecount)\n",
        "print(out)"
      ],
      "metadata": {
        "colab": {
          "base_uri": "https://localhost:8080/"
        },
        "id": "GVgESkzGM6Z8",
        "outputId": "7ae5cfc8-d8be-42c0-8aad-572feee0aafd"
      },
      "execution_count": null,
      "outputs": [
        {
          "output_type": "stream",
          "name": "stdout",
          "text": [
            "1 3\n",
            "1\n"
          ]
        }
      ]
    },
    {
      "cell_type": "code",
      "source": [
        "# 132\n",
        "# Given a number N print the right-angled triangle with the top level having N 1's followed by each level with is one 1 lesser.\n",
        "\n",
        "n=int(input())\n",
        "for row in range(n,0,-1):\n",
        "    pattern=\"1\"*row\n",
        "    print(*pattern)"
      ],
      "metadata": {
        "colab": {
          "base_uri": "https://localhost:8080/"
        },
        "id": "sOCFRq-4M6eT",
        "outputId": "f3f68301-84dd-4855-8e8a-db556473da78"
      },
      "execution_count": null,
      "outputs": [
        {
          "output_type": "stream",
          "name": "stdout",
          "text": [
            "3\n",
            "1 1 1\n",
            "1 1\n",
            "1\n"
          ]
        }
      ]
    },
    {
      "cell_type": "code",
      "source": [
        "# 133\n",
        "# Given a number N, check if the sum of the digits is a Palindrome. Print 'yes' or 'no' accordingly.\n",
        "\n",
        "n=sum([int(x) for x in input()])\n",
        "N=str(n)\n",
        "if len(N)==1:print(\"yes\")\n",
        "    \n",
        "    \n",
        "elif len(N)==2 and N[0]==N[1]:print(\"yes\")\n",
        "elif len(N)>2 and N[::-1]==N:print(\"yes\")\n",
        "else:print(\"no\")"
      ],
      "metadata": {
        "colab": {
          "base_uri": "https://localhost:8080/"
        },
        "id": "b-ZzNj16NZjh",
        "outputId": "13969f32-d586-4909-a27b-bf52e86fb244"
      },
      "execution_count": null,
      "outputs": [
        {
          "output_type": "stream",
          "name": "stdout",
          "text": [
            "13\n",
            "yes\n"
          ]
        }
      ]
    },
    {
      "cell_type": "code",
      "source": [
        "# 134\n",
        "# Given a number N, print 'INT' if it is integer range or print 'LONG' if it is greater.\n",
        "\n",
        "N=int(input())\n",
        "result=[\"INT\" if 1<N<10000 else \"LONG\"]\n",
        "print(*result)\n",
        "    "
      ],
      "metadata": {
        "colab": {
          "base_uri": "https://localhost:8080/"
        },
        "id": "dByWhXX5NZoB",
        "outputId": "5730f9dd-849b-4954-8ef9-39c9471add4e"
      },
      "execution_count": null,
      "outputs": [
        {
          "output_type": "stream",
          "name": "stdout",
          "text": [
            "999\n",
            "INT\n"
          ]
        }
      ]
    },
    {
      "cell_type": "code",
      "source": [
        "# 135\n",
        "# You are given with two integers denoting h and m. Your task is to find the angle between that particular min hand and hour hand.\n",
        "\n",
        "import math\n",
        "h,m=list(map(int,input().split(\" \")))[:2]\n",
        "minute_degree =360- m*6\n",
        "hour_degree =math.ceil(((h*5)+(m/12.5))*6)\n",
        "degree =minute_degree-hour_degree\n",
        "print(degree)"
      ],
      "metadata": {
        "colab": {
          "base_uri": "https://localhost:8080/"
        },
        "id": "WUY9FST9NZt0",
        "outputId": "4ad365da-5f9c-48e3-90c2-009c2c903fde"
      },
      "execution_count": null,
      "outputs": [
        {
          "output_type": "stream",
          "name": "stdout",
          "text": [
            "3 30\n",
            "75\n"
          ]
        }
      ]
    },
    {
      "cell_type": "code",
      "source": [
        "# 136\n",
        "# The potential energy of a ball of mass m placed at height h is given by U = m.g.h.\n",
        "#  (m - mass, g - acceleration due to gravity). The acceleration due to gravity of K planets is given to you. Answer Q queries of the form,\n",
        "# U P h\n",
        "# U denotes the potential energy of a ball placed at height h on planet P.\n",
        "# Answer each query by printing the mass of the ball used.\n",
        "\n",
        "# Input Description:\n",
        "# The first line contains an integer K denoting the number of planets. The next K lines contains the name of the\n",
        "#  planet and it's acceleration due to gravity, separated by a space. The next line contains an integer Q denoting\n",
        "#   the number of queries. The next Q lines contains a query as specified in the question.\n",
        "\n",
        "# Output Description:\n",
        "# Print Q lines denoting the mass of the ball used in each query. Round off the mass to two decimal places.\n",
        "\n",
        "n=int(input())\n",
        "query=[]\n",
        "for i in range(n):\n",
        "    q=input().split(\" \")[:n]\n",
        "    query.append(q)\n",
        "Q=int(input())\n",
        "detail=[]\n",
        "for j in range(Q):\n",
        "    qq=list(map(str,input().split(\" \")))[:3]\n",
        "    detail.append(qq)\n",
        "    \n",
        "    \n",
        "\n",
        "for det in detail:\n",
        "    U=int(det[0])\n",
        "    h=int(det[2])\n",
        "    for i in query:\n",
        "        if det[1] in i:\n",
        "            g=int(i[1])\n",
        "            m=U/(g*h)\n",
        "            ans=round(m*100)/100 # this line will give round off value (1.0, 2.78 [for 2.775])\n",
        "            print(format(ans, '.2f')) #this line will give (1.00, 2.78)"
      ],
      "metadata": {
        "colab": {
          "base_uri": "https://localhost:8080/"
        },
        "id": "oWSrh6reNZys",
        "outputId": "3d913a57-3410-4fba-a920-583a0e0063a9"
      },
      "execution_count": null,
      "outputs": [
        {
          "output_type": "stream",
          "name": "stdout",
          "text": [
            "2\n",
            "earth 10\n",
            "venus 20\n",
            "1\n",
            "200 earth 6\n",
            "3.33\n"
          ]
        }
      ]
    },
    {
      "cell_type": "code",
      "source": [
        "# 137\n",
        "# Given a number N, find the smallest number which is greater than N with the same digits in N. If N is the greatest digit print 'impossible'.\n",
        "\n",
        "from itertools import permutations\n",
        "userin=[int(x) for x in input()]\n",
        "result=sorted(list(permutations(userin)))\n",
        "inde=result.index(tuple(userin))\n",
        "if (inde==len(result)-1) or (len(set(userin))==1) :\n",
        "    print(\"impossible\")    \n",
        "else:\n",
        "    res=result[inde+1]\n",
        "    out=\"\"\n",
        "    for i in res:\n",
        "        out+=str(i)\n",
        "    print(out)\n",
        "\n"
      ],
      "metadata": {
        "colab": {
          "base_uri": "https://localhost:8080/"
        },
        "id": "AwshlTCNWMlE",
        "outputId": "4dba3879-7955-4eb2-e15a-f858415cdc2a"
      },
      "execution_count": null,
      "outputs": [
        {
          "output_type": "stream",
          "name": "stdout",
          "text": [
            "123\n",
            "132\n"
          ]
        }
      ]
    },
    {
      "cell_type": "code",
      "source": [
        "# 138\n",
        "# Given a number N, print the smallest number with sum of digits N.\n",
        "\n"
      ],
      "metadata": {
        "id": "9SGoedHWNZ37"
      },
      "execution_count": null,
      "outputs": []
    },
    {
      "cell_type": "code",
      "source": [
        "# 139\n",
        "# Given a number N, print the first N Catalan numbers.\n",
        "\n",
        "\n",
        "\n"
      ],
      "metadata": {
        "id": "PjSANKm5YYBL"
      },
      "execution_count": null,
      "outputs": []
    },
    {
      "cell_type": "code",
      "source": [
        "# 140\n",
        "# Given a number N in decimal, print the length of the corresponding binary digit.\n",
        "\n",
        "n=int(input())\n",
        "out=bin(n)[2:]\n",
        "print(len(out))\n"
      ],
      "metadata": {
        "id": "Lhq50dLbYYMK",
        "colab": {
          "base_uri": "https://localhost:8080/"
        },
        "outputId": "48862567-9a16-4384-ff8f-ca5af3f66908"
      },
      "execution_count": null,
      "outputs": [
        {
          "output_type": "stream",
          "name": "stdout",
          "text": [
            "10\n",
            "4\n"
          ]
        }
      ]
    },
    {
      "cell_type": "code",
      "source": [
        "# 141\n",
        "# Given a number N, and a N*N matrix containing only 0's and 1's, where 0's represent water and 1's representing land, find the number of island 1's(1 surrounded by 0 on all of its\n",
        "#  adjacent sides).If the island could not be found with the given matrix print -1."
      ],
      "metadata": {
        "id": "h_lp4EjHYYRb"
      },
      "execution_count": null,
      "outputs": []
    },
    {
      "cell_type": "code",
      "source": [
        "# 142\n",
        "# You are given an integer N, find if the number is divisible by 4.\n",
        "\n",
        "n=int(input())\n",
        "print(\"YES\" if n%4==0 else \"NO\")"
      ],
      "metadata": {
        "id": "lNTwRNyeYYWF",
        "colab": {
          "base_uri": "https://localhost:8080/"
        },
        "outputId": "66e00489-9956-4147-90a9-bae461b20159"
      },
      "execution_count": null,
      "outputs": [
        {
          "output_type": "stream",
          "name": "stdout",
          "text": [
            "44\n",
            "YES\n"
          ]
        }
      ]
    },
    {
      "cell_type": "code",
      "source": [
        "# 143 code is correct but test case2 failed???\n",
        "# The interest rates of two banks A and B vary. You have received offers from both bank in terms of\n",
        "#  annual rate of interest, tenure and variations of rate of interest over the entire tenure.\n",
        "\n",
        "# You have to choose the offer which costs you least interest and reject the other.\n",
        "\n",
        "# The loan repayment happens at a monthly frequency and Equated Monthly Installment (EMI) is calculated using the formula given below :\n",
        "\n",
        "# EMI = loanAmount * monthlyInterestRate /\n",
        "#        ( 1 - 1 / (1 + monthlyInterestRate)^(numberOfYears * 12))\n",
        "\n",
        "# Input Description:\n",
        "# First line : P – principal amount (Loan Amount) \n",
        "# Second line : T – Total Tenure (in years). \n",
        "# Third Line : N1 is number of slabs of interest rates for a given period T by Bank A.\n",
        "#  First slab starts from first year and second slab starts from end of first slab and so on.\n",
        "#   Next, there will be N1 lines of input containing interest rate and their period seperated by a single space.\n",
        "#    After N1 lines, we will receive N2 which will be the number of slabs offered by Bank B.\n",
        "#     Next N2 lines are number of slabs of interest rates for a given period by Bank B. \n",
        "#     First slab starts from first year and second slab starts from end of first slab and so on. \n",
        "#     The period and rate will be delimited by single white space.\n",
        "\n",
        "# Output Description:\n",
        "# Print 'Bank A' or 'Bank B' based on the factor which cost you the least interest amount. \n",
        "\n",
        "p,t,n1=[int(input()) for i in range(3)]\n",
        "tot_emi_bank1=0\n",
        "tot_emi_bank2=0\n",
        "for i in range(n1):\n",
        "  year, interest=list(map(float,input().split(\" \")))[:2]\n",
        "  emi1=(p*interest)/( 1 - (1 / (1 + interest)**(year * 12)))\n",
        "  tot_emi_bank1+=emi1\n",
        "n2=int(input())\n",
        "for i in range(n2):\n",
        "    year, interest=list(map(float,input().split(\" \")))[:2]\n",
        "    emi2=(p*interest)/( 1 - (1 / (1 + interest)**(year * 12)))\n",
        "    tot_emi_bank2+=emi2\n",
        "\n",
        "print(tot_emi_bank1)\n",
        "print(tot_emi_bank2)\n",
        "print(\"Bank A\" if tot_emi_bank1<tot_emi_bank2 else \"Bank B\" )"
      ],
      "metadata": {
        "id": "H4rpQAcdYYlS",
        "colab": {
          "base_uri": "https://localhost:8080/"
        },
        "outputId": "53d8ff41-d75a-4820-9c93-a8ee2e5f81af"
      },
      "execution_count": null,
      "outputs": [
        {
          "output_type": "stream",
          "name": "stdout",
          "text": [
            "500000\n",
            "26\n",
            "3\n",
            "14 8.5\n",
            "6 7.4\n",
            "6 9.6\n",
            "3\n",
            "13 9.5\n",
            "3 6.9\n",
            "10 5.6\n",
            "12750000.0\n",
            "11000000.0\n",
            "Bank B\n"
          ]
        }
      ]
    },
    {
      "cell_type": "code",
      "source": [
        "# 144\n",
        "# You are given with an array. Your task is to print the left rotated array after k opearations.\n",
        "\n",
        "\n",
        "k,n=list(map(int,input().split(\" \")))[:2]    \n",
        "arr=[str(x) for x in input().split(\" \")][:k]\n",
        "\n",
        "\n",
        "if n>len(arr):\n",
        "    n=n%len(arr)\n",
        "    arr1=arr[:n]\n",
        "    arr2=arr[n:]\n",
        "    out=arr2+arr1\n",
        "else: \n",
        "    arr1=arr[:n]\n",
        "    arr2=arr[n:]\n",
        "    out=arr2+arr1\n",
        "    \n",
        "print(*out)"
      ],
      "metadata": {
        "id": "GpdPcHjwNZ9q",
        "colab": {
          "base_uri": "https://localhost:8080/"
        },
        "outputId": "907ef69f-0241-45b6-989a-915d1908d4b3"
      },
      "execution_count": null,
      "outputs": [
        {
          "output_type": "stream",
          "name": "stdout",
          "text": [
            "7 3\n",
            "1 2 3 4 5 6 7\n",
            "4 5 6 7 1 2 3\n"
          ]
        }
      ]
    },
    {
      "cell_type": "code",
      "source": [
        "# 145\n",
        "# Given a limit N followed by N numbers, find the number of pairs such ai + aj = ak for all i < j < k.\n",
        "\n",
        "from itertools import combinations\n",
        "n=int(input())\n",
        "arr=list(map(int,input().split(\" \")))[:n]\n",
        "combi=[i for i in combinations(arr, 2) if sum(i) in arr]\n",
        "ans=[]\n",
        "for i in combi:\n",
        "    if arr.index(i[0])<arr.index(i[1]) and arr.index(i[1])<arr.index(sum(i)):\n",
        "        ans.append(i)\n",
        "#ans=[i for i in combi if (arr.index(i[0]<arr.index(i[1]) and arr.index(i[1])<arr.index(sum(i))))]\n",
        "\n",
        "print(len(ans))"
      ],
      "metadata": {
        "colab": {
          "base_uri": "https://localhost:8080/"
        },
        "id": "yYvKkFVbOHqo",
        "outputId": "c6a7a158-3f4a-4c4b-a701-40233f9f4302"
      },
      "execution_count": null,
      "outputs": [
        {
          "output_type": "stream",
          "name": "stdout",
          "text": [
            "5\n",
            "1 4 2 3 5\n",
            "3\n"
          ]
        }
      ]
    },
    {
      "cell_type": "code",
      "source": [
        "# 146\n",
        "# rahul is given an array containing digits values ranging from 0-9,Rahul’s task is to find \n",
        "# the sum of minimum two numbers formed by the digits,but he has some other work to do, he called you and \n",
        "# told you that he is busy with some work,your task is to do the same work for rahul\n",
        "\n",
        "\n",
        "n=int(input())\n",
        "arr=list(map(int,input().split(\" \")))[:n]\n",
        "arr_sorted=sorted(arr)\n",
        "if n%2==0:\n",
        "    num_1=[str(arr_sorted[i]) for i in range(0,n,2) ]\n",
        "    n1=int(\"\".join(num_1))\n",
        "    num_2=[str(arr_sorted[i]) for i in range(1,n+1,2)]\n",
        "    n2=int(\"\".join(num_2))\n",
        "    ans=n1+n2\n",
        "    print(ans)\n",
        "else:\n",
        "    num_1=[str(arr_sorted[i]) for i in range(0,n,2) ]\n",
        "    n1=int(\"\".join(num_1))\n",
        "    num_2=[str(arr_sorted[i]) for i in range(1,n,2)]\n",
        "    n2=int(\"\".join(num_2))\n",
        "    ans=n1+n2\n",
        "    print(ans)"
      ],
      "metadata": {
        "colab": {
          "base_uri": "https://localhost:8080/"
        },
        "id": "BurdCaDXOHuP",
        "outputId": "834cb4d7-bdfa-4974-ad6a-60624c7fe153"
      },
      "execution_count": null,
      "outputs": [
        {
          "output_type": "stream",
          "name": "stdout",
          "text": [
            "6\n",
            "6 8 5 4 3 2\n",
            "604\n"
          ]
        }
      ]
    },
    {
      "cell_type": "code",
      "source": [],
      "metadata": {
        "id": "VD9ilmjNOHyn"
      },
      "execution_count": null,
      "outputs": []
    },
    {
      "cell_type": "code",
      "source": [],
      "metadata": {
        "id": "J7JgiXbROH3M"
      },
      "execution_count": null,
      "outputs": []
    },
    {
      "cell_type": "code",
      "source": [
        "#Your task is to tell whether numbers is co prime or not. If it is a co-prime print 1 else 0 \n",
        "ui=list(map(int,input().split(\" \")))[:2]\n",
        "a=ui[0]\n",
        "b=ui[1]\n",
        "factor_a=[]\n",
        "factor_b=[]\n",
        "cpn=0\n",
        "if a%2==0:\n",
        "    for i in range(2,int((a/2)+1)):\n",
        "        if a%i==0:factor_a.append(i)\n",
        "if a%2!=0:\n",
        "    for i in range(2,int((a+1)/2)):\n",
        "        if a%i==0:factor_a.append(i)\n",
        "\n",
        "if b%2==0:\n",
        "    for i in range(2,int((b/2)+1)):\n",
        "        if b%i==0:factor_b.append(i)\n",
        "if b%2!=0:\n",
        "    for i in range(2,int((b+1)/2)):\n",
        "        if b%i==0:factor_b.append(i)\n",
        "        \n",
        "for j in factor_b:\n",
        "    if j==a:cpn=cpn+1\n",
        "\n",
        "if cpn==0:print(1)\n",
        "else:print(0)"
      ],
      "metadata": {
        "colab": {
          "base_uri": "https://localhost:8080/"
        },
        "id": "3x7XmvPuST2m",
        "outputId": "0a263759-82bd-4644-8c7b-abe4d09c4cdc"
      },
      "execution_count": null,
      "outputs": [
        {
          "output_type": "stream",
          "name": "stdout",
          "text": [
            "3 5\n",
            "1\n"
          ]
        }
      ]
    },
    {
      "cell_type": "code",
      "source": [],
      "metadata": {
        "colab": {
          "base_uri": "https://localhost:8080/"
        },
        "id": "Bk20CqGqsH8l",
        "outputId": "3a73073f-db2b-4e46-8066-ca47fa3bf72c"
      },
      "execution_count": null,
      "outputs": [
        {
          "output_type": "stream",
          "name": "stdout",
          "text": [
            "0\n"
          ]
        }
      ]
    },
    {
      "cell_type": "code",
      "source": [
        "#Given a number N, find the nearest greater multiple of 10.\n",
        "#Input Size : N <= 10000\n",
        "\n",
        "n=int(input())\n",
        "list_of_10s=list(map(lambda i:i*10, range(0,(n//10)+2)))\n",
        "ans=[]\n",
        "for i in list_of_10s:\n",
        "    if i>n:ans.append(i)\n",
        "    if ans!=[]:break\n",
        "   \n",
        "print(*ans)"
      ],
      "metadata": {
        "colab": {
          "base_uri": "https://localhost:8080/"
        },
        "id": "RnYTUyFFx217",
        "outputId": "31aabca2-b7fc-4de8-a764-55db551c2d7f"
      },
      "execution_count": null,
      "outputs": [
        {
          "output_type": "stream",
          "name": "stdout",
          "text": [
            "21\n",
            "30\n"
          ]
        }
      ]
    },
    {
      "cell_type": "code",
      "source": [
        "#pure number\n",
        "l=[int(x) for x in input()]\n",
        "print(l)\n",
        "if sum(l)%3==0:print(\"yes\")\n",
        "else:print(\"not\")"
      ],
      "metadata": {
        "colab": {
          "base_uri": "https://localhost:8080/"
        },
        "id": "dEGfYTeP0xf3",
        "outputId": "95814b7f-0e5f-4ba7-ad21-487bef3052fc"
      },
      "execution_count": null,
      "outputs": [
        {
          "output_type": "stream",
          "name": "stdout",
          "text": [
            "21\n",
            "[2, 1]\n",
            "yes\n"
          ]
        }
      ]
    },
    {
      "cell_type": "code",
      "source": [
        "#Given a number N, print the odd digits in the number(space seperated) \n",
        "#or print -1 if there is no odd digit in the given number.\n",
        "l=[int(x) for x in input()]\n",
        "ans=[]\n",
        "for i in l:\n",
        "    if i%2!=0:ans.append(i)\n",
        "if ans!=[]:print(*ans)\n",
        "else:print(\"-1\")"
      ],
      "metadata": {
        "id": "I13LJaL22VfH"
      },
      "execution_count": null,
      "outputs": []
    },
    {
      "cell_type": "code",
      "source": [
        "#multiple of 13\n",
        "n=int(input())\n",
        "if n%13==0:print(\"yes\")\n",
        "else:print(\"no\")"
      ],
      "metadata": {
        "colab": {
          "base_uri": "https://localhost:8080/"
        },
        "id": "OmAB2Bdn_nZk",
        "outputId": "a6e046e1-59b2-4456-e9c6-250c3bd6b9b6"
      },
      "execution_count": null,
      "outputs": [
        {
          "output_type": "stream",
          "name": "stdout",
          "text": [
            "26\n",
            "yes\n"
          ]
        }
      ]
    },
    {
      "cell_type": "code",
      "source": [
        "#ax + b = y. Find the value of y.\n",
        "a,b,x=list(map(int,input().split(\" \")))[:3]\n",
        "y=(a*x)+b\n",
        "print(y)"
      ],
      "metadata": {
        "colab": {
          "base_uri": "https://localhost:8080/"
        },
        "id": "gVD2UOWxMNCq",
        "outputId": "1581cdc9-c728-492f-9400-1998315a6f85"
      },
      "execution_count": null,
      "outputs": [
        {
          "output_type": "stream",
          "name": "stdout",
          "text": [
            "3 5 2\n",
            "11\n"
          ]
        }
      ]
    },
    {
      "cell_type": "code",
      "source": [
        "#area and vol of cuboid\n",
        "l,b,h=list(map(int,input().split(\" \")))[:3]\n",
        "area=2*((l*b)+(b*h)+(h*l))\n",
        "vol=l*b*h\n",
        "print(area,vol)"
      ],
      "metadata": {
        "colab": {
          "base_uri": "https://localhost:8080/"
        },
        "id": "cgaSIA-EMwpA",
        "outputId": "7449ac4b-099a-4fae-9a8d-29c1060b243a"
      },
      "execution_count": null,
      "outputs": [
        {
          "output_type": "stream",
          "name": "stdout",
          "text": [
            "1 2 3\n",
            "22 6\n"
          ]
        }
      ]
    },
    {
      "cell_type": "code",
      "source": [
        "#check for prime no.\n",
        "def factors(n):\n",
        "    factor=[int(i) for i in range(1,n+1) if n%i==0]\n",
        "    return factor\n",
        "n=int(input())\n",
        "ans=factors(n)\n",
        "if len(ans)==2 and n!=2:\n",
        "    print(\"yes\")\n",
        "else:print(\"no\")"
      ],
      "metadata": {
        "colab": {
          "base_uri": "https://localhost:8080/"
        },
        "id": "j4lJ1JonOYCQ",
        "outputId": "3c40c551-ee92-418a-8816-77747c7c63d7"
      },
      "execution_count": null,
      "outputs": [
        {
          "output_type": "stream",
          "name": "stdout",
          "text": [
            "123\n",
            "no\n"
          ]
        }
      ]
    },
    {
      "cell_type": "code",
      "source": [
        "#Print the index of the element which has to be changed else print '-1\n",
        "n=int(input())\n",
        "l=list(map(int,input().split(\" \")))[:n]\n",
        "update=[]\n",
        "for i in range(n-1):\n",
        "    if l[i]>l[i+1]:\n",
        "        update.append(l[i])\n",
        "if len(update)==1:\n",
        "    print(l.index(update[0]))\n",
        "else:print(\"-1\")"
      ],
      "metadata": {
        "colab": {
          "base_uri": "https://localhost:8080/"
        },
        "id": "gcyJDbHeUani",
        "outputId": "0d350098-ce35-4935-e7e1-848e1e689d02"
      },
      "execution_count": null,
      "outputs": [
        {
          "output_type": "stream",
          "name": "stdout",
          "text": [
            "7\n",
            "1 2 4 3 5 6 8\n",
            "2\n"
          ]
        }
      ]
    },
    {
      "cell_type": "code",
      "source": [
        "#94 wrong LCM of elements in a list\n",
        "def gcd(a,b):\n",
        "    if a == 0:\n",
        "        return b\n",
        "    else:return gcd(b % a, a)\n",
        " \n",
        "\n",
        "def lcm(a,b):\n",
        "    return (a / gcd(a,b))* b\n",
        " \n",
        "\n",
        "n=int(input())\n",
        "val=list(map(int,input().split(\" \")))[:n]\n",
        "reduced_n=[]\n",
        "#if n%2==0 and n>2:\n",
        "i=0\n",
        "while i<(len(val)-1):\n",
        "     reduced_n.append(lcm(val[i],val[i+1]))\n",
        "     i+=2\n",
        "     \n",
        "if len(reduced_n)==2:\n",
        "    val=reduced_n\n",
        "    reduced_n.clear()\n",
        "    out=lcm(val[0],val[1])\n",
        "    print(out)\n",
        "elif len(reduced_n)==1:\n",
        "    print(int(reduced_n[0]))    \n",
        "    \n",
        "elif len(reduced_n)>2 and len(reduced_n)%2!=0:\n",
        "    val=reduced_n\n",
        "    reduced_n.clear()\n",
        "    i=0\n",
        "    while i<(len(val)-1):\n",
        "         reduced_n.append(lcm(val[i],val[i+1]))\n",
        "         i+=1\n",
        "elif len(reduced_n)>2 and len(reduced_n)%2==0:\n",
        "    val=reduced_n\n",
        "    reduced_n.clear()\n",
        "    i=0\n",
        "    while i<(len(val)-1):\n",
        "         reduced_n.append(lcm(val[i],val[i+1]))\n",
        "         i+=2         \n"
      ],
      "metadata": {
        "id": "uUOPf15GbHcS"
      },
      "execution_count": null,
      "outputs": []
    }
  ]
}