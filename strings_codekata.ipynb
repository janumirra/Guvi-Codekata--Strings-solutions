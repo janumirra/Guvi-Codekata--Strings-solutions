{
  "nbformat": 4,
  "nbformat_minor": 0,
  "metadata": {
    "colab": {
      "provenance": []
    },
    "kernelspec": {
      "name": "python3",
      "display_name": "Python 3"
    },
    "language_info": {
      "name": "python"
    }
  },
  "cells": [
    {
      "cell_type": "code",
      "execution_count": null,
      "metadata": {
        "id": "XpXPVT-_qjnE"
      },
      "outputs": [],
      "source": [
        "#to get alphabets in a list\n",
        "import string  \n",
        "inputs=[str(x) for x in input().lower().split(\" \")]\n",
        "alpha=[str(a) for a in string.ascii_lowercase]\n",
        "print(alpha)"
      ]
    },
    {
      "cell_type": "code",
      "source": [
        "a=[int(x) for x in (input().split(\" \"))]\n",
        "b=1\n",
        "for i in a:\n",
        "    b=b*i\n",
        "print(b)"
      ],
      "metadata": {
        "id": "B9Yn4VN9quXs",
        "colab": {
          "base_uri": "https://localhost:8080/"
        },
        "outputId": "34239640-fc83-4d0c-eb41-dcf2f3158d22"
      },
      "execution_count": null,
      "outputs": [
        {
          "output_type": "stream",
          "name": "stdout",
          "text": [
            "12 2 3\n",
            "72\n"
          ]
        }
      ]
    },
    {
      "cell_type": "code",
      "source": [
        "#string replacement\n",
        "user_input=[str(x) for x in input()]\n",
        "Len=len(user_input)\n",
        "newlist_F=[]\n",
        "newlist_E=[]\n",
        "replacement1=[\"*\",\"*\"]\n",
        "replacement2=[\"*\"]\n",
        "if (Len%2==0):\n",
        "    \n",
        "    for i in range(0,(int(Len/2)-1)):\n",
        "         newlist_F.append(user_input[i]) \n",
        "    for j in range((int(Len/2)+1),(Len)):\n",
        "         newlist_E.append(user_input[j]) \n",
        "    result=(newlist_F+ replacement1 + newlist_E)\n",
        "    for x in range(len(result)):\n",
        "        print( result[x], end=\"\")\n",
        "   \n",
        "if (Len%2!=0):\n",
        "    for i in range(0,(int((Len+1)/2)-1)):\n",
        "         newlist_F.append(user_input[i]) \n",
        "    for j in range(int((Len+1)/2),(Len)):\n",
        "         newlist_E.append(user_input[j]) \n",
        "    result=(newlist_F+ replacement2 +newlist_E)\n",
        "    \n",
        "    for x in range(len(result)):\n",
        "        print( result[x], end=\"\")"
      ],
      "metadata": {
        "id": "pDnAzssNrsgt"
      },
      "execution_count": null,
      "outputs": []
    },
    {
      "cell_type": "code",
      "source": [
        "para=[str(x) for x in input().lower().split()]\n",
        "string=input().lower()\n",
        "\n",
        "if para.count(string)>0:print(para.count(string))\n",
        "else:print(\"-1\")"
      ],
      "metadata": {
        "colab": {
          "base_uri": "https://localhost:8080/"
        },
        "id": "wRiAy2AIJJRa",
        "outputId": "adfdc999-8dad-4b70-a315-9d0505f64e83"
      },
      "execution_count": null,
      "outputs": [
        {
          "output_type": "stream",
          "name": "stdout",
          "text": [
            "I am a girl\n",
            "I\n",
            "1\n"
          ]
        }
      ]
    },
    {
      "cell_type": "code",
      "source": [
        "#1\n",
        "#You are given two numbers. Your task is to multiply the two numbers and print the answer.\n",
        "a=[int(x) for x in (input().split(\" \"))]\n",
        "b=1\n",
        "for i in a:\n",
        "    b=b*i\n",
        "print(b)"
      ],
      "metadata": {
        "id": "XyB4_wde3UGo",
        "colab": {
          "base_uri": "https://localhost:8080/"
        },
        "outputId": "5a829c79-742c-40bb-f5d4-6a510dab52f0"
      },
      "execution_count": 8,
      "outputs": [
        {
          "output_type": "stream",
          "name": "stdout",
          "text": [
            "99999 99998\n",
            "9999700002\n"
          ]
        }
      ]
    },
    {
      "cell_type": "code",
      "source": [
        "#2\n",
        "# Jennyfer is fond of strings. She wants to read the character from right to left (reverse the string), so she wants you to design a suitable algorithm which satisfy her desire.\n",
        "#string reversing and sentence case\n",
        "s=input()\n",
        "r=s[::-1]\n",
        "print(r.capitalize())"
      ],
      "metadata": {
        "id": "4q4axwE9rgr0",
        "colab": {
          "base_uri": "https://localhost:8080/"
        },
        "outputId": "3335008d-27c2-48d3-f1c6-f6498d1e1233"
      },
      "execution_count": null,
      "outputs": [
        {
          "output_type": "stream",
          "name": "stdout",
          "text": [
            "Janaki\n",
            "Ikanaj\n"
          ]
        }
      ]
    },
    {
      "cell_type": "code",
      "source": [
        "#3\n",
        "#Rahul is given a task to manipulate a string, He hired you as a developer your task is to delete all the repeating characters and print the result left.\n",
        "#remove duplicates \n",
        "s=input()\n",
        "ans=\"\"\n",
        "for i in s:\n",
        "    if s.count(i)>1:continue\n",
        "    else:ans=ans+i\n",
        "print(ans.strip(\" \"))"
      ],
      "metadata": {
        "id": "6qHRdyG5_cA_",
        "colab": {
          "base_uri": "https://localhost:8080/"
        },
        "outputId": "f6958441-6d83-4cfc-ecfc-fd9fd4b84680"
      },
      "execution_count": null,
      "outputs": [
        {
          "output_type": "stream",
          "name": "stdout",
          "text": [
            "mississipie\n",
            "mpe\n"
          ]
        }
      ]
    },
    {
      "cell_type": "code",
      "source": [
        "#4\n",
        "#You are given a string.Your task is to print only the consonants present in the string \n",
        "#without affecting the sentence spacings if present. If no consonants are present print -1\n",
        "A=[str(a) for a in input()]\n",
        "v=\"AEIOUaeiou\"\n",
        "E=\"\"\n",
        "V=[str(b) for b in v]\n",
        "for c in A:\n",
        "    if V.count(c)==0:\n",
        "      E=E+c\n",
        "print(E)"
      ],
      "metadata": {
        "colab": {
          "base_uri": "https://localhost:8080/"
        },
        "id": "qDNou6SX165X",
        "outputId": "cae2e004-d26b-4350-d8ea-8fcee36c7f0d"
      },
      "execution_count": 7,
      "outputs": [
        {
          "output_type": "stream",
          "name": "stdout",
          "text": [
            "I am shrey \n",
            " m shry \n"
          ]
        }
      ]
    },
    {
      "cell_type": "code",
      "source": [
        "#5\n",
        "#In XYZ country there is rule that car’s engine no. depends upon car’ number plate. Engine no is sum of all the integers present on car’s Number plate.The issuing authority has hired you\n",
        "# in order to provide engine no. to the cars.Your task is to develop an algorithm which takes input as in form of string(Number plate) and gives back\n",
        "#adding int in numberplate\n",
        "a=[str(A) for A in input()]\n",
        "N=\"0123456789\"\n",
        "n=[str(s) for s in N]\n",
        "I=0\n",
        "for i in a:\n",
        "    if n.count(i)!=0:\n",
        "        I=I+int(i)\n",
        "print(I) "
      ],
      "metadata": {
        "id": "JoJc8MngrJFc",
        "colab": {
          "base_uri": "https://localhost:8080/"
        },
        "outputId": "cc571d96-96d4-454e-f8ef-980223a6ae0e"
      },
      "execution_count": null,
      "outputs": [
        {
          "output_type": "stream",
          "name": "stdout",
          "text": [
            "HW29@KL\n",
            "11\n"
          ]
        }
      ]
    },
    {
      "cell_type": "code",
      "source": [
        "#6\n",
        "#Ria is a 5 year old girl. Her mother wants to teach her how to sort words in the same order that they appear in a dictionary.\n",
        "# She decides to write a program to sort a given set of strings based on their alphabetical order. Help Ria’s mother to complete the program.\n",
        "#sorting alphabets\n",
        "n=int(input())\n",
        "s=list(map(str,input().split(\" \")))[:n]\n",
        "B=sorted(s)\n",
        "\n",
        "print(*B)"
      ],
      "metadata": {
        "colab": {
          "base_uri": "https://localhost:8080/"
        },
        "id": "rEfXRPKR0OZR",
        "outputId": "7477c4c5-0719-4d3c-a6fd-31e8576a14bc"
      },
      "execution_count": null,
      "outputs": [
        {
          "output_type": "stream",
          "name": "stdout",
          "text": [
            "3\n",
            "Avengers Infinitywar Endgame\n",
            "Avengers Endgame Infinitywar\n"
          ]
        }
      ]
    },
    {
      "cell_type": "code",
      "source": [
        "#7\n",
        "#you are given a string made up of parenthesis only.Your task is to\n",
        "# check whether parenthesis are balanced or not.If they are balanced print 1 else print 0\n",
        "#finding if string is balanced\n",
        "s=str(input())\n",
        "indi=[ord(str(i)) for i in s]\n",
        "l=len(s)\n",
        "print(indi)\n",
        "bal=0\n",
        "for i in range(0,(l//2)): \n",
        "    if(indi[i]-indi[(l-1)-i]==-1) or (indi[i]-indi[(l-1)-i]==-2):bal=bal+1\n",
        "if bal==l//2:print(\"1\")\n",
        "else:print(\"0\")"
      ],
      "metadata": {
        "colab": {
          "base_uri": "https://localhost:8080/"
        },
        "id": "fdr0LC9CP-4S",
        "outputId": "f7e368b8-aeb7-4efc-be45-dddf9b48d3cc"
      },
      "execution_count": null,
      "outputs": [
        {
          "output_type": "stream",
          "name": "stdout",
          "text": [
            "{[()]}\n",
            "[123, 91, 40, 41, 93, 125]\n",
            "1\n"
          ]
        }
      ]
    },
    {
      "cell_type": "code",
      "source": [
        "#8\n",
        "#Write a program to get a string S, Type of conversion (1 - Convert to Lowercase,\n",
        "#2\n",
        " 2 - Convert to Uppercase) T, and integer P . Convert the case of the letters in the positions which are multiples of P.(1 based indexing).\n",
        "#string type conversion wrt position\n",
        "S=input()\n",
        "indi=[str(s) for s in S]\n",
        "\n",
        "T=int(input())\n",
        "p=int(input())\n",
        "Result=\"\"\n",
        "\n",
        "for i in range(1,(len(S)+1)):\n",
        "        if (i%p!=0) and ((T==1)or(T==2)):\n",
        "            Result=Result+str(indi[i-1])\n",
        "        elif (i%p==0) and (T==1):\n",
        "            Result=Result+(indi[i-1].lower())\n",
        "        elif (i%p==0) and(T==2):\n",
        "            Result=Result+str(indi[i-1].upper())    \n",
        "print((Result).strip())   \n"
      ],
      "metadata": {
        "id": "qb8qvp5przds",
        "colab": {
          "base_uri": "https://localhost:8080/"
        },
        "outputId": "cb8ce562-5e28-411d-b8d7-30a3a452d0b5"
      },
      "execution_count": 6,
      "outputs": [
        {
          "output_type": "stream",
          "name": "stdout",
          "text": [
            "ProFiLe\n",
            "1\n",
            "2\n",
            "Profile\n"
          ]
        }
      ]
    },
    {
      "cell_type": "code",
      "source": [
        "#9\n",
        "# You are given a string. You have to print “Wonder” if the string is wonderful \n",
        "#and -1 if it is not. A wonderful string is a string,which is made up of exactly 3 different characters.\n",
        "#if a string is wonderful or not\n",
        "ui=input()\n",
        "won=[]\n",
        "for ch in ui:\n",
        "    if ch not in won:\n",
        "        won.append(ch)\n",
        "\n",
        "if len(won)==3:print(\"Wonder\")\n",
        "else:print(-1)"
      ],
      "metadata": {
        "id": "0NRxZBYosMip",
        "colab": {
          "base_uri": "https://localhost:8080/"
        },
        "outputId": "4e8e4903-9091-405e-a6ec-3a618b6d1e6c"
      },
      "execution_count": 5,
      "outputs": [
        {
          "output_type": "stream",
          "name": "stdout",
          "text": [
            "aabbcc\n",
            "Wonder\n"
          ]
        }
      ]
    },
    {
      "cell_type": "code",
      "source": [
        "#10\n",
        "#Given a string S, print it without using semicolon in your program.\n",
        "#program without using semicolon\n",
        "a=input()\n",
        "print(a)\n"
      ],
      "metadata": {
        "id": "3NmtolySsIod",
        "colab": {
          "base_uri": "https://localhost:8080/"
        },
        "outputId": "be28a12e-e403-4232-f587-2414c8ed039f"
      },
      "execution_count": 4,
      "outputs": [
        {
          "output_type": "stream",
          "name": "stdout",
          "text": [
            "hello world\n",
            "hello world\n"
          ]
        }
      ]
    },
    {
      "cell_type": "code",
      "source": [
        "#12\n",
        "#You are given a paragraph.Your task is to print the words that come just after articles.\n",
        "#print the words that come just after articles and -1 if there are no articles \n",
        "inputs=input().split()\n",
        "articles=[\"A\",\"a\",\"An\",\"an\",\"The\",\"the\"]\n",
        "result=[]\n",
        "for i in range(len(inputs)):\n",
        "    if articles.count(inputs[i])==1:\n",
        "        result.append(inputs[i+1])\n",
        "print(*result)"
      ],
      "metadata": {
        "colab": {
          "base_uri": "https://localhost:8080/"
        },
        "id": "rIIaKrUFxAvF",
        "outputId": "cf59707b-b6b2-4973-8456-185c97887b95"
      },
      "execution_count": null,
      "outputs": [
        {
          "output_type": "stream",
          "name": "stdout",
          "text": [
            "I am an engineer\n",
            "engineer\n"
          ]
        }
      ]
    },
    {
      "cell_type": "code",
      "source": [
        "#13\n",
        "#Given a string 'S' print the sum of weight of the String. A weight of character is defined as the ASCII value of corresponding character.\n",
        "#finding ascii weight of string\n",
        "class special:\n",
        "   \n",
        "    def asciivalue(self,s):\n",
        "        a_value=0\n",
        "        for i in range(0,len(s)):\n",
        "            \n",
        "            i=ord(s[i])\n",
        "            a_value=a_value+i\n",
        "        return a_value\n",
        "        \n",
        "        \n",
        "string1=special()\n",
        "s=str(input())\n",
        "print(string1.asciivalue(s))\n"
      ],
      "metadata": {
        "id": "Jr6KPpPzrQh2",
        "colab": {
          "base_uri": "https://localhost:8080/"
        },
        "outputId": "bf33eb51-07ec-4ce3-9351-a5a5a8c139d4"
      },
      "execution_count": 3,
      "outputs": [
        {
          "output_type": "stream",
          "name": "stdout",
          "text": [
            "abc\n",
            "294\n"
          ]
        }
      ]
    },
    {
      "cell_type": "code",
      "source": [
        "#14\n",
        "#Given a string S, print 'yes' if it has a vowel in it else print 'no'.\n",
        "#check the presence of vowels in string\n",
        "inputs=input().lower()\n",
        "vowels=[str(a) for a in \"aeiou\"]\n",
        "cou=0\n",
        "for i in inputs:\n",
        "    if vowels.count(i)>=1:cou=cou+1\n",
        "        \n",
        "if cou>0:print(\"yes\")\n",
        "else:print(\"no\")\n"
      ],
      "metadata": {
        "colab": {
          "base_uri": "https://localhost:8080/"
        },
        "id": "cGAYpEIeqbS7",
        "outputId": "28274676-4364-4261-beb5-5521e3db4b01"
      },
      "execution_count": null,
      "outputs": [
        {
          "output_type": "stream",
          "name": "stdout",
          "text": [
            "rhythm\n",
            "no\n"
          ]
        }
      ]
    },
    {
      "cell_type": "code",
      "source": [
        "#15\n",
        "#You are given a string ‘s’. Your task is to tell whether string is beautiful or not.\n",
        "#A beautiful string is a string in which String starts with ‘a’ or ‘A’ and middle element is either ‘m’ or ‘M’ and last element is ‘z’or ‘Z’\n",
        " \n",
        "inputs=input().lower()\n",
        "result=0\n",
        "for i in range(len(inputs)):\n",
        "    if len(inputs)%2!=0:\n",
        "        if inputs[0]==\"a\" and inputs[((len(inputs)+1)//2)-1]==\"m\" and inputs[len(inputs)-1]==\"z\":\n",
        "            result=result+1\n",
        "    else:\n",
        "        if inputs[0]==\"a\" and inputs[(len(inputs)//2)-1]==\"m\" and inputs[len(inputs)-1]==\"z\":\n",
        "            result=result+1\n",
        "if result==len(inputs):print(\"1\")\n",
        "else:print(\"0\")"
      ],
      "metadata": {
        "colab": {
          "base_uri": "https://localhost:8080/"
        },
        "id": "SPKEKgu4xmaf",
        "outputId": "2dcf8cb0-a3aa-4e79-b99e-754f426f2ae6"
      },
      "execution_count": null,
      "outputs": [
        {
          "output_type": "stream",
          "name": "stdout",
          "text": [
            "ammz\n",
            "1\n"
          ]
        }
      ]
    },
    {
      "cell_type": "code",
      "source": [
        "#16\n",
        "#find length without using predefined functions\n",
        "inputs=input()\n",
        "result=0\n",
        "for i in inputs: result=result+1\n",
        "print(result)"
      ],
      "metadata": {
        "colab": {
          "base_uri": "https://localhost:8080/"
        },
        "id": "3RikXUZxxtZm",
        "outputId": "cfd0b55b-70fb-4c91-fc63-ffbee499b4f4"
      },
      "execution_count": null,
      "outputs": [
        {
          "output_type": "stream",
          "name": "stdout",
          "text": [
            "i am\n",
            "4\n"
          ]
        }
      ]
    },
    {
      "cell_type": "code",
      "source": [
        "#17\n",
        "#You are given string ‘s’. Your task is to modify the string as mentioned below:-\n",
        "#1)The string should not have three consecutive same characters.\n",
        "#2)You can add any number of characters anywhere in the string.\n",
        "# Find the minimum number of characters which Ishaan must insert in the string.\n",
        "\n",
        "#less time complex logic as said by Mr. Santhosh....... and wrong\n",
        "\n",
        "\n",
        "ori_string=[str(x) for x in input()]\n",
        "reduced_string=list(set(ori_string))\n",
        "counter=[]\n",
        "for i in reduced_string:\n",
        "    counter.append(ori_string.count(i))\n",
        "elements=[]    \n",
        "for i in counter:\n",
        "    if i%2==0:elements.append((i//2)-1)\n",
        "    else:elements.append(i//2)\n",
        "print(sum(elements))"
      ],
      "metadata": {
        "colab": {
          "base_uri": "https://localhost:8080/"
        },
        "id": "D51q66HFd7an",
        "outputId": "9b026708-7f58-49e3-93b1-dbd443525c8d"
      },
      "execution_count": null,
      "outputs": [
        {
          "output_type": "stream",
          "name": "stdout",
          "text": [
            "abbbcbb\n",
            "2\n"
          ]
        }
      ]
    },
    {
      "cell_type": "code",
      "source": [
        "#17\n",
        "#You are given string ‘s’. Your task is to modify the string as mentioned below:-\n",
        "#1)The string should not have three consecutive same characters.\n",
        "#2)You can add any number of characters anywhere in the string.\n",
        "# Find the minimum number of characters which Ishaan must insert in the string.\n",
        "inputs=input()\n",
        "result=0\n",
        "for i in range(len(inputs)-2): \n",
        "    if inputs[i]==inputs[i+2] and inputs[i]==inputs[i+1]:# and inputs[i]!=inputs[i-1]:\n",
        "     result=result+1\n",
        "print(result)\n",
        "if result==1:\n",
        "    print(result)\n",
        " \n",
        "\n",
        "if result>1:\n",
        "    icount=[] #icount is the count of values at each index   \n",
        "    for i in inputs:\n",
        "        icount.append(inputs.count(i))\n",
        "            \n",
        "    print(\"icount\",icount) \n",
        "    print(\"max of icount\",max(icount))\n",
        "\n",
        "#mindex is the index of the, first occurence of max value in icount  \n",
        "\n",
        "    mindex=icount.index(max(icount))\n",
        "    print(\"mindex\",mindex)         \n",
        "\n",
        "    condi=(sum(icount[mindex:(max(icount)+1)]))//max(icount)\n",
        "    print(\"condi\",condi)    \n",
        "\n",
        "    if condi==max(icount):        \n",
        "        ifreq=list(set(icount))\n",
        "        print(\"ifreq\",ifreq)\n",
        "        newresult=result-(len(inputs)-(ifreq[0])-1)\n",
        "        print(\"newresult\",abs(newresult))\n",
        "    else:print(\"result\",result)"
      ],
      "metadata": {
        "colab": {
          "base_uri": "https://localhost:8080/"
        },
        "id": "xgStUIgVpXy-",
        "outputId": "6506e142-7c45-4c1b-df36-c7a89caa866d"
      },
      "execution_count": null,
      "outputs": [
        {
          "output_type": "stream",
          "name": "stdout",
          "text": [
            "abbbaabbbbbc\n",
            "4\n",
            "icount [3, 8, 8, 8, 3, 3, 8, 8, 8, 8, 8, 1]\n",
            "max of icount 8\n",
            "mindex 1\n",
            "condi 6\n",
            "result 4\n"
          ]
        }
      ]
    },
    {
      "cell_type": "code",
      "source": [
        "# 18\n",
        "#Given an array of pairs of strings, find if there are mirror pairs.\n",
        "#(s1, s2) & (s3, s4) are mirror pairs, if s1 = s4 and s2 = s3. The first string in each pair is distinct.\n",
        "n=int(input())\n",
        "S=[]\n",
        "for i in range(n):\n",
        "  S_i= list(map(str,input().split()))[:2]\n",
        "  S.append(S_i)\n",
        "print(S)\n",
        "print(S[1][1])  \n",
        "counter=0 \n",
        "for i in range(len(S)):\n",
        "    for j in range(len(S)):\n",
        "        if S[i][0]== S[j][1] and S[i][1]==S[j][0]:\n",
        "            counter=counter+1\n",
        "if counter!=0:print(\"YES\")\n",
        "else:print(\"NO\")"
      ],
      "metadata": {
        "colab": {
          "base_uri": "https://localhost:8080/"
        },
        "id": "EOr3qC3kLdbg",
        "outputId": "c70ad759-f691-48d8-f4b6-510e0f05967c"
      },
      "execution_count": null,
      "outputs": [
        {
          "output_type": "stream",
          "name": "stdout",
          "text": [
            "2\n",
            "RAJA KILI\n",
            "KILI RAJA\n",
            "[['RAJA', 'KILI'], ['KILI', 'RAJA']]\n",
            "RAJA\n",
            "YES\n"
          ]
        }
      ]
    },
    {
      "cell_type": "code",
      "source": [
        "#19\n",
        "#You are given a string ‘s’.Your task is to print the string in\n",
        "# the order they are present and then sum of digits.\n",
        "inputs=[str(x) for x in input()]\n",
        "alpha=\"\"\n",
        "num=0\n",
        "for i in inputs:\n",
        "    if i.isalpha():alpha=alpha+i\n",
        "    if i.isnumeric():num=num+int(i)\n",
        "    \n",
        "    \n",
        "\n",
        "print(alpha+str(num))"
      ],
      "metadata": {
        "colab": {
          "base_uri": "https://localhost:8080/"
        },
        "id": "BFoPlw0qZw28",
        "outputId": "3a48b9f1-2e41-4094-a54a-4c51015f58d7"
      },
      "execution_count": null,
      "outputs": [
        {
          "output_type": "stream",
          "name": "stdout",
          "text": [
            "ABC097CG88\n",
            "ABCCG32\n"
          ]
        }
      ]
    },
    {
      "cell_type": "code",
      "source": [
        "#20\n",
        "#Given a string S, print it after changing the middle element to * (if the length of the string is even, change the 2 middle elements to *).\n",
        "user_input=[str(x) for x in input()]\n",
        "Len=len(user_input)\n",
        "newlist_F=[]\n",
        "newlist_E=[]\n",
        "replacement1=[\"*\",\"*\"]\n",
        "replacement2=[\"*\"]\n",
        "if (Len%2==0):\n",
        "    \n",
        "    for i in range(0,(int(Len/2)-1)):\n",
        "         newlist_F.append(user_input[i]) \n",
        "    for j in range((int(Len/2)+1),(Len)):\n",
        "         newlist_E.append(user_input[j]) \n",
        "    result=(newlist_F+ replacement1 + newlist_E)\n",
        "    for x in range(len(result)):\n",
        "        print( result[x], end=\"\")\n",
        "   \n",
        "if (Len%2!=0):\n",
        "    for i in range(0,(int((Len+1)/2)-1)):\n",
        "         newlist_F.append(user_input[i]) \n",
        "    for j in range(int((Len+1)/2),(Len)):\n",
        "         newlist_E.append(user_input[j]) \n",
        "    result=(newlist_F+ replacement2 +newlist_E)\n",
        "    \n",
        "    for x in range(len(result)):\n",
        "        print( result[x], end=\"\")\n"
      ],
      "metadata": {
        "colab": {
          "base_uri": "https://localhost:8080/"
        },
        "id": "eRehYLgxrNLP",
        "outputId": "8459dd42-477e-466e-841b-2f65c0351b82"
      },
      "execution_count": null,
      "outputs": [
        {
          "output_type": "stream",
          "name": "stdout",
          "text": [
            "hello\n",
            "he*lo"
          ]
        }
      ]
    },
    {
      "cell_type": "code",
      "source": [
        "#21\n",
        "#Given a sentence and string S, find how many times S occurs in the given sentence.If S is not found in the sentence print -1\n",
        "#Input Size : |sentence| <= 1000000(complexity O(n)).\n",
        "para=[str(x) for x in input().lower().split()]\n",
        "string=input().lower()\n",
        "\n",
        "if para.count(string)>0:print(para.count(string))\n",
        "else:print(\"-1\")"
      ],
      "metadata": {
        "colab": {
          "base_uri": "https://localhost:8080/"
        },
        "id": "c5u89VsrriZp",
        "outputId": "5a815807-19e3-45ce-d1f4-8e54b8ecdc17"
      },
      "execution_count": null,
      "outputs": [
        {
          "output_type": "stream",
          "name": "stdout",
          "text": [
            "I enjoy doing codekata\n",
            "codekata\n",
            "1\n"
          ]
        }
      ]
    },
    {
      "cell_type": "code",
      "source": [
        "#22\n",
        "#Given a string S, print 2 strings such that first string containing all characters in \n",
        "#odd position(s) and other containing all characters in even position(s).\n",
        "string=[str(x) for x in input()]\n",
        "oddstr=\"\"\n",
        "evenstr=\"\"\n",
        "for i in range(1,len(string)+1):\n",
        "    if i%2!=0:oddstr=oddstr+(string[i-1])\n",
        "    else:evenstr=evenstr+(string[i-1])\n",
        "\n",
        "odd=oddstr.strip(\" \")\n",
        "even=evenstr.strip(\" \")\n",
        "print(odd+\" \"+even)"
      ],
      "metadata": {
        "colab": {
          "base_uri": "https://localhost:8080/"
        },
        "id": "tnDhDZxPTTUA",
        "outputId": "81ef4d46-05d2-4d80-f387-4cd4693e6e3a"
      },
      "execution_count": null,
      "outputs": [
        {
          "output_type": "stream",
          "name": "stdout",
          "text": [
            "jinco\n",
            "jno ic\n"
          ]
        }
      ]
    },
    {
      "cell_type": "code",
      "source": [
        "#23\n",
        "#You are given a string ‘s’.Your task is to print the string in alternate lowercase and uppercase order.\n",
        "S= str(input()).split()\n",
        "ans=[]\n",
        "for i in range(len(S)):\n",
        "    if i%2==0:\n",
        "        ans.append(S[i].upper())\n",
        "    else:ans.append(S[i].lower())\n",
        "print(*ans)"
      ],
      "metadata": {
        "colab": {
          "base_uri": "https://localhost:8080/"
        },
        "id": "zIfIzTxfaj1g",
        "outputId": "581b153b-e9ac-4e74-e113-bc169d0d447b"
      },
      "execution_count": null,
      "outputs": [
        {
          "output_type": "stream",
          "name": "stdout",
          "text": [
            "abcd efgh ijkl\n",
            "ABCD efgh IJKL\n"
          ]
        }
      ]
    },
    {
      "cell_type": "code",
      "source": [
        "#24\n",
        "#You are given a string ‘S’ consisting of lowercase Latin Letters.\n",
        "# Find the first non repeating character in S. If you find all the characters are repeating print the answer as -1\n",
        "S= str(input())\n",
        "ans=[]\n",
        "for i in S:\n",
        "    ans.append(S.count(i))\n",
        "result=list(set(ans))\n",
        "print(result)\n",
        "if 1 not in ans:print(\"-1\")\n",
        "    \n",
        "else:print(S[ans.index(1)])"
      ],
      "metadata": {
        "colab": {
          "base_uri": "https://localhost:8080/"
        },
        "id": "KjMvrBEad0jA",
        "outputId": "af0f6063-4715-47a5-8dbc-394fbfea25dc"
      },
      "execution_count": null,
      "outputs": [
        {
          "output_type": "stream",
          "name": "stdout",
          "text": [
            "newsn\n",
            "[1, 2]\n",
            "e\n"
          ]
        }
      ]
    },
    {
      "cell_type": "code",
      "source": [
        "#25\n",
        "#print sorted ans\n",
        "S= str(input()).split()\n",
        "ans=sorted(S)\n",
        "print(*ans)"
      ],
      "metadata": {
        "colab": {
          "base_uri": "https://localhost:8080/"
        },
        "id": "OI5nI7cRNUQ4",
        "outputId": "b69d5630-9505-4d3f-f776-3eec48fe37c9"
      },
      "execution_count": null,
      "outputs": [
        {
          "output_type": "stream",
          "name": "stdout",
          "text": [
            "print sorted ans\n",
            "ans print sorted\n"
          ]
        }
      ]
    },
    {
      "cell_type": "code",
      "source": [
        "#26\n",
        "#regEx replacing non words with white space\n",
        "import re\n",
        "string=[str(x) for x in input()]\n",
        "newstring=\"\"\n",
        "for i in range(len(string)):\n",
        "    string[i] = re.sub(r\"\\W\", \" \", string[i])\n",
        "    newstring=newstring+string[i]\n",
        "print(newstring)\n",
        "n=newstring.split(\" \")\n",
        "num=[]\n",
        "for i in n:\n",
        "    if i.isnumeric():num.append(int(i))\n",
        "print(num)\n",
        "print(max(num))"
      ],
      "metadata": {
        "colab": {
          "base_uri": "https://localhost:8080/"
        },
        "id": "Gedq0B0Wsllg",
        "outputId": "0626cbd1-91cc-420f-9d87-8e47196db683"
      },
      "execution_count": null,
      "outputs": [
        {
          "output_type": "stream",
          "name": "stdout",
          "text": [
            "I was born in 1990. i will be 32 by 2022.\n",
            "I was born in 1990  i will be 32 by 2022 \n",
            "[1990, 32, 2022]\n",
            "2022\n"
          ]
        }
      ]
    },
    {
      "cell_type": "code",
      "source": [
        "#27\n",
        "#Weight of string is the sum of ASCII value of Vowel character(s) present in the string.\n",
        "string=[str(x) for x in input()]\n",
        "ascii_wt=0\n",
        "vowel=\"AEIOUaeiou\"\n",
        "for i in range(len(string)):\n",
        "    if vowel.count(string[i])==1:i=ord(string[i])\n",
        "    ascii_wt=ascii_wt+i\n",
        "print(ascii_wt)\n",
        "if ascii_wt%8==0:print(\"1\")\n",
        "else:print(\"0\")"
      ],
      "metadata": {
        "colab": {
          "base_uri": "https://localhost:8080/"
        },
        "id": "L17XkAnaupFg",
        "outputId": "a6a48f10-2ceb-4c17-a3da-cd5d2468a359"
      },
      "execution_count": null,
      "outputs": [
        {
          "output_type": "stream",
          "name": "stdout",
          "text": [
            "janu\n",
            "216\n",
            "1\n"
          ]
        }
      ]
    },
    {
      "cell_type": "code",
      "source": [
        "#28\n",
        "#removing immediate duplicates\n",
        "a=[str(x) for x in input()]\n",
        "b=[]\n",
        "A=\"\"\n",
        "for i in range(0,(len(a))):\n",
        "    \n",
        "    if (i==(len(a)-1) and a[i]!=a[i-1]):A=A+(a[i])\n",
        "    elif (i==0 and a[i]!=a[i+1]):A=A+(a[i])\n",
        "    elif ((i>0) and (i!=len(a)-1) and a[i-1]!=a[i] and a[i]!=a[i+1]):\n",
        "        A=A+(a[i])\n",
        "       \n",
        "if(A==\"\"):print(\"-1\")      \n",
        "else:print(A)"
      ],
      "metadata": {
        "id": "44wnZ7JfrYMU",
        "colab": {
          "base_uri": "https://localhost:8080/"
        },
        "outputId": "f4a6d9a0-d5d3-404f-9a13-6df3659031f1"
      },
      "execution_count": null,
      "outputs": [
        {
          "output_type": "stream",
          "name": "stdout",
          "text": [
            "1331\n",
            "11\n"
          ]
        }
      ]
    },
    {
      "cell_type": "code",
      "source": [
        "#29\n",
        "#winner and vinning vote\n",
        "string=[str(x) for x in input().split(\" \")]\n",
        "string_w_o_duplicates=sorted(list(set(string)))\n",
        "counter=[]\n",
        "for i in string_w_o_duplicates:\n",
        "    counter.append(string.count(i))\n",
        "winning_vote=max(counter)\n",
        "print(counter)\n",
        "print(winning_vote)   \n",
        "winner_index=counter.index(winning_vote) \n",
        "winner=string_w_o_duplicates[winner_index] \n",
        "print(winner,winning_vote)"
      ],
      "metadata": {
        "colab": {
          "base_uri": "https://localhost:8080/"
        },
        "id": "OErxiCWsxrwE",
        "outputId": "f1222962-11ff-4650-ab86-4dc00fbbf20f"
      },
      "execution_count": null,
      "outputs": [
        {
          "output_type": "stream",
          "name": "stdout",
          "text": [
            "john johnny jackie johnny john jackie jamie jamie john johnny jamie johnny john\n",
            "[2, 3, 4, 4]\n",
            "4\n",
            "john 4\n"
          ]
        }
      ]
    },
    {
      "cell_type": "code",
      "source": [
        "#30\n",
        "#palindrome\n",
        "string= input()\n",
        "pali_str=\"\"\n",
        "for i in range(len(string)-1,-1,-1):\n",
        "    pali_str=pali_str+(string[i])\n",
        "\n",
        "if string==pali_str:print(\"yes\")\n",
        "else:print(\"no\")    \n"
      ],
      "metadata": {
        "colab": {
          "base_uri": "https://localhost:8080/"
        },
        "id": "BQp3jmy20QLQ",
        "outputId": "57a9f001-57ab-44dc-f3e6-ce1316b2853f"
      },
      "execution_count": null,
      "outputs": [
        {
          "output_type": "stream",
          "name": "stdout",
          "text": [
            "lapal\n",
            "yes\n"
          ]
        }
      ]
    },
    {
      "cell_type": "code",
      "source": [
        "#31\n",
        "#A pair of strings are said to be panagram if they both are palindrome and are anagram of each other.\n",
        "def print_reverse(string):\n",
        "    reverse=\"\"\n",
        "    for i in range(len(string)-1,-1,-1):\n",
        "           reverse=reverse+string[i]\n",
        "    return reverse\n",
        "def panagram(string_a,string_b):\n",
        "    string_a=list(set(string_a))\n",
        "    string_b=list(set(string_b))\n",
        "    counter=0\n",
        "    \n",
        "    for i in string_b:\n",
        "        if string_a.count(i)==1:counter=counter+1\n",
        "    if counter==len(string_a)==len(string_b):\n",
        "        return True \n",
        "    \n",
        "\n",
        "string=list(map(str,input().split()))[:2]\n",
        "rev_str=[]\n",
        "for i in string:\n",
        "    rev_str.append(print_reverse(i))\n",
        "\n",
        "result=panagram(string[0],string[1])\n",
        "if rev_str==string and result==True:print(\"1\")\n",
        "else:print(\"0\")\n",
        "                        "
      ],
      "metadata": {
        "colab": {
          "base_uri": "https://localhost:8080/"
        },
        "id": "6hE0JbNRJ9GD",
        "outputId": "b85a1787-0e8e-4426-a668-7777f219ad7a"
      },
      "execution_count": null,
      "outputs": [
        {
          "output_type": "stream",
          "name": "stdout",
          "text": [
            "nitin intni\n",
            "1\n"
          ]
        }
      ]
    },
    {
      "cell_type": "code",
      "source": [
        "#32\n",
        "#beautiful string\n",
        "string=input() \n",
        "beauti=list(set(string))\n",
        "\n",
        "if len(beauti)==3 and len(string)==3:\n",
        "    print(\"1\")\n",
        "else:print(\"0\") "
      ],
      "metadata": {
        "colab": {
          "base_uri": "https://localhost:8080/"
        },
        "id": "Z0SXzfRKTF4y",
        "outputId": "15a0b999-8654-4a5e-b548-25194d28a821"
      },
      "execution_count": null,
      "outputs": [
        {
          "output_type": "stream",
          "name": "stdout",
          "text": [
            "Aab\n",
            "1\n"
          ]
        }
      ]
    },
    {
      "cell_type": "code",
      "source": [
        "#33\n",
        "#Print all the duplicate characters of string.\n",
        "string=input()\n",
        "ans=[]\n",
        "for i in string:\n",
        "    if string.count(i)>=2:\n",
        "         ans.append(i) \n",
        "result=[]\n",
        "for i in ans:\n",
        "    if i not in result:\n",
        "        result.append(i)\n",
        "if result!=[]:print(*result)\n",
        "else:print(\"-1\")"
      ],
      "metadata": {
        "colab": {
          "base_uri": "https://localhost:8080/"
        },
        "id": "F8w0yxp4Zayu",
        "outputId": "1b419bea-dde0-46ad-80a1-b56180d5eedb"
      },
      "execution_count": null,
      "outputs": [
        {
          "output_type": "stream",
          "name": "stdout",
          "text": [
            "abcddee\n",
            "d e\n"
          ]
        }
      ]
    },
    {
      "cell_type": "code",
      "source": [
        "#34\n",
        "#You are given two string ‘s1’ and ‘s2’. You have to tell whether these \n",
        "#form pair of (strset) A pair of strings is said to be str set if one string is substring of other.\n",
        "string=list(map(str,input().split(\" \")))[:2]\n",
        "A=set(string[0])\n",
        "B=set(string[1])\n",
        "if A&B==A or A&B==B:print(\"Yes\")\n",
        "else:print(\"No\") "
      ],
      "metadata": {
        "id": "YrLsY3vrVN26",
        "outputId": "faf2da15-cadb-4928-ed86-c4fc47d0eeae",
        "colab": {
          "base_uri": "https://localhost:8080/"
        }
      },
      "execution_count": null,
      "outputs": [
        {
          "output_type": "stream",
          "name": "stdout",
          "text": [
            "abx ab\n",
            "Yes\n"
          ]
        }
      ]
    },
    {
      "cell_type": "code",
      "source": [
        "#35 kabali"
      ],
      "metadata": {
        "id": "uTuh4Qm2ttSJ"
      },
      "execution_count": null,
      "outputs": []
    },
    {
      "cell_type": "code",
      "source": [
        "#36\n",
        "#palindrome\n",
        "si=[str(x) for x in input().lower()]\n",
        "pali_si=[si[x] for x in range(len(si)-1,-1,-1)]\n",
        "\n",
        "if si==pali_si:\n",
        "    print(\"1\")\n",
        "else:print(\"0\")"
      ],
      "metadata": {
        "colab": {
          "base_uri": "https://localhost:8080/"
        },
        "id": "qQ7ay4vxWnxU",
        "outputId": "728bc4c8-a125-4106-f07f-5700bc5d7ee7"
      },
      "execution_count": null,
      "outputs": [
        {
          "output_type": "stream",
          "name": "stdout",
          "text": [
            "nitin\n",
            "1\n"
          ]
        }
      ]
    },
    {
      "cell_type": "code",
      "source": [
        "#37\n",
        "#case sensitivity\n",
        "s=input().split(\" \")\n",
        "if s[0]==s[1]:print(\"yes\")\n",
        "else:print(\"no\")"
      ],
      "metadata": {
        "colab": {
          "base_uri": "https://localhost:8080/"
        },
        "id": "c5GO-mH7oYVf",
        "outputId": "c426e1f1-7c8a-4869-efd0-6ffa2807f3cc"
      },
      "execution_count": null,
      "outputs": [
        {
          "output_type": "stream",
          "name": "stdout",
          "text": [
            "guvi Guvi\n",
            "no\n"
          ]
        }
      ]
    },
    {
      "cell_type": "code",
      "source": [
        "#38\n",
        "#print the reverse of the string after removing the vowels.If the resulting string is empty print '-1'.\n",
        "s=input()\n",
        "string1=\"\"\n",
        "for i in range(len(s)-1,-1,-1):\n",
        "    if s[i] not in \"AEIOUaeiou\":\n",
        "        string1+=s[i]\n",
        "\n",
        "if string1!=\"\":print(string1)\n",
        "else:print(\"-1\")\n"
      ],
      "metadata": {
        "colab": {
          "base_uri": "https://localhost:8080/"
        },
        "id": "Lqoet7jDsBF7",
        "outputId": "07386df9-ce20-4477-d22b-58b45a874077"
      },
      "execution_count": null,
      "outputs": [
        {
          "output_type": "stream",
          "name": "stdout",
          "text": [
            "codekata\n",
            "tkdc\n"
          ]
        }
      ]
    },
    {
      "cell_type": "code",
      "source": [
        "#print the reverse of the string after removing the vowels.If the resulting string is empty print '-1'.\n",
        "#with list comprehension\n",
        "s=input()\n",
        "string=[s[x] for x in range(len(s)-1,-1,-1) if s[x] not in\"AEIOUaeiou\"]\n",
        "if string!=\"\":print(*string)\n",
        "else:print(\"-1\")"
      ],
      "metadata": {
        "colab": {
          "base_uri": "https://localhost:8080/"
        },
        "id": "QBub9Cx4sInd",
        "outputId": "01042574-cbe5-47ee-d9b4-bc896c2733c8"
      },
      "execution_count": null,
      "outputs": [
        {
          "output_type": "stream",
          "name": "stdout",
          "text": [
            "codekata\n",
            "t k d c\n"
          ]
        }
      ]
    },
    {
      "cell_type": "code",
      "source": [
        "#39\n"
      ],
      "metadata": {
        "id": "ZilsIgiiuOD7"
      },
      "execution_count": null,
      "outputs": []
    },
    {
      "cell_type": "code",
      "source": [
        "#40\n",
        "#print the characters which are not repeated with a single space in between the characters.\n",
        "s=input()\n",
        "string=[s[x] for x in range(len(s)) if s.count(s[x])==1]\n",
        "if string!=[]:print(*string)\n",
        "else:print(\"-1\")"
      ],
      "metadata": {
        "colab": {
          "base_uri": "https://localhost:8080/"
        },
        "id": "rnbZucqTzUcr",
        "outputId": "bb3165ce-8099-4e4c-f641-6a0494af5507"
      },
      "execution_count": null,
      "outputs": [
        {
          "output_type": "stream",
          "name": "stdout",
          "text": [
            "dabbc\n",
            "d a c\n"
          ]
        }
      ]
    },
    {
      "cell_type": "code",
      "source": [
        "#41\n",
        "#print the 1st and 3rd character of the string (chracter index starts from 1).\n",
        "s=input()\n",
        "string=\"\"\n",
        "for i in range(0,3,2):\n",
        "    string+=s[i]\n",
        "print(string)"
      ],
      "metadata": {
        "colab": {
          "base_uri": "https://localhost:8080/"
        },
        "id": "x5g08SaT3Gww",
        "outputId": "1ae38c7e-5816-436e-e82d-cf8b769a5cc3"
      },
      "execution_count": null,
      "outputs": [
        {
          "output_type": "stream",
          "name": "stdout",
          "text": [
            "janu\n",
            "jn\n"
          ]
        }
      ]
    },
    {
      "cell_type": "code",
      "source": [
        "#41\n",
        "#print the 1st and 3rd character of the string (chracter index starts from 1).\n",
        "#with list comprehension\n",
        "s=input()\n",
        "string=[s[x] for x in range(0,3,2) ]\n",
        "print(*string)"
      ],
      "metadata": {
        "colab": {
          "base_uri": "https://localhost:8080/"
        },
        "id": "z1JzAgmz3Q0u",
        "outputId": "31680512-9b60-4282-f7a1-fd3019fd0d85"
      },
      "execution_count": null,
      "outputs": [
        {
          "output_type": "stream",
          "name": "stdout",
          "text": [
            "janu\n",
            "j n\n"
          ]
        }
      ]
    },
    {
      "cell_type": "code",
      "source": [
        "#42\n",
        "#Given a string/sentence remove all the spaces and print the result.\n",
        "s=input().split(\" \")\n",
        "string=\"\"\n",
        "for i in range(len(s)):\n",
        "    string+=s[i]\n",
        "print(string)\n"
      ],
      "metadata": {
        "colab": {
          "base_uri": "https://localhost:8080/"
        },
        "id": "nGwmCb-D4URf",
        "outputId": "9d326419-8650-4db8-b395-bc741733bdd6"
      },
      "execution_count": null,
      "outputs": [
        {
          "output_type": "stream",
          "name": "stdout",
          "text": [
            "guvi geeks\n",
            "guvigeeks\n"
          ]
        }
      ]
    },
    {
      "cell_type": "code",
      "source": [
        "#43 bit gray"
      ],
      "metadata": {
        "id": "J_DJxUS5ueqB"
      },
      "execution_count": null,
      "outputs": []
    },
    {
      "cell_type": "code",
      "source": [
        "#44\n",
        "#remove characters from the S1 which are present in the S2.If S1 becomes empty then print -1\n",
        "s1,s2=list(map(str,input().split(\" \")))[:2]\n",
        "\n",
        "s2=[str(x) for x in s2]\n",
        "ans=\"\"\n",
        "for i in range(len(s1)):\n",
        "    if s1[i] not in s2:\n",
        "        ans+=s1[i]\n",
        "\n",
        "if ans!= \"\" :print(ans)\n",
        "else:print(\"-1\")"
      ],
      "metadata": {
        "colab": {
          "base_uri": "https://localhost:8080/"
        },
        "id": "oolHEGlV4baz",
        "outputId": "698ce04b-79bd-4078-991c-24f1046111fd"
      },
      "execution_count": null,
      "outputs": [
        {
          "output_type": "stream",
          "name": "stdout",
          "text": [
            "guvi geeks\n",
            "uvi\n"
          ]
        }
      ]
    },
    {
      "cell_type": "code",
      "source": [
        "#45\n",
        "#print 'yes' if it is a numeric otherwise print 'no'.\n",
        "s=input()\n",
        "\n",
        "if s.isnumeric():print(\"yes\")\n",
        "else:print(\"no\")"
      ],
      "metadata": {
        "colab": {
          "base_uri": "https://localhost:8080/"
        },
        "id": "kVX-Alhvupyh",
        "outputId": "7bc70115-d72e-4ee8-bb30-8c260346cbda"
      },
      "execution_count": null,
      "outputs": [
        {
          "output_type": "stream",
          "name": "stdout",
          "text": [
            "guvigeeks\n",
            "no\n"
          ]
        }
      ]
    },
    {
      "cell_type": "code",
      "source": [
        "#46\n",
        "#Given a sentence S take out the extra spaces.If no extra space is present print the same as output.\n",
        "s=input().split()\n",
        "string=[s[i].strip() for i in range(len(s))]\n",
        "print(*string)\n"
      ],
      "metadata": {
        "colab": {
          "base_uri": "https://localhost:8080/"
        },
        "id": "1zDPSaykg5bz",
        "outputId": "d5c6a8df-4d4b-4c88-8e10-218f42fc2924"
      },
      "execution_count": null,
      "outputs": [
        {
          "output_type": "stream",
          "name": "stdout",
          "text": [
            " guvi code\n",
            "guvi code\n"
          ]
        }
      ]
    },
    {
      "cell_type": "code",
      "source": [
        "#47\n",
        "#Given a number N,check whether it has repeating digits in it.print 'yes' if it has repeating digits otherwise print 'no'.\n",
        "string=[str(x) for x in input()]\n",
        "set_string=set(string)\n",
        "if len(string)==len(set_string):\n",
        "    print(\"no\") \n",
        "else:print(\"yes\")"
      ],
      "metadata": {
        "colab": {
          "base_uri": "https://localhost:8080/"
        },
        "id": "MTG-95hdiNOs",
        "outputId": "077ae7eb-41a1-4c37-89a5-9f0d1f7db294"
      },
      "execution_count": null,
      "outputs": [
        {
          "output_type": "stream",
          "name": "stdout",
          "text": [
            "11245\n",
            "yes\n"
          ]
        }
      ]
    },
    {
      "cell_type": "code",
      "source": [
        "#48\n",
        "#Given 2 strings,check whether they have any common characters.If found print 'yes' else print 'no'.\n",
        "s1,s2=list(map(str,input().split(\" \")))[:2]\n",
        "if (s2 in s1) or (s1 in s2)  :print(\"yes\")\n",
        "else:print(\"no\")"
      ],
      "metadata": {
        "colab": {
          "base_uri": "https://localhost:8080/"
        },
        "id": "yxGCdCTbiSjI",
        "outputId": "38690a6f-88d5-42ea-8ec6-db9674be97cf"
      },
      "execution_count": null,
      "outputs": [
        {
          "output_type": "stream",
          "name": "stdout",
          "text": [
            "codekata code\n",
            "yes\n"
          ]
        }
      ]
    },
    {
      "cell_type": "code",
      "source": [
        "#49\n",
        "#Given 2 strings.check if the second string is a substring of the first string.\n",
        "#Print 'yes' if there exists a valid substring otherwise print 'no'.\n",
        "s1,s2=list(map(str,input().split(\" \")))[:2]\n",
        "if (s2 in s1)  :print(\"yes\")\n",
        "else:print(\"no\")"
      ],
      "metadata": {
        "colab": {
          "base_uri": "https://localhost:8080/"
        },
        "id": "Gk3kjgcTm3aA",
        "outputId": "41ea4673-b061-4fde-e5b0-372a39c0b79c"
      },
      "execution_count": null,
      "outputs": [
        {
          "output_type": "stream",
          "name": "stdout",
          "text": [
            "guvigeek guvi\n",
            "yes\n"
          ]
        }
      ]
    },
    {
      "cell_type": "code",
      "source": [
        "#50\n",
        "#Given 2 numbers n and m, n pairs of numbers a and b are given.\n",
        "# In each pair 'a' means a person can start moving from point 'a' in the x axis\n",
        "# to point 'b'(he can visit any point in between). Find if he can visit point m.\n",
        "n,m=list(map(int,input().split(\" \")))[:2]\n",
        "rows=[list(map(int,input().split(\" \")))[:2] for i in range(n)]\n",
        "ans=[]\n",
        "for i in rows:\n",
        "    elem=[int(j) for j in i]\n",
        "    if m in elem:\n",
        "        ans.append(i)\n",
        "print(rows)\n",
        "print(ans)        \n",
        "if ans!=[]:print(\"yes\")\n",
        "else:print(\"no\")"
      ],
      "metadata": {
        "colab": {
          "base_uri": "https://localhost:8080/"
        },
        "id": "wmfk8MyUTDJL",
        "outputId": "4e8b76c5-58df-4741-cfe0-d12449e9ff61"
      },
      "execution_count": null,
      "outputs": [
        {
          "output_type": "stream",
          "name": "stdout",
          "text": [
            "2 6\n",
            "1 2\n",
            "1 6\n",
            "[[1, 2], [1, 6]]\n",
            "[[1, 6]]\n",
            "yes\n"
          ]
        }
      ]
    },
    {
      "cell_type": "code",
      "source": [
        "#51\n",
        "#Given a number N, find the number of ones in its binary representation.\n",
        "n=int(input())\n",
        "bin_val=format(n,\"b\")\n",
        "print(bin_val)\n",
        "  \n",
        "ans=[int(x) for x in bin_val if x==\"1\"]\n",
        "result=sum(ans)\n",
        "print(*ans)\n",
        "print(result)"
      ],
      "metadata": {
        "id": "pm7XPkPWWbtU",
        "outputId": "1453d6fc-6ae6-432d-f6df-3deaeaa5d91c",
        "colab": {
          "base_uri": "https://localhost:8080/"
        }
      },
      "execution_count": null,
      "outputs": [
        {
          "output_type": "stream",
          "name": "stdout",
          "text": [
            "276\n",
            "100010100\n",
            "1 1 1\n",
            "3\n"
          ]
        }
      ]
    },
    {
      "cell_type": "code",
      "source": [
        "#52 binary\n",
        "input_n=input()\n",
        "int_input_n=int(input_n,2)\n",
        "hex_n=hex(int_input_n)\n",
        "print(hex_n[2:])"
      ],
      "metadata": {
        "colab": {
          "base_uri": "https://localhost:8080/"
        },
        "id": "jZjpVKx5vQs0",
        "outputId": "f070e9a5-8a19-4cda-9014-466622202380"
      },
      "execution_count": null,
      "outputs": [
        {
          "output_type": "stream",
          "name": "stdout",
          "text": [
            "1100100\n",
            "64\n"
          ]
        }
      ]
    },
    {
      "cell_type": "code",
      "source": [
        "#53 Binary\n",
        "bin_n=bin(int(input()))\n",
        "rev_bin_n=bin_n[::-1]\n",
        "index=(rev_bin_n.index(\"1\"))+1\n",
        "print(index)"
      ],
      "metadata": {
        "colab": {
          "base_uri": "https://localhost:8080/"
        },
        "id": "XplGXwHrvYrr",
        "outputId": "1c85fbc6-7946-4a68-cb1e-93800c74c750"
      },
      "execution_count": null,
      "outputs": [
        {
          "output_type": "stream",
          "name": "stdout",
          "text": [
            "18\n",
            "2\n"
          ]
        }
      ]
    },
    {
      "cell_type": "code",
      "source": [
        "#54\n",
        "\n",
        "n=int(input())\n",
        "string=[]\n",
        "for i in range(n):\n",
        "    i=str(input())\n",
        "    string.append(i)\n",
        "\n",
        "\n",
        "ans=[\"1\" for i in range(n-1) if string[i]==string[i+1]]\n",
        "if ans!=[]:print(\"yes\")\n",
        "else:print(\"no\")v"
      ],
      "metadata": {
        "colab": {
          "base_uri": "https://localhost:8080/"
        },
        "id": "MKoIhcFyvrkC",
        "outputId": "f3938a0f-db3f-442c-f085-060d00da3c3e"
      },
      "execution_count": null,
      "outputs": [
        {
          "output_type": "stream",
          "name": "stdout",
          "text": [
            "5\n",
            "code\n",
            "overload\n",
            "ishal\n",
            "sundar\n",
            "anish\n",
            "no\n"
          ]
        }
      ]
    },
    {
      "cell_type": "code",
      "source": [
        "#55\n",
        "#Given a string and a number K.Print every kth character from the beginning.\n",
        "s,n=list(map(str,input().split(\" \")))[:2]\n",
        "ans=[s[i] for i in range(int(n)-1,len(s),int(n))]\n",
        "print(*ans)"
      ],
      "metadata": {
        "colab": {
          "base_uri": "https://localhost:8080/"
        },
        "id": "_xpmz94eZ0do",
        "outputId": "3d7d1d17-ff31-4e82-8050-872b50bf5f3f"
      },
      "execution_count": null,
      "outputs": [
        {
          "output_type": "stream",
          "name": "stdout",
          "text": [
            "string 3\n",
            "r g\n"
          ]
        }
      ]
    },
    {
      "cell_type": "code",
      "source": [
        "#56\n",
        "#Given a day, print 'yes' if it is a holiday otherwise print'no'.Assume that weekend days are holidays\n",
        "we=[\"saturday\",\"sunday\"]\n",
        "#wd=[\"monday\",\"tuesday\",\"wednesday\",\"thursday\",\"friday\"]\n",
        "ui=input().lower()\n",
        "if ui in we:print(\"yes\")\n",
        "else:print(\"no\")"
      ],
      "metadata": {
        "colab": {
          "base_uri": "https://localhost:8080/"
        },
        "id": "TnpwOxWAdaLE",
        "outputId": "5831976c-ab7b-4cdb-9825-1034feb508ea"
      },
      "execution_count": null,
      "outputs": [
        {
          "output_type": "stream",
          "name": "stdout",
          "text": [
            "monday\n",
            "no\n"
          ]
        }
      ]
    },
    {
      "cell_type": "code",
      "source": [
        "#57\n",
        "#Given 2 strings S,X. Print the string after deleting X.If X not found print the same string.\n",
        "s,x=[input() for i in range(2)]\n",
        "s=list(s.split(\" \"))\n",
        "ans=[s[i] for i in range(len(s)) if s[i]!=x]\n",
        "print(*ans)h"
      ],
      "metadata": {
        "colab": {
          "base_uri": "https://localhost:8080/"
        },
        "id": "yfZXO32Qi37j",
        "outputId": "0f3b2339-1a86-4e99-95e0-6c1911afaa53"
      },
      "execution_count": null,
      "outputs": [
        {
          "output_type": "stream",
          "name": "stdout",
          "text": [
            "happy birthday\n",
            "happy\n",
            "birthday\n"
          ]
        }
      ]
    },
    {
      "cell_type": "code",
      "source": [
        "#58\n",
        "#Given 2 numbers N,K and an array of N strings, find if any K consecutive strings are same.\n",
        "n,k=list(map(int,input().split(\" \")))[:2]\n",
        "ui=[input() for i in range(n)]\n",
        "counter=[ui.count(ui[i]) for i in range(n)]\n",
        "if k in counter:\n",
        "    k_ind=counter.index(k)\n",
        "\n",
        "    conseq_list=list(counter[k_ind:(k_ind+k)])    \n",
        "    formula=sum(conseq_list)/k\n",
        "    if int(formula)==k:print(\"yes\")\n",
        "    else:print(\"no\")\n",
        "else:print(\"no\")"
      ],
      "metadata": {
        "colab": {
          "base_uri": "https://localhost:8080/"
        },
        "id": "nGObnLIrsJcE",
        "outputId": "4d6bf751-f004-43ed-c3d0-294337076ece"
      },
      "execution_count": null,
      "outputs": [
        {
          "output_type": "stream",
          "name": "stdout",
          "text": [
            "5 3\n",
            "sai\n",
            "kal\n",
            "kal\n",
            "kal\n",
            "jan\n",
            "yes\n"
          ]
        }
      ]
    },
    {
      "cell_type": "code",
      "source": [
        "#59\n",
        "string=input().upper()\n",
        "alpha=\"ABCDEFGHIJKLMNOPQRSTUVWXYZABC\"\n",
        "out=\"\"\n",
        "for i in string:\n",
        "    i_index=alpha.index(i)\n",
        "    \n",
        "    out+=alpha[(i_index+3)] \n",
        "print(out)"
      ],
      "metadata": {
        "colab": {
          "base_uri": "https://localhost:8080/"
        },
        "id": "ayu6fLJRwXXZ",
        "outputId": "103c09a7-bbd6-4480-8b34-1fb9a082a097"
      },
      "execution_count": null,
      "outputs": [
        {
          "output_type": "stream",
          "name": "stdout",
          "text": [
            "RAdar\n",
            "UDGDU\n"
          ]
        }
      ]
    },
    {
      "cell_type": "code",
      "source": [
        "#60\n",
        "#Given a sentence interchange the between the word 'and'.\n",
        "ui=[str(i) for i in input().split(\" \")]\n",
        "ans=[]\n",
        "for i in range(1,len(ui)-1):\n",
        "    if ui[i]==\"and\":\n",
        "        ui[i-1],ui[i+1]=ui[i+1],ui[i-1]\n",
        "print(*ui)    "
      ],
      "metadata": {
        "colab": {
          "base_uri": "https://localhost:8080/"
        },
        "id": "8fuYeoZtwlpc",
        "outputId": "3ecee113-76b8-480f-8537-c633ec9509e0"
      },
      "execution_count": null,
      "outputs": [
        {
          "output_type": "stream",
          "name": "stdout",
          "text": [
            "jack and jill went up and down to get water\n",
            "jill and jack went down and up to get water\n"
          ]
        }
      ]
    },
    {
      "cell_type": "code",
      "source": [
        "#61\n",
        "#Given a string S, retain the character(s) once irrespective of number of times it occurs in the given string.\n",
        "ui=input()\n",
        "ans=\"\"\n",
        "for i in range(len(ui)):\n",
        "    if ui[i] not in ans:\n",
        "        ans+=ui[i]\n",
        "        \n",
        "print(ans)"
      ],
      "metadata": {
        "colab": {
          "base_uri": "https://localhost:8080/"
        },
        "id": "zNpesGXVy64S",
        "outputId": "b5585765-3fa7-4cfb-b314-9cb82ce5e155"
      },
      "execution_count": null,
      "outputs": [
        {
          "output_type": "stream",
          "name": "stdout",
          "text": [
            "aabbbaaa\n",
            "ab\n"
          ]
        }
      ]
    },
    {
      "cell_type": "code",
      "source": [
        "#62\n",
        "#A number is given as input.Find the maximum number that can be formed using the digits.\n",
        "digits=[int(i) for i in input()]\n",
        "sorted_digits=sorted(digits,reverse=True)\n",
        "ans=\"\"\n",
        "for i in sorted_digits:\n",
        "    ans+=(str(i))\n",
        "print(ans)"
      ],
      "metadata": {
        "colab": {
          "base_uri": "https://localhost:8080/"
        },
        "id": "TUVGQ0Q5gk-_",
        "outputId": "c590055c-c2b1-4690-a1a3-e7725c7d25b5"
      },
      "execution_count": null,
      "outputs": [
        {
          "output_type": "stream",
          "name": "stdout",
          "text": [
            "1253\n",
            "5321\n"
          ]
        }
      ]
    },
    {
      "cell_type": "code",
      "source": [
        "#63\n",
        "#Given a number N and an array of N strings,Print yes, if all strings have atleast one vowel in them otherwise print no.\n",
        "def get_arr_input(N):\n",
        "    array=[]\n",
        "    for i in range(N):\n",
        "        i=str(input())\n",
        "        array.append(i)\n",
        "    return array\n",
        "        \n",
        "def vowel_search(arr):\n",
        "    vowel=\"AEIOUaeiou\"\n",
        "    counter=0\n",
        "    for i in arr:\n",
        "        co=0\n",
        "        for j in i:\n",
        "            if vowel.count(j)>=1:co=co+1\n",
        "        if co!=0:counter=counter+1\n",
        "        \n",
        "    if counter==N:print(\"yes\")\n",
        "    else:print(\"no\")\n",
        "            \n",
        "N=int(input())\n",
        "     \n",
        "arr=get_arr_input(N)\n",
        "ans=vowel_search(arr)"
      ],
      "metadata": {
        "colab": {
          "base_uri": "https://localhost:8080/"
        },
        "id": "gG6YLMvrxAbi",
        "outputId": "69daf400-f151-46fc-a41f-3a52f4844225"
      },
      "execution_count": null,
      "outputs": [
        {
          "output_type": "stream",
          "name": "stdout",
          "text": [
            "5\n",
            "code\n",
            "over\n",
            "vishal\n",
            "sundar\n",
            "amish\n",
            "yes\n"
          ]
        }
      ]
    },
    {
      "cell_type": "code",
      "source": [
        "#64 Binary\n",
        "n=input()\n",
        "int_n=int(n,2)\n",
        "oct_n=oct(int_n)\n",
        "print(oct_n[2:])"
      ],
      "metadata": {
        "colab": {
          "base_uri": "https://localhost:8080/"
        },
        "id": "W0cBvv0HxNsE",
        "outputId": "53ae8ccb-9bf6-4a09-c2c9-8a2df21cc1c4"
      },
      "execution_count": null,
      "outputs": [
        {
          "output_type": "stream",
          "name": "stdout",
          "text": [
            "1100100\n",
            "144\n"
          ]
        }
      ]
    },
    {
      "cell_type": "code",
      "source": [
        "#65\n",
        "#Given a String S and a string P, find if P is a substring of S. Print 'yes' if it is a substring else 'no'.\n",
        "p,s=list(map(str,input().split(\" \")))[:2]\n",
        "\n",
        "out=[s[i] for i in range(len(s)) if p.count(s[i])>=1]\n",
        "if len(out)==len(s):\n",
        "    print(\"yes\")\n",
        "else:print(\"no\")"
      ],
      "metadata": {
        "colab": {
          "base_uri": "https://localhost:8080/"
        },
        "id": "0kNhYjKXm4qv",
        "outputId": "d9655662-ab06-4884-fe0a-3cf748f88067"
      },
      "execution_count": null,
      "outputs": [
        {
          "output_type": "stream",
          "name": "stdout",
          "text": [
            "sundar sun\n",
            "yes\n"
          ]
        }
      ]
    },
    {
      "cell_type": "code",
      "source": [
        "#66\n",
        "#Given 2 numbers N,K and an array of N integers, find if the element K exists in the array.\n",
        "def binary_search(string,K):\n",
        "    N=len(string)\n",
        "    if N==1 and string[N-1]==K:print(\"yes\")\n",
        "    if N>1 and string[N//2]==K:print(\"yes\")\n",
        "    elif N>1 and string[N//2]<K:\n",
        "        string=string[(N//2)+1:(N+1)]\n",
        "        binary_search(string,K)\n",
        "    elif N>1 and string[N//2]>K:\n",
        "        string=string[:(N//2)]\n",
        "        binary_search(string,K)    \n",
        "    else:print(\"no\")\n",
        "    \n",
        "N,K=list(map(int,input().split(\" \")))[:2]\n",
        "user_in=sorted(list(map(int,input().split(\" \")))[:N])\n",
        "ans=binary_search(user_in,K)1 2"
      ],
      "metadata": {
        "colab": {
          "base_uri": "https://localhost:8080/"
        },
        "id": "9c8xjRqDxgO8",
        "outputId": "ab0fd2e0-0f4a-43ff-a835-4af27f83324a"
      },
      "execution_count": null,
      "outputs": [
        {
          "output_type": "stream",
          "name": "stdout",
          "text": [
            "5 2\n",
            "1 2 3 4 5\n",
            "yes\n"
          ]
        }
      ]
    },
    {
      "cell_type": "code",
      "source": [
        "#67\n",
        "#Given a string S, print the reverse of the string.\n",
        "string=input()\n",
        "print(string[::-1])"
      ],
      "metadata": {
        "colab": {
          "base_uri": "https://localhost:8080/"
        },
        "id": "t3MhV46wxt71",
        "outputId": "50cc8a7c-56b4-4fbe-a197-29c8667c4850"
      },
      "execution_count": null,
      "outputs": [
        {
          "output_type": "stream",
          "name": "stdout",
          "text": [
            "code\n",
            "edoc\n"
          ]
        }
      ]
    },
    {
      "cell_type": "code",
      "source": [
        "#68\n",
        "#Given a string print reverse all words except the first and last words.\n",
        "\n",
        "string=input().split(\" \")\n",
        "ans=[string[0]]\n",
        "for i in range(1,len(string)-1):\n",
        "    new_i=\"\"\n",
        "    for j in range(len(string[i])-1,-1,-1):\n",
        "        new_i+=string[i][j]\n",
        "    ans.append(new_i)    \n",
        "ans.append(string[-1])       \n",
        "print(*ans) "
      ],
      "metadata": {
        "colab": {
          "base_uri": "https://localhost:8080/"
        },
        "id": "Jgx9Nq8WtEIl",
        "outputId": "cd319bf9-86f0-4052-f12b-52024dc39efa"
      },
      "execution_count": null,
      "outputs": [
        {
          "output_type": "stream",
          "name": "stdout",
          "text": [
            "Hi how are you\n",
            "Hi woh era you\n"
          ]
        }
      ]
    },
    {
      "cell_type": "code",
      "source": [
        "#69\n",
        "#Given a string S of length N, reverse the case of each letter.\n",
        "string=input()\n",
        "out=\"\"\n",
        "for i in range(len(string)):\n",
        "    if string[i].islower():\n",
        "        out+=string[i].upper()\n",
        "    else:out+=string[i].lower()\n",
        "print(out)"
      ],
      "metadata": {
        "id": "dE5T7afmuJGA",
        "outputId": "f2ac4fb5-a49b-410d-f62b-7c9b638742f0",
        "colab": {
          "base_uri": "https://localhost:8080/"
        }
      },
      "execution_count": null,
      "outputs": [
        {
          "output_type": "stream",
          "name": "stdout",
          "text": [
            "hElLo\n",
            "HeLlO\n"
          ]
        }
      ]
    },
    {
      "cell_type": "code",
      "source": [
        "#70\n",
        "#Given a string 'S' and a character 'K', find how many times 'K' got repeated in 'S'.If 'K' is not found in 'S' print -1\n",
        "string,a=list(map(str,input().split(\" \")))[:2]\n",
        "count_a=[string.count(a) if a in string else \"-1\"]\n",
        "print(*count_a)"
      ],
      "metadata": {
        "colab": {
          "base_uri": "https://localhost:8080/"
        },
        "id": "sFS9E8hgyM90",
        "outputId": "fd1edc6b-6dfc-4e04-db1c-3d19dff73422"
      },
      "execution_count": null,
      "outputs": [
        {
          "output_type": "stream",
          "name": "stdout",
          "text": [
            "codekata a\n",
            "2\n"
          ]
        }
      ]
    },
    {
      "cell_type": "code",
      "source": [
        "#71"
      ],
      "metadata": {
        "id": "u2OGN1QHyh74"
      },
      "execution_count": null,
      "outputs": []
    },
    {
      "cell_type": "code",
      "source": [
        "#72\n",
        "#Given a string S,count the maximum number of times a character repeated in the string.If no character is repeated print '0'.\n",
        "string=[str(x) for x in input()]\n",
        "count=[string.count(i) for i in string ]\n",
        "\n",
        "print(max(count))"
      ],
      "metadata": {
        "colab": {
          "base_uri": "https://localhost:8080/"
        },
        "id": "-QQvmZpbyiCZ",
        "outputId": "35e1f294-9c8b-4480-9cbc-a0a59b42330c"
      },
      "execution_count": null,
      "outputs": [
        {
          "output_type": "stream",
          "name": "stdout",
          "text": [
            "codekata\n",
            "2\n"
          ]
        }
      ]
    },
    {
      "cell_type": "code",
      "source": [
        "#73\n",
        "#valid PAN\n",
        "import re\n",
        "\n",
        "string= input()\n",
        "regex=r'(([A-Z]{5})([0-9]{4})([A-Z]{1}))'\n",
        "match=re.search(regex,string)\n",
        "if match!=None:\n",
        "    print(\"pan\")\n",
        "else:print(\"not pan\")\n"
      ],
      "metadata": {
        "colab": {
          "base_uri": "https://localhost:8080/"
        },
        "id": "crYf9srSyxhD",
        "outputId": "1f70cc57-3bdf-4801-8667-5add6b6fc4a2"
      },
      "execution_count": null,
      "outputs": [
        {
          "output_type": "stream",
          "name": "stdout",
          "text": [
            "HXTPS2142R\n",
            "pan\n"
          ]
        }
      ]
    },
    {
      "cell_type": "code",
      "source": [
        "#74\n",
        "#Given a string S change upper case to lowercase and lowercase to uppercase.\n",
        "\n",
        "string= input()\n",
        "ans=''\n",
        "for i in string:\n",
        "    if i.islower():\n",
        "        ans+=i.upper()\n",
        "    else:\n",
        "        ans+=i.lower()\n",
        "\n",
        "print(ans)"
      ],
      "metadata": {
        "colab": {
          "base_uri": "https://localhost:8080/"
        },
        "id": "uMXdurzMyg0R",
        "outputId": "5a44542e-f513-4b12-a761-d317ec39de07"
      },
      "execution_count": 1,
      "outputs": [
        {
          "output_type": "stream",
          "name": "stdout",
          "text": [
            "CodEkaTa\n",
            "cODeKAtA\n"
          ]
        }
      ]
    },
    {
      "cell_type": "code",
      "source": [
        "#75\n",
        "#Given a input string S, reverse the given string by appending each character of the string with '-'.\n",
        "string= input()\n",
        "string=string[::-1]\n",
        "ans=''\n",
        "for i in string:\n",
        "    ans+=i+\"-\"\n",
        "ans=ans.rstrip(\"-\")\n",
        "print(ans)"
      ],
      "metadata": {
        "colab": {
          "base_uri": "https://localhost:8080/"
        },
        "id": "Fb4apWWzytKK",
        "outputId": "f9f85c70-ee20-4cc2-e2b2-d3a847a92e7d"
      },
      "execution_count": 2,
      "outputs": [
        {
          "output_type": "stream",
          "name": "stdout",
          "text": [
            "codekata\n",
            "a-t-a-k-e-d-o-c\n"
          ]
        }
      ]
    },
    {
      "cell_type": "code",
      "source": [],
      "metadata": {
        "id": "sd9n9evsytM6"
      },
      "execution_count": null,
      "outputs": []
    },
    {
      "cell_type": "code",
      "source": [],
      "metadata": {
        "id": "NmKqxNWCytRG"
      },
      "execution_count": null,
      "outputs": []
    },
    {
      "cell_type": "code",
      "source": [],
      "metadata": {
        "id": "fBe49G5HytU-"
      },
      "execution_count": null,
      "outputs": []
    },
    {
      "cell_type": "code",
      "source": [
        "#The first line is an integer N denoting the number of strings. \n",
        "#The next line contains N space separated strings containing lower case English Alphabets.\n",
        "n=int(input())\n",
        "s=list(map(str,input().lower().split(\" \")))[:n]\n",
        "S=sorted(s)\n",
        "\n",
        "print(*S)"
      ],
      "metadata": {
        "colab": {
          "base_uri": "https://localhost:8080/"
        },
        "id": "M6zvAOGTeNR6",
        "outputId": "938e8b69-b5be-4908-fc0d-a65e42723317"
      },
      "execution_count": null,
      "outputs": [
        {
          "output_type": "stream",
          "name": "stdout",
          "text": [
            "2\n",
            "age bag axe\n",
            "age bag\n"
          ]
        }
      ]
    },
    {
      "cell_type": "code",
      "source": [
        "#You are given a string s.Your task is to remove all the adjacent duplicate\n",
        "# character from string.Print the string formed out of it.\n",
        "s=input()\n",
        "ans=\"\"\n",
        "for i in range(len(s)):\n",
        "    if i==0 and s[i]!=s[i+1]:\n",
        "        ans+=s[i]\n",
        "    if i!=0 and i<len(s)-1 and s[i]!=s[i+1] and s[i]!=s[i-1]:\n",
        "        ans+=s[i]\n",
        "    if i==len(s)-1 and  s[i]!=s[i-1]:\n",
        "        ans+=s[i]\n",
        "print(ans)"
      ],
      "metadata": {
        "colab": {
          "base_uri": "https://localhost:8080/"
        },
        "id": "LkgndKy8jLG5",
        "outputId": "30fce563-f8bc-43c8-ffc0-e1f4b88fd93d"
      },
      "execution_count": null,
      "outputs": [
        {
          "output_type": "stream",
          "name": "stdout",
          "text": [
            "geeksforgeeks\n",
            "gksforgks\n"
          ]
        }
      ]
    },
    {
      "cell_type": "code",
      "source": [
        "#Given a string of length N, find the longest palindromic substring.\n",
        "def combinations(L):\n",
        "    if L:\n",
        "        result=combinations(L[:-1])\n",
        "        return result+[i+[L[-1]] for i in result]\n",
        "    else: \n",
        "        return [[]]\n",
        "    \n",
        "\n",
        "s=list(map(str,input()))\n",
        "combi=combinations(s)\n",
        "palin_combi=[]\n",
        "for i in range(len(combi)):\n",
        "    \n",
        "    I=combi[i]\n",
        "    rev_combi=[I[j] for j in range(len(I)-1,-1,-1)]\n",
        "    if I==rev_combi:palin_combi.append(I)\n",
        "        \n",
        "print(palin_combi)   \n",
        "palin_len=[len(i) for i in palin_combi] \n",
        "print(palin_len)\n",
        "max_palin_len=max(palin_len)    \n",
        "max_palin=[]\n",
        "       \n",
        "for i in palin_combi:\n",
        "    if len(i)==max_palin_len:\n",
        "        max_palin.append(i)     \n",
        "ans=\"\"\n",
        "for i in range(max_palin_len):\n",
        "    ans+=max_palin[0][i]\n",
        "   \n",
        "print(ans)"
      ],
      "metadata": {
        "colab": {
          "base_uri": "https://localhost:8080/"
        },
        "id": "b7trMBCnH-0N",
        "outputId": "56411ccf-4d96-4238-ac61-62251b75c017"
      },
      "execution_count": null,
      "outputs": [
        {
          "output_type": "stream",
          "name": "stdout",
          "text": [
            "DIEHEIDI\n",
            "[[], ['D'], ['I'], ['E'], ['H'], ['E'], ['E', 'E'], ['E', 'H', 'E'], ['I'], ['I', 'I'], ['I', 'E', 'I'], ['I', 'H', 'I'], ['I', 'E', 'I'], ['I', 'E', 'E', 'I'], ['I', 'E', 'H', 'E', 'I'], ['D'], ['D', 'D'], ['D', 'I', 'D'], ['D', 'E', 'D'], ['D', 'H', 'D'], ['D', 'E', 'D'], ['D', 'E', 'E', 'D'], ['D', 'E', 'H', 'E', 'D'], ['D', 'I', 'D'], ['D', 'I', 'I', 'D'], ['D', 'I', 'E', 'I', 'D'], ['D', 'I', 'H', 'I', 'D'], ['D', 'I', 'E', 'I', 'D'], ['D', 'I', 'E', 'E', 'I', 'D'], ['D', 'I', 'E', 'H', 'E', 'I', 'D'], ['I'], ['I', 'I'], ['I', 'E', 'I'], ['I', 'H', 'I'], ['I', 'E', 'I'], ['I', 'E', 'E', 'I'], ['I', 'E', 'H', 'E', 'I'], ['I', 'I'], ['I', 'I', 'I'], ['I', 'D', 'I'], ['I', 'D', 'I']]\n",
            "[0, 1, 1, 1, 1, 1, 2, 3, 1, 2, 3, 3, 3, 4, 5, 1, 2, 3, 3, 3, 3, 4, 5, 3, 4, 5, 5, 5, 6, 7, 1, 2, 3, 3, 3, 4, 5, 2, 3, 3, 3]\n",
            "DIEHEID\n"
          ]
        }
      ]
    },
    {
      "cell_type": "code",
      "source": [
        "inp=input()\n",
        "possible_combi = [inp[i: j] for i in range(len(inp)) for j in range(i + 1, len(inp) + 1)]\n",
        "print(possible_combi)\n",
        "out=[i for i in possible_combi if i==i[::-1]]\n",
        "out_len=[len(i) for i in out]\n",
        "max_len_index=out_len.index(max(out_len))\n",
        "print(out[max_len_index])"
      ],
      "metadata": {
        "colab": {
          "base_uri": "https://localhost:8080/"
        },
        "id": "79JjU_OI3mFI",
        "outputId": "6628e896-d875-46d8-e99d-b0c28a75d8b0"
      },
      "execution_count": null,
      "outputs": [
        {
          "output_type": "stream",
          "name": "stdout",
          "text": [
            "DIEHEIDI\n",
            "['D', 'DI', 'DIE', 'DIEH', 'DIEHE', 'DIEHEI', 'DIEHEID', 'DIEHEIDI', 'I', 'IE', 'IEH', 'IEHE', 'IEHEI', 'IEHEID', 'IEHEIDI', 'E', 'EH', 'EHE', 'EHEI', 'EHEID', 'EHEIDI', 'H', 'HE', 'HEI', 'HEID', 'HEIDI', 'E', 'EI', 'EID', 'EIDI', 'I', 'ID', 'IDI', 'D', 'DI', 'I']\n",
            "DIEHEID\n"
          ]
        }
      ]
    },
    {
      "cell_type": "code",
      "source": [
        "import regex as re\n",
        "inp=input()\n",
        "patern=re.compile(r'^([a-z]{3,})(@?)([a-z]{4,})(.?)([com]+$)')\n",
        "\n",
        "print(\"yes\" if re.fullmatch(patern,inp) else \"no\")"
      ],
      "metadata": {
        "colab": {
          "base_uri": "https://localhost:8080/"
        },
        "id": "FkSE0Vwu3WMG",
        "outputId": "142f6f35-3555-4cd5-d87c-2cbae4e4847f"
      },
      "execution_count": null,
      "outputs": [
        {
          "output_type": "stream",
          "name": "stdout",
          "text": [
            "janu@gmail.com\n",
            "yes\n"
          ]
        }
      ]
    }
  ]
}